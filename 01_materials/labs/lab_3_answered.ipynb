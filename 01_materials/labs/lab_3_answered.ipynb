{
 "cells": [
  {
   "cell_type": "markdown",
   "metadata": {},
   "source": [
    "# Recommender Systems\n",
    "\n",
    "In this lab, we'll be using Keras to build a recommender system. We'll be using the MovieLens dataset, a common benchmark dataset for recommender systems. \n",
    "\n",
    "MovieLens is a web-based recommender system and virtual community that recommends movies for its users to watch, based on their film preferences using collaborative filtering of members' movie ratings and movie reviews. You can check out the website here: https://movielens.org/\n",
    "\n",
    "We will download a subset of the dataset containing 100k ratings. There are tens of millions of ratings in the full dataset, spanning hundreds of thousands of users and movies. The subset we'll be using is a good example to demonstrate the concepts in this lab."
   ]
  },
  {
   "cell_type": "code",
   "execution_count": 2,
   "metadata": {},
   "outputs": [],
   "source": [
    "%matplotlib inline\n",
    "import matplotlib.pyplot as plt\n",
    "import numpy as np\n",
    "from zipfile import ZipFile\n",
    "from urllib.request import urlretrieve\n",
    "from pathlib import Path\n",
    "\n",
    "ML_100K_URL = \"http://files.grouplens.org/datasets/movielens/ml-100k.zip\"\n",
    "ML_100K_FILENAME = Path(\"ml-100k.zip\")\n",
    "ML_100K_FOLDER = Path(\"ml-100k\")\n",
    "\n",
    "if not ML_100K_FOLDER.exists():\n",
    "    if not ML_100K_FILENAME.exists():\n",
    "        urlretrieve(ML_100K_URL, ML_100K_FILENAME.name)\n",
    "    with ZipFile(ML_100K_FILENAME.name) as zipf:\n",
    "        zip.extractall()"
   ]
  },
  {
   "cell_type": "markdown",
   "metadata": {},
   "source": [
    "The goal of MovieLens is to enable models to predict the rating a user would give to a movie they have not yet watched. This is a classic example of a recommendation system. The dataset is huge, and contains many parts giving information about the movies, the users, and the ratings. To begin with, we will look at the ratings file. Each line in the ratings file (u.data) is formatted as:\n",
    "\n",
    "`user_id, item_id, rating, timestamp`\n",
    "\n",
    "Which tells us a single user's rating of a single movie.\n",
    "\n",
    "We will start by loading the ratings data into a pandas dataframe and then take a look at the first few rows. If you haven't used Pandas before, it's an extremely powerful library for dealing with tabular data. You can think of it as a Python version of Excel."
   ]
  },
  {
   "cell_type": "code",
   "execution_count": 3,
   "metadata": {},
   "outputs": [
    {
     "data": {
      "text/html": [
       "<div>\n",
       "<style scoped>\n",
       "    .dataframe tbody tr th:only-of-type {\n",
       "        vertical-align: middle;\n",
       "    }\n",
       "\n",
       "    .dataframe tbody tr th {\n",
       "        vertical-align: top;\n",
       "    }\n",
       "\n",
       "    .dataframe thead th {\n",
       "        text-align: right;\n",
       "    }\n",
       "</style>\n",
       "<table border=\"1\" class=\"dataframe\">\n",
       "  <thead>\n",
       "    <tr style=\"text-align: right;\">\n",
       "      <th></th>\n",
       "      <th>user_id</th>\n",
       "      <th>item_id</th>\n",
       "      <th>rating</th>\n",
       "      <th>timestamp</th>\n",
       "    </tr>\n",
       "  </thead>\n",
       "  <tbody>\n",
       "    <tr>\n",
       "      <th>0</th>\n",
       "      <td>196</td>\n",
       "      <td>242</td>\n",
       "      <td>3</td>\n",
       "      <td>881250949</td>\n",
       "    </tr>\n",
       "    <tr>\n",
       "      <th>1</th>\n",
       "      <td>186</td>\n",
       "      <td>302</td>\n",
       "      <td>3</td>\n",
       "      <td>891717742</td>\n",
       "    </tr>\n",
       "    <tr>\n",
       "      <th>2</th>\n",
       "      <td>22</td>\n",
       "      <td>377</td>\n",
       "      <td>1</td>\n",
       "      <td>878887116</td>\n",
       "    </tr>\n",
       "    <tr>\n",
       "      <th>3</th>\n",
       "      <td>244</td>\n",
       "      <td>51</td>\n",
       "      <td>2</td>\n",
       "      <td>880606923</td>\n",
       "    </tr>\n",
       "    <tr>\n",
       "      <th>4</th>\n",
       "      <td>166</td>\n",
       "      <td>346</td>\n",
       "      <td>1</td>\n",
       "      <td>886397596</td>\n",
       "    </tr>\n",
       "    <tr>\n",
       "      <th>...</th>\n",
       "      <td>...</td>\n",
       "      <td>...</td>\n",
       "      <td>...</td>\n",
       "      <td>...</td>\n",
       "    </tr>\n",
       "    <tr>\n",
       "      <th>99995</th>\n",
       "      <td>880</td>\n",
       "      <td>476</td>\n",
       "      <td>3</td>\n",
       "      <td>880175444</td>\n",
       "    </tr>\n",
       "    <tr>\n",
       "      <th>99996</th>\n",
       "      <td>716</td>\n",
       "      <td>204</td>\n",
       "      <td>5</td>\n",
       "      <td>879795543</td>\n",
       "    </tr>\n",
       "    <tr>\n",
       "      <th>99997</th>\n",
       "      <td>276</td>\n",
       "      <td>1090</td>\n",
       "      <td>1</td>\n",
       "      <td>874795795</td>\n",
       "    </tr>\n",
       "    <tr>\n",
       "      <th>99998</th>\n",
       "      <td>13</td>\n",
       "      <td>225</td>\n",
       "      <td>2</td>\n",
       "      <td>882399156</td>\n",
       "    </tr>\n",
       "    <tr>\n",
       "      <th>99999</th>\n",
       "      <td>12</td>\n",
       "      <td>203</td>\n",
       "      <td>3</td>\n",
       "      <td>879959583</td>\n",
       "    </tr>\n",
       "  </tbody>\n",
       "</table>\n",
       "<p>100000 rows × 4 columns</p>\n",
       "</div>"
      ],
      "text/plain": [
       "       user_id  item_id  rating  timestamp\n",
       "0          196      242       3  881250949\n",
       "1          186      302       3  891717742\n",
       "2           22      377       1  878887116\n",
       "3          244       51       2  880606923\n",
       "4          166      346       1  886397596\n",
       "...        ...      ...     ...        ...\n",
       "99995      880      476       3  880175444\n",
       "99996      716      204       5  879795543\n",
       "99997      276     1090       1  874795795\n",
       "99998       13      225       2  882399156\n",
       "99999       12      203       3  879959583\n",
       "\n",
       "[100000 rows x 4 columns]"
      ]
     },
     "execution_count": 3,
     "metadata": {},
     "output_type": "execute_result"
    }
   ],
   "source": [
    "import pandas as pd\n",
    "\n",
    "raw_ratings = pd.read_csv(ML_100K_FOLDER / \"u.data\", sep='\\t',\n",
    "                          names=[\"user_id\", \"item_id\", \"rating\", \"timestamp\"])\n",
    "raw_ratings"
   ]
  },
  {
   "cell_type": "markdown",
   "metadata": {},
   "source": [
    "The second file we'll look at is the movie metadata. This file (u.item) contains information about each movie, including the title and release date. Each line in the file is formatted as:\n",
    "\n",
    "`movie_id | movie_title | release_date | video_release_date | IMDb_URL | unknown | Action | Adventure | Animation | Children's | Comedy | Crime | Documentary | Drama | Fantasy | Film-Noir | Horror | Musical | Mystery | Romance | Sci-Fi | Thriller | War | Western`\n",
    "\n",
    "As you can see, the genres are binary variables. As with one-hot encoding, a 1 indicates that the movie is of that genre, and a 0 indicates that it is not. We aren't going to work with the genre data in this lab, but it's easy to imagine that it could be useful in a real-world recommendation system."
   ]
  },
  {
   "cell_type": "code",
   "execution_count": 4,
   "metadata": {},
   "outputs": [
    {
     "data": {
      "text/html": [
       "<div>\n",
       "<style scoped>\n",
       "    .dataframe tbody tr th:only-of-type {\n",
       "        vertical-align: middle;\n",
       "    }\n",
       "\n",
       "    .dataframe tbody tr th {\n",
       "        vertical-align: top;\n",
       "    }\n",
       "\n",
       "    .dataframe thead th {\n",
       "        text-align: right;\n",
       "    }\n",
       "</style>\n",
       "<table border=\"1\" class=\"dataframe\">\n",
       "  <thead>\n",
       "    <tr style=\"text-align: right;\">\n",
       "      <th></th>\n",
       "      <th>item_id</th>\n",
       "      <th>title</th>\n",
       "      <th>release_date</th>\n",
       "      <th>video_release_date</th>\n",
       "      <th>imdb_url</th>\n",
       "    </tr>\n",
       "  </thead>\n",
       "  <tbody>\n",
       "    <tr>\n",
       "      <th>0</th>\n",
       "      <td>1</td>\n",
       "      <td>Toy Story (1995)</td>\n",
       "      <td>01-Jan-1995</td>\n",
       "      <td>NaN</td>\n",
       "      <td>http://us.imdb.com/M/title-exact?Toy%20Story%2...</td>\n",
       "    </tr>\n",
       "    <tr>\n",
       "      <th>1</th>\n",
       "      <td>2</td>\n",
       "      <td>GoldenEye (1995)</td>\n",
       "      <td>01-Jan-1995</td>\n",
       "      <td>NaN</td>\n",
       "      <td>http://us.imdb.com/M/title-exact?GoldenEye%20(...</td>\n",
       "    </tr>\n",
       "    <tr>\n",
       "      <th>2</th>\n",
       "      <td>3</td>\n",
       "      <td>Four Rooms (1995)</td>\n",
       "      <td>01-Jan-1995</td>\n",
       "      <td>NaN</td>\n",
       "      <td>http://us.imdb.com/M/title-exact?Four%20Rooms%...</td>\n",
       "    </tr>\n",
       "    <tr>\n",
       "      <th>3</th>\n",
       "      <td>4</td>\n",
       "      <td>Get Shorty (1995)</td>\n",
       "      <td>01-Jan-1995</td>\n",
       "      <td>NaN</td>\n",
       "      <td>http://us.imdb.com/M/title-exact?Get%20Shorty%...</td>\n",
       "    </tr>\n",
       "    <tr>\n",
       "      <th>4</th>\n",
       "      <td>5</td>\n",
       "      <td>Copycat (1995)</td>\n",
       "      <td>01-Jan-1995</td>\n",
       "      <td>NaN</td>\n",
       "      <td>http://us.imdb.com/M/title-exact?Copycat%20(1995)</td>\n",
       "    </tr>\n",
       "    <tr>\n",
       "      <th>...</th>\n",
       "      <td>...</td>\n",
       "      <td>...</td>\n",
       "      <td>...</td>\n",
       "      <td>...</td>\n",
       "      <td>...</td>\n",
       "    </tr>\n",
       "    <tr>\n",
       "      <th>1677</th>\n",
       "      <td>1678</td>\n",
       "      <td>Mat' i syn (1997)</td>\n",
       "      <td>06-Feb-1998</td>\n",
       "      <td>NaN</td>\n",
       "      <td>http://us.imdb.com/M/title-exact?Mat%27+i+syn+...</td>\n",
       "    </tr>\n",
       "    <tr>\n",
       "      <th>1678</th>\n",
       "      <td>1679</td>\n",
       "      <td>B. Monkey (1998)</td>\n",
       "      <td>06-Feb-1998</td>\n",
       "      <td>NaN</td>\n",
       "      <td>http://us.imdb.com/M/title-exact?B%2E+Monkey+(...</td>\n",
       "    </tr>\n",
       "    <tr>\n",
       "      <th>1679</th>\n",
       "      <td>1680</td>\n",
       "      <td>Sliding Doors (1998)</td>\n",
       "      <td>01-Jan-1998</td>\n",
       "      <td>NaN</td>\n",
       "      <td>http://us.imdb.com/Title?Sliding+Doors+(1998)</td>\n",
       "    </tr>\n",
       "    <tr>\n",
       "      <th>1680</th>\n",
       "      <td>1681</td>\n",
       "      <td>You So Crazy (1994)</td>\n",
       "      <td>01-Jan-1994</td>\n",
       "      <td>NaN</td>\n",
       "      <td>http://us.imdb.com/M/title-exact?You%20So%20Cr...</td>\n",
       "    </tr>\n",
       "    <tr>\n",
       "      <th>1681</th>\n",
       "      <td>1682</td>\n",
       "      <td>Scream of Stone (Schrei aus Stein) (1991)</td>\n",
       "      <td>08-Mar-1996</td>\n",
       "      <td>NaN</td>\n",
       "      <td>http://us.imdb.com/M/title-exact?Schrei%20aus%...</td>\n",
       "    </tr>\n",
       "  </tbody>\n",
       "</table>\n",
       "<p>1682 rows × 5 columns</p>\n",
       "</div>"
      ],
      "text/plain": [
       "      item_id                                      title release_date  \\\n",
       "0           1                           Toy Story (1995)  01-Jan-1995   \n",
       "1           2                           GoldenEye (1995)  01-Jan-1995   \n",
       "2           3                          Four Rooms (1995)  01-Jan-1995   \n",
       "3           4                          Get Shorty (1995)  01-Jan-1995   \n",
       "4           5                             Copycat (1995)  01-Jan-1995   \n",
       "...       ...                                        ...          ...   \n",
       "1677     1678                          Mat' i syn (1997)  06-Feb-1998   \n",
       "1678     1679                           B. Monkey (1998)  06-Feb-1998   \n",
       "1679     1680                       Sliding Doors (1998)  01-Jan-1998   \n",
       "1680     1681                        You So Crazy (1994)  01-Jan-1994   \n",
       "1681     1682  Scream of Stone (Schrei aus Stein) (1991)  08-Mar-1996   \n",
       "\n",
       "      video_release_date                                           imdb_url  \n",
       "0                    NaN  http://us.imdb.com/M/title-exact?Toy%20Story%2...  \n",
       "1                    NaN  http://us.imdb.com/M/title-exact?GoldenEye%20(...  \n",
       "2                    NaN  http://us.imdb.com/M/title-exact?Four%20Rooms%...  \n",
       "3                    NaN  http://us.imdb.com/M/title-exact?Get%20Shorty%...  \n",
       "4                    NaN  http://us.imdb.com/M/title-exact?Copycat%20(1995)  \n",
       "...                  ...                                                ...  \n",
       "1677                 NaN  http://us.imdb.com/M/title-exact?Mat%27+i+syn+...  \n",
       "1678                 NaN  http://us.imdb.com/M/title-exact?B%2E+Monkey+(...  \n",
       "1679                 NaN      http://us.imdb.com/Title?Sliding+Doors+(1998)  \n",
       "1680                 NaN  http://us.imdb.com/M/title-exact?You%20So%20Cr...  \n",
       "1681                 NaN  http://us.imdb.com/M/title-exact?Schrei%20aus%...  \n",
       "\n",
       "[1682 rows x 5 columns]"
      ]
     },
     "execution_count": 4,
     "metadata": {},
     "output_type": "execute_result"
    }
   ],
   "source": [
    "columns_to_keep = ['item_id', 'title', 'release_date', 'video_release_date', 'imdb_url']\n",
    "items = pd.read_csv(ML_100K_FOLDER / \"u.item\", sep='|', names=columns_to_keep,\n",
    "                    encoding='latin-1', usecols=range(5))\n",
    "items"
   ]
  },
  {
   "cell_type": "markdown",
   "metadata": {},
   "source": [
    "By default, the `release_date` column is a string. We can convert it to a `datetime` object using the `pd.to_datetime` function. This will make it easier to work with in the future (if we want to do things like check which date came first, for example).\n",
    " \n",
    "We can also extract the year from the date and store it in a separate column. This will make it easier to do things like plot the number of movies released each year."
   ]
  },
  {
   "cell_type": "code",
   "execution_count": 5,
   "metadata": {},
   "outputs": [],
   "source": [
    "items['release_date'] = pd.to_datetime(items['release_date']) # Pandas makes this easy!\n",
    "items['release_year'] = items['release_date'].dt.year # For later use"
   ]
  },
  {
   "cell_type": "markdown",
   "metadata": {},
   "source": [
    "For our purposes, it will be easier to work with the data if we merge our two dataframes into a single dataframe. We can do this using the `merge` method. We'll merge the `items` dataframe into the `raw_ratings` dataframe, using the `item_id` column as the key. This will add the movie title and release year to each rating."
   ]
  },
  {
   "cell_type": "code",
   "execution_count": 6,
   "metadata": {},
   "outputs": [],
   "source": [
    "all_ratings = pd.merge(items, raw_ratings)"
   ]
  },
  {
   "cell_type": "code",
   "execution_count": 7,
   "metadata": {},
   "outputs": [
    {
     "data": {
      "text/html": [
       "<div>\n",
       "<style scoped>\n",
       "    .dataframe tbody tr th:only-of-type {\n",
       "        vertical-align: middle;\n",
       "    }\n",
       "\n",
       "    .dataframe tbody tr th {\n",
       "        vertical-align: top;\n",
       "    }\n",
       "\n",
       "    .dataframe thead th {\n",
       "        text-align: right;\n",
       "    }\n",
       "</style>\n",
       "<table border=\"1\" class=\"dataframe\">\n",
       "  <thead>\n",
       "    <tr style=\"text-align: right;\">\n",
       "      <th></th>\n",
       "      <th>item_id</th>\n",
       "      <th>title</th>\n",
       "      <th>release_date</th>\n",
       "      <th>video_release_date</th>\n",
       "      <th>imdb_url</th>\n",
       "      <th>release_year</th>\n",
       "      <th>user_id</th>\n",
       "      <th>rating</th>\n",
       "      <th>timestamp</th>\n",
       "    </tr>\n",
       "  </thead>\n",
       "  <tbody>\n",
       "    <tr>\n",
       "      <th>0</th>\n",
       "      <td>1</td>\n",
       "      <td>Toy Story (1995)</td>\n",
       "      <td>1995-01-01</td>\n",
       "      <td>NaN</td>\n",
       "      <td>http://us.imdb.com/M/title-exact?Toy%20Story%2...</td>\n",
       "      <td>1995.0</td>\n",
       "      <td>308</td>\n",
       "      <td>4</td>\n",
       "      <td>887736532</td>\n",
       "    </tr>\n",
       "    <tr>\n",
       "      <th>1</th>\n",
       "      <td>1</td>\n",
       "      <td>Toy Story (1995)</td>\n",
       "      <td>1995-01-01</td>\n",
       "      <td>NaN</td>\n",
       "      <td>http://us.imdb.com/M/title-exact?Toy%20Story%2...</td>\n",
       "      <td>1995.0</td>\n",
       "      <td>287</td>\n",
       "      <td>5</td>\n",
       "      <td>875334088</td>\n",
       "    </tr>\n",
       "    <tr>\n",
       "      <th>2</th>\n",
       "      <td>1</td>\n",
       "      <td>Toy Story (1995)</td>\n",
       "      <td>1995-01-01</td>\n",
       "      <td>NaN</td>\n",
       "      <td>http://us.imdb.com/M/title-exact?Toy%20Story%2...</td>\n",
       "      <td>1995.0</td>\n",
       "      <td>148</td>\n",
       "      <td>4</td>\n",
       "      <td>877019411</td>\n",
       "    </tr>\n",
       "    <tr>\n",
       "      <th>3</th>\n",
       "      <td>1</td>\n",
       "      <td>Toy Story (1995)</td>\n",
       "      <td>1995-01-01</td>\n",
       "      <td>NaN</td>\n",
       "      <td>http://us.imdb.com/M/title-exact?Toy%20Story%2...</td>\n",
       "      <td>1995.0</td>\n",
       "      <td>280</td>\n",
       "      <td>4</td>\n",
       "      <td>891700426</td>\n",
       "    </tr>\n",
       "    <tr>\n",
       "      <th>4</th>\n",
       "      <td>1</td>\n",
       "      <td>Toy Story (1995)</td>\n",
       "      <td>1995-01-01</td>\n",
       "      <td>NaN</td>\n",
       "      <td>http://us.imdb.com/M/title-exact?Toy%20Story%2...</td>\n",
       "      <td>1995.0</td>\n",
       "      <td>66</td>\n",
       "      <td>3</td>\n",
       "      <td>883601324</td>\n",
       "    </tr>\n",
       "  </tbody>\n",
       "</table>\n",
       "</div>"
      ],
      "text/plain": [
       "   item_id             title release_date  video_release_date  \\\n",
       "0        1  Toy Story (1995)   1995-01-01                 NaN   \n",
       "1        1  Toy Story (1995)   1995-01-01                 NaN   \n",
       "2        1  Toy Story (1995)   1995-01-01                 NaN   \n",
       "3        1  Toy Story (1995)   1995-01-01                 NaN   \n",
       "4        1  Toy Story (1995)   1995-01-01                 NaN   \n",
       "\n",
       "                                            imdb_url  release_year  user_id  \\\n",
       "0  http://us.imdb.com/M/title-exact?Toy%20Story%2...        1995.0      308   \n",
       "1  http://us.imdb.com/M/title-exact?Toy%20Story%2...        1995.0      287   \n",
       "2  http://us.imdb.com/M/title-exact?Toy%20Story%2...        1995.0      148   \n",
       "3  http://us.imdb.com/M/title-exact?Toy%20Story%2...        1995.0      280   \n",
       "4  http://us.imdb.com/M/title-exact?Toy%20Story%2...        1995.0       66   \n",
       "\n",
       "   rating  timestamp  \n",
       "0       4  887736532  \n",
       "1       5  875334088  \n",
       "2       4  877019411  \n",
       "3       4  891700426  \n",
       "4       3  883601324  "
      ]
     },
     "execution_count": 7,
     "metadata": {},
     "output_type": "execute_result"
    }
   ],
   "source": [
    "all_ratings.head()"
   ]
  },
  {
   "cell_type": "markdown",
   "metadata": {},
   "source": [
    "### Data preprocessing\n",
    "\n",
    "It's always important to understand the data you've collected. Thankfully, Pandas continues to make this easy for us. Using the `describe` method, we can get a quick statistical summary of the data."
   ]
  },
  {
   "cell_type": "code",
   "execution_count": 8,
   "metadata": {},
   "outputs": [
    {
     "data": {
      "text/html": [
       "<div>\n",
       "<style scoped>\n",
       "    .dataframe tbody tr th:only-of-type {\n",
       "        vertical-align: middle;\n",
       "    }\n",
       "\n",
       "    .dataframe tbody tr th {\n",
       "        vertical-align: top;\n",
       "    }\n",
       "\n",
       "    .dataframe thead th {\n",
       "        text-align: right;\n",
       "    }\n",
       "</style>\n",
       "<table border=\"1\" class=\"dataframe\">\n",
       "  <thead>\n",
       "    <tr style=\"text-align: right;\">\n",
       "      <th></th>\n",
       "      <th>item_id</th>\n",
       "      <th>release_date</th>\n",
       "      <th>video_release_date</th>\n",
       "      <th>release_year</th>\n",
       "      <th>user_id</th>\n",
       "      <th>rating</th>\n",
       "      <th>timestamp</th>\n",
       "    </tr>\n",
       "  </thead>\n",
       "  <tbody>\n",
       "    <tr>\n",
       "      <th>count</th>\n",
       "      <td>100000.000000</td>\n",
       "      <td>99991</td>\n",
       "      <td>0.0</td>\n",
       "      <td>99991.000000</td>\n",
       "      <td>100000.00000</td>\n",
       "      <td>100000.000000</td>\n",
       "      <td>1.000000e+05</td>\n",
       "    </tr>\n",
       "    <tr>\n",
       "      <th>mean</th>\n",
       "      <td>425.530130</td>\n",
       "      <td>1988-02-09 00:43:11.369223296</td>\n",
       "      <td>NaN</td>\n",
       "      <td>1987.956216</td>\n",
       "      <td>462.48475</td>\n",
       "      <td>3.529860</td>\n",
       "      <td>8.835289e+08</td>\n",
       "    </tr>\n",
       "    <tr>\n",
       "      <th>min</th>\n",
       "      <td>1.000000</td>\n",
       "      <td>1922-01-01 00:00:00</td>\n",
       "      <td>NaN</td>\n",
       "      <td>1922.000000</td>\n",
       "      <td>1.00000</td>\n",
       "      <td>1.000000</td>\n",
       "      <td>8.747247e+08</td>\n",
       "    </tr>\n",
       "    <tr>\n",
       "      <th>25%</th>\n",
       "      <td>175.000000</td>\n",
       "      <td>1986-01-01 00:00:00</td>\n",
       "      <td>NaN</td>\n",
       "      <td>1986.000000</td>\n",
       "      <td>254.00000</td>\n",
       "      <td>3.000000</td>\n",
       "      <td>8.794487e+08</td>\n",
       "    </tr>\n",
       "    <tr>\n",
       "      <th>50%</th>\n",
       "      <td>322.000000</td>\n",
       "      <td>1994-01-01 00:00:00</td>\n",
       "      <td>NaN</td>\n",
       "      <td>1994.000000</td>\n",
       "      <td>447.00000</td>\n",
       "      <td>4.000000</td>\n",
       "      <td>8.828269e+08</td>\n",
       "    </tr>\n",
       "    <tr>\n",
       "      <th>75%</th>\n",
       "      <td>631.000000</td>\n",
       "      <td>1996-09-28 00:00:00</td>\n",
       "      <td>NaN</td>\n",
       "      <td>1996.000000</td>\n",
       "      <td>682.00000</td>\n",
       "      <td>4.000000</td>\n",
       "      <td>8.882600e+08</td>\n",
       "    </tr>\n",
       "    <tr>\n",
       "      <th>max</th>\n",
       "      <td>1682.000000</td>\n",
       "      <td>1998-10-23 00:00:00</td>\n",
       "      <td>NaN</td>\n",
       "      <td>1998.000000</td>\n",
       "      <td>943.00000</td>\n",
       "      <td>5.000000</td>\n",
       "      <td>8.932866e+08</td>\n",
       "    </tr>\n",
       "    <tr>\n",
       "      <th>std</th>\n",
       "      <td>330.798356</td>\n",
       "      <td>NaN</td>\n",
       "      <td>NaN</td>\n",
       "      <td>14.155523</td>\n",
       "      <td>266.61442</td>\n",
       "      <td>1.125674</td>\n",
       "      <td>5.343856e+06</td>\n",
       "    </tr>\n",
       "  </tbody>\n",
       "</table>\n",
       "</div>"
      ],
      "text/plain": [
       "             item_id                   release_date  video_release_date  \\\n",
       "count  100000.000000                          99991                 0.0   \n",
       "mean      425.530130  1988-02-09 00:43:11.369223296                 NaN   \n",
       "min         1.000000            1922-01-01 00:00:00                 NaN   \n",
       "25%       175.000000            1986-01-01 00:00:00                 NaN   \n",
       "50%       322.000000            1994-01-01 00:00:00                 NaN   \n",
       "75%       631.000000            1996-09-28 00:00:00                 NaN   \n",
       "max      1682.000000            1998-10-23 00:00:00                 NaN   \n",
       "std       330.798356                            NaN                 NaN   \n",
       "\n",
       "       release_year       user_id         rating     timestamp  \n",
       "count  99991.000000  100000.00000  100000.000000  1.000000e+05  \n",
       "mean    1987.956216     462.48475       3.529860  8.835289e+08  \n",
       "min     1922.000000       1.00000       1.000000  8.747247e+08  \n",
       "25%     1986.000000     254.00000       3.000000  8.794487e+08  \n",
       "50%     1994.000000     447.00000       4.000000  8.828269e+08  \n",
       "75%     1996.000000     682.00000       4.000000  8.882600e+08  \n",
       "max     1998.000000     943.00000       5.000000  8.932866e+08  \n",
       "std       14.155523     266.61442       1.125674  5.343856e+06  "
      ]
     },
     "execution_count": 8,
     "metadata": {},
     "output_type": "execute_result"
    }
   ],
   "source": [
    "all_ratings.describe()"
   ]
  },
  {
   "cell_type": "markdown",
   "metadata": {},
   "source": [
    "Let's do a bit more pandas magic to compute the popularity of each movie (number of ratings). We will use the `groupby` method to group the dataframe by the `item_id` column and then use the `size` method to compute the number of ratings for each movie. We will use the `reset_index` method to convert the resulting Series into a dataframe with an `item_id` column."
   ]
  },
  {
   "cell_type": "code",
   "execution_count": 9,
   "metadata": {},
   "outputs": [
    {
     "data": {
      "text/html": [
       "<div>\n",
       "<style scoped>\n",
       "    .dataframe tbody tr th:only-of-type {\n",
       "        vertical-align: middle;\n",
       "    }\n",
       "\n",
       "    .dataframe tbody tr th {\n",
       "        vertical-align: top;\n",
       "    }\n",
       "\n",
       "    .dataframe thead th {\n",
       "        text-align: right;\n",
       "    }\n",
       "</style>\n",
       "<table border=\"1\" class=\"dataframe\">\n",
       "  <thead>\n",
       "    <tr style=\"text-align: right;\">\n",
       "      <th></th>\n",
       "      <th>item_id</th>\n",
       "      <th>popularity</th>\n",
       "      <th>title</th>\n",
       "      <th>release_date</th>\n",
       "      <th>video_release_date</th>\n",
       "      <th>imdb_url</th>\n",
       "      <th>release_year</th>\n",
       "    </tr>\n",
       "  </thead>\n",
       "  <tbody>\n",
       "    <tr>\n",
       "      <th>0</th>\n",
       "      <td>1</td>\n",
       "      <td>452</td>\n",
       "      <td>Toy Story (1995)</td>\n",
       "      <td>1995-01-01</td>\n",
       "      <td>NaN</td>\n",
       "      <td>http://us.imdb.com/M/title-exact?Toy%20Story%2...</td>\n",
       "      <td>1995.0</td>\n",
       "    </tr>\n",
       "    <tr>\n",
       "      <th>1</th>\n",
       "      <td>2</td>\n",
       "      <td>131</td>\n",
       "      <td>GoldenEye (1995)</td>\n",
       "      <td>1995-01-01</td>\n",
       "      <td>NaN</td>\n",
       "      <td>http://us.imdb.com/M/title-exact?GoldenEye%20(...</td>\n",
       "      <td>1995.0</td>\n",
       "    </tr>\n",
       "    <tr>\n",
       "      <th>2</th>\n",
       "      <td>3</td>\n",
       "      <td>90</td>\n",
       "      <td>Four Rooms (1995)</td>\n",
       "      <td>1995-01-01</td>\n",
       "      <td>NaN</td>\n",
       "      <td>http://us.imdb.com/M/title-exact?Four%20Rooms%...</td>\n",
       "      <td>1995.0</td>\n",
       "    </tr>\n",
       "    <tr>\n",
       "      <th>3</th>\n",
       "      <td>4</td>\n",
       "      <td>209</td>\n",
       "      <td>Get Shorty (1995)</td>\n",
       "      <td>1995-01-01</td>\n",
       "      <td>NaN</td>\n",
       "      <td>http://us.imdb.com/M/title-exact?Get%20Shorty%...</td>\n",
       "      <td>1995.0</td>\n",
       "    </tr>\n",
       "    <tr>\n",
       "      <th>4</th>\n",
       "      <td>5</td>\n",
       "      <td>86</td>\n",
       "      <td>Copycat (1995)</td>\n",
       "      <td>1995-01-01</td>\n",
       "      <td>NaN</td>\n",
       "      <td>http://us.imdb.com/M/title-exact?Copycat%20(1995)</td>\n",
       "      <td>1995.0</td>\n",
       "    </tr>\n",
       "    <tr>\n",
       "      <th>...</th>\n",
       "      <td>...</td>\n",
       "      <td>...</td>\n",
       "      <td>...</td>\n",
       "      <td>...</td>\n",
       "      <td>...</td>\n",
       "      <td>...</td>\n",
       "      <td>...</td>\n",
       "    </tr>\n",
       "    <tr>\n",
       "      <th>1677</th>\n",
       "      <td>1678</td>\n",
       "      <td>1</td>\n",
       "      <td>Mat' i syn (1997)</td>\n",
       "      <td>1998-02-06</td>\n",
       "      <td>NaN</td>\n",
       "      <td>http://us.imdb.com/M/title-exact?Mat%27+i+syn+...</td>\n",
       "      <td>1998.0</td>\n",
       "    </tr>\n",
       "    <tr>\n",
       "      <th>1678</th>\n",
       "      <td>1679</td>\n",
       "      <td>1</td>\n",
       "      <td>B. Monkey (1998)</td>\n",
       "      <td>1998-02-06</td>\n",
       "      <td>NaN</td>\n",
       "      <td>http://us.imdb.com/M/title-exact?B%2E+Monkey+(...</td>\n",
       "      <td>1998.0</td>\n",
       "    </tr>\n",
       "    <tr>\n",
       "      <th>1679</th>\n",
       "      <td>1680</td>\n",
       "      <td>1</td>\n",
       "      <td>Sliding Doors (1998)</td>\n",
       "      <td>1998-01-01</td>\n",
       "      <td>NaN</td>\n",
       "      <td>http://us.imdb.com/Title?Sliding+Doors+(1998)</td>\n",
       "      <td>1998.0</td>\n",
       "    </tr>\n",
       "    <tr>\n",
       "      <th>1680</th>\n",
       "      <td>1681</td>\n",
       "      <td>1</td>\n",
       "      <td>You So Crazy (1994)</td>\n",
       "      <td>1994-01-01</td>\n",
       "      <td>NaN</td>\n",
       "      <td>http://us.imdb.com/M/title-exact?You%20So%20Cr...</td>\n",
       "      <td>1994.0</td>\n",
       "    </tr>\n",
       "    <tr>\n",
       "      <th>1681</th>\n",
       "      <td>1682</td>\n",
       "      <td>1</td>\n",
       "      <td>Scream of Stone (Schrei aus Stein) (1991)</td>\n",
       "      <td>1996-03-08</td>\n",
       "      <td>NaN</td>\n",
       "      <td>http://us.imdb.com/M/title-exact?Schrei%20aus%...</td>\n",
       "      <td>1996.0</td>\n",
       "    </tr>\n",
       "  </tbody>\n",
       "</table>\n",
       "<p>1682 rows × 7 columns</p>\n",
       "</div>"
      ],
      "text/plain": [
       "      item_id  popularity                                      title  \\\n",
       "0           1         452                           Toy Story (1995)   \n",
       "1           2         131                           GoldenEye (1995)   \n",
       "2           3          90                          Four Rooms (1995)   \n",
       "3           4         209                          Get Shorty (1995)   \n",
       "4           5          86                             Copycat (1995)   \n",
       "...       ...         ...                                        ...   \n",
       "1677     1678           1                          Mat' i syn (1997)   \n",
       "1678     1679           1                           B. Monkey (1998)   \n",
       "1679     1680           1                       Sliding Doors (1998)   \n",
       "1680     1681           1                        You So Crazy (1994)   \n",
       "1681     1682           1  Scream of Stone (Schrei aus Stein) (1991)   \n",
       "\n",
       "     release_date  video_release_date  \\\n",
       "0      1995-01-01                 NaN   \n",
       "1      1995-01-01                 NaN   \n",
       "2      1995-01-01                 NaN   \n",
       "3      1995-01-01                 NaN   \n",
       "4      1995-01-01                 NaN   \n",
       "...           ...                 ...   \n",
       "1677   1998-02-06                 NaN   \n",
       "1678   1998-02-06                 NaN   \n",
       "1679   1998-01-01                 NaN   \n",
       "1680   1994-01-01                 NaN   \n",
       "1681   1996-03-08                 NaN   \n",
       "\n",
       "                                               imdb_url  release_year  \n",
       "0     http://us.imdb.com/M/title-exact?Toy%20Story%2...        1995.0  \n",
       "1     http://us.imdb.com/M/title-exact?GoldenEye%20(...        1995.0  \n",
       "2     http://us.imdb.com/M/title-exact?Four%20Rooms%...        1995.0  \n",
       "3     http://us.imdb.com/M/title-exact?Get%20Shorty%...        1995.0  \n",
       "4     http://us.imdb.com/M/title-exact?Copycat%20(1995)        1995.0  \n",
       "...                                                 ...           ...  \n",
       "1677  http://us.imdb.com/M/title-exact?Mat%27+i+syn+...        1998.0  \n",
       "1678  http://us.imdb.com/M/title-exact?B%2E+Monkey+(...        1998.0  \n",
       "1679      http://us.imdb.com/Title?Sliding+Doors+(1998)        1998.0  \n",
       "1680  http://us.imdb.com/M/title-exact?You%20So%20Cr...        1994.0  \n",
       "1681  http://us.imdb.com/M/title-exact?Schrei%20aus%...        1996.0  \n",
       "\n",
       "[1682 rows x 7 columns]"
      ]
     },
     "execution_count": 9,
     "metadata": {},
     "output_type": "execute_result"
    }
   ],
   "source": [
    "popularity = all_ratings.groupby('item_id').size().reset_index(name='popularity')\n",
    "items = pd.merge(popularity, items)\n",
    "items"
   ]
  },
  {
   "cell_type": "code",
   "execution_count": 10,
   "metadata": {},
   "outputs": [
    {
     "data": {
      "text/plain": [
       "<Axes: ylabel='Frequency'>"
      ]
     },
     "execution_count": 10,
     "metadata": {},
     "output_type": "execute_result"
    },
    {
     "data": {
      "image/png": "[encoded data removed]",
      "text/plain": [
       "<Figure size 640x480 with 1 Axes>"
      ]
     },
     "metadata": {},
     "output_type": "display_data"
    }
   ],
   "source": [
    "items['popularity'].plot.hist(bins=30)"
   ]
  },
  {
   "cell_type": "code",
   "execution_count": 11,
   "metadata": {},
   "outputs": [
    {
     "data": {
      "text/plain": [
       "141"
      ]
     },
     "execution_count": 11,
     "metadata": {},
     "output_type": "execute_result"
    }
   ],
   "source": [
    "(items['popularity'] == 1).sum() # Number of movies with only one rating"
   ]
  },
  {
   "cell_type": "code",
   "execution_count": 12,
   "metadata": {},
   "outputs": [
    {
     "data": {
      "text/plain": [
       "49                  Star Wars (1977)\n",
       "257                   Contact (1997)\n",
       "99                      Fargo (1996)\n",
       "180        Return of the Jedi (1983)\n",
       "293                 Liar Liar (1997)\n",
       "285      English Patient, The (1996)\n",
       "287                    Scream (1996)\n",
       "0                   Toy Story (1995)\n",
       "299             Air Force One (1997)\n",
       "120    Independence Day (ID4) (1996)\n",
       "Name: title, dtype: object"
      ]
     },
     "execution_count": 12,
     "metadata": {},
     "output_type": "execute_result"
    }
   ],
   "source": [
    "items.nlargest(10, 'popularity')['title'] # Get the 10 most popular movies"
   ]
  },
  {
   "cell_type": "code",
   "execution_count": 13,
   "metadata": {},
   "outputs": [
    {
     "data": {
      "text/html": [
       "<div>\n",
       "<style scoped>\n",
       "    .dataframe tbody tr th:only-of-type {\n",
       "        vertical-align: middle;\n",
       "    }\n",
       "\n",
       "    .dataframe tbody tr th {\n",
       "        vertical-align: top;\n",
       "    }\n",
       "\n",
       "    .dataframe thead th {\n",
       "        text-align: right;\n",
       "    }\n",
       "</style>\n",
       "<table border=\"1\" class=\"dataframe\">\n",
       "  <thead>\n",
       "    <tr style=\"text-align: right;\">\n",
       "      <th></th>\n",
       "      <th>item_id</th>\n",
       "      <th>popularity</th>\n",
       "      <th>release_date</th>\n",
       "      <th>video_release_date</th>\n",
       "      <th>release_year</th>\n",
       "      <th>user_id</th>\n",
       "      <th>rating</th>\n",
       "      <th>timestamp</th>\n",
       "    </tr>\n",
       "  </thead>\n",
       "  <tbody>\n",
       "    <tr>\n",
       "      <th>count</th>\n",
       "      <td>100000.000000</td>\n",
       "      <td>100000.000000</td>\n",
       "      <td>99991</td>\n",
       "      <td>0.0</td>\n",
       "      <td>99991.000000</td>\n",
       "      <td>100000.00000</td>\n",
       "      <td>100000.000000</td>\n",
       "      <td>1.000000e+05</td>\n",
       "    </tr>\n",
       "    <tr>\n",
       "      <th>mean</th>\n",
       "      <td>425.530130</td>\n",
       "      <td>168.071900</td>\n",
       "      <td>1988-02-09 00:43:11.369223296</td>\n",
       "      <td>NaN</td>\n",
       "      <td>1987.956216</td>\n",
       "      <td>462.48475</td>\n",
       "      <td>3.529860</td>\n",
       "      <td>8.835289e+08</td>\n",
       "    </tr>\n",
       "    <tr>\n",
       "      <th>min</th>\n",
       "      <td>1.000000</td>\n",
       "      <td>1.000000</td>\n",
       "      <td>1922-01-01 00:00:00</td>\n",
       "      <td>NaN</td>\n",
       "      <td>1922.000000</td>\n",
       "      <td>1.00000</td>\n",
       "      <td>1.000000</td>\n",
       "      <td>8.747247e+08</td>\n",
       "    </tr>\n",
       "    <tr>\n",
       "      <th>25%</th>\n",
       "      <td>175.000000</td>\n",
       "      <td>71.000000</td>\n",
       "      <td>1986-01-01 00:00:00</td>\n",
       "      <td>NaN</td>\n",
       "      <td>1986.000000</td>\n",
       "      <td>254.00000</td>\n",
       "      <td>3.000000</td>\n",
       "      <td>8.794487e+08</td>\n",
       "    </tr>\n",
       "    <tr>\n",
       "      <th>50%</th>\n",
       "      <td>322.000000</td>\n",
       "      <td>145.000000</td>\n",
       "      <td>1994-01-01 00:00:00</td>\n",
       "      <td>NaN</td>\n",
       "      <td>1994.000000</td>\n",
       "      <td>447.00000</td>\n",
       "      <td>4.000000</td>\n",
       "      <td>8.828269e+08</td>\n",
       "    </tr>\n",
       "    <tr>\n",
       "      <th>75%</th>\n",
       "      <td>631.000000</td>\n",
       "      <td>239.000000</td>\n",
       "      <td>1996-09-28 00:00:00</td>\n",
       "      <td>NaN</td>\n",
       "      <td>1996.000000</td>\n",
       "      <td>682.00000</td>\n",
       "      <td>4.000000</td>\n",
       "      <td>8.882600e+08</td>\n",
       "    </tr>\n",
       "    <tr>\n",
       "      <th>max</th>\n",
       "      <td>1682.000000</td>\n",
       "      <td>583.000000</td>\n",
       "      <td>1998-10-23 00:00:00</td>\n",
       "      <td>NaN</td>\n",
       "      <td>1998.000000</td>\n",
       "      <td>943.00000</td>\n",
       "      <td>5.000000</td>\n",
       "      <td>8.932866e+08</td>\n",
       "    </tr>\n",
       "    <tr>\n",
       "      <th>std</th>\n",
       "      <td>330.798356</td>\n",
       "      <td>121.784558</td>\n",
       "      <td>NaN</td>\n",
       "      <td>NaN</td>\n",
       "      <td>14.155523</td>\n",
       "      <td>266.61442</td>\n",
       "      <td>1.125674</td>\n",
       "      <td>5.343856e+06</td>\n",
       "    </tr>\n",
       "  </tbody>\n",
       "</table>\n",
       "</div>"
      ],
      "text/plain": [
       "             item_id     popularity                   release_date  \\\n",
       "count  100000.000000  100000.000000                          99991   \n",
       "mean      425.530130     168.071900  1988-02-09 00:43:11.369223296   \n",
       "min         1.000000       1.000000            1922-01-01 00:00:00   \n",
       "25%       175.000000      71.000000            1986-01-01 00:00:00   \n",
       "50%       322.000000     145.000000            1994-01-01 00:00:00   \n",
       "75%       631.000000     239.000000            1996-09-28 00:00:00   \n",
       "max      1682.000000     583.000000            1998-10-23 00:00:00   \n",
       "std       330.798356     121.784558                            NaN   \n",
       "\n",
       "       video_release_date  release_year       user_id         rating  \\\n",
       "count                 0.0  99991.000000  100000.00000  100000.000000   \n",
       "mean                  NaN   1987.956216     462.48475       3.529860   \n",
       "min                   NaN   1922.000000       1.00000       1.000000   \n",
       "25%                   NaN   1986.000000     254.00000       3.000000   \n",
       "50%                   NaN   1994.000000     447.00000       4.000000   \n",
       "75%                   NaN   1996.000000     682.00000       4.000000   \n",
       "max                   NaN   1998.000000     943.00000       5.000000   \n",
       "std                   NaN     14.155523     266.61442       1.125674   \n",
       "\n",
       "          timestamp  \n",
       "count  1.000000e+05  \n",
       "mean   8.835289e+08  \n",
       "min    8.747247e+08  \n",
       "25%    8.794487e+08  \n",
       "50%    8.828269e+08  \n",
       "75%    8.882600e+08  \n",
       "max    8.932866e+08  \n",
       "std    5.343856e+06  "
      ]
     },
     "execution_count": 13,
     "metadata": {},
     "output_type": "execute_result"
    }
   ],
   "source": [
    "all_ratings = pd.merge(popularity, all_ratings)\n",
    "all_ratings.describe()"
   ]
  },
  {
   "cell_type": "code",
   "execution_count": 14,
   "metadata": {
    "collapsed": false
   },
   "outputs": [],
   "source": [
    "indexed_items = items.set_index('item_id')"
   ]
  },
  {
   "cell_type": "code",
   "execution_count": 15,
   "metadata": {},
   "outputs": [
    {
     "data": {
      "text/html": [
       "<div>\n",
       "<style scoped>\n",
       "    .dataframe tbody tr th:only-of-type {\n",
       "        vertical-align: middle;\n",
       "    }\n",
       "\n",
       "    .dataframe tbody tr th {\n",
       "        vertical-align: top;\n",
       "    }\n",
       "\n",
       "    .dataframe thead th {\n",
       "        text-align: right;\n",
       "    }\n",
       "</style>\n",
       "<table border=\"1\" class=\"dataframe\">\n",
       "  <thead>\n",
       "    <tr style=\"text-align: right;\">\n",
       "      <th></th>\n",
       "      <th>item_id</th>\n",
       "      <th>popularity</th>\n",
       "      <th>title</th>\n",
       "      <th>release_date</th>\n",
       "      <th>video_release_date</th>\n",
       "      <th>imdb_url</th>\n",
       "      <th>release_year</th>\n",
       "      <th>user_id</th>\n",
       "      <th>rating</th>\n",
       "      <th>timestamp</th>\n",
       "    </tr>\n",
       "  </thead>\n",
       "  <tbody>\n",
       "    <tr>\n",
       "      <th>0</th>\n",
       "      <td>1</td>\n",
       "      <td>452</td>\n",
       "      <td>Toy Story (1995)</td>\n",
       "      <td>1995-01-01</td>\n",
       "      <td>NaN</td>\n",
       "      <td>http://us.imdb.com/M/title-exact?Toy%20Story%2...</td>\n",
       "      <td>1995.0</td>\n",
       "      <td>308</td>\n",
       "      <td>4</td>\n",
       "      <td>887736532</td>\n",
       "    </tr>\n",
       "    <tr>\n",
       "      <th>1</th>\n",
       "      <td>1</td>\n",
       "      <td>452</td>\n",
       "      <td>Toy Story (1995)</td>\n",
       "      <td>1995-01-01</td>\n",
       "      <td>NaN</td>\n",
       "      <td>http://us.imdb.com/M/title-exact?Toy%20Story%2...</td>\n",
       "      <td>1995.0</td>\n",
       "      <td>287</td>\n",
       "      <td>5</td>\n",
       "      <td>875334088</td>\n",
       "    </tr>\n",
       "    <tr>\n",
       "      <th>2</th>\n",
       "      <td>1</td>\n",
       "      <td>452</td>\n",
       "      <td>Toy Story (1995)</td>\n",
       "      <td>1995-01-01</td>\n",
       "      <td>NaN</td>\n",
       "      <td>http://us.imdb.com/M/title-exact?Toy%20Story%2...</td>\n",
       "      <td>1995.0</td>\n",
       "      <td>148</td>\n",
       "      <td>4</td>\n",
       "      <td>877019411</td>\n",
       "    </tr>\n",
       "    <tr>\n",
       "      <th>3</th>\n",
       "      <td>1</td>\n",
       "      <td>452</td>\n",
       "      <td>Toy Story (1995)</td>\n",
       "      <td>1995-01-01</td>\n",
       "      <td>NaN</td>\n",
       "      <td>http://us.imdb.com/M/title-exact?Toy%20Story%2...</td>\n",
       "      <td>1995.0</td>\n",
       "      <td>280</td>\n",
       "      <td>4</td>\n",
       "      <td>891700426</td>\n",
       "    </tr>\n",
       "    <tr>\n",
       "      <th>4</th>\n",
       "      <td>1</td>\n",
       "      <td>452</td>\n",
       "      <td>Toy Story (1995)</td>\n",
       "      <td>1995-01-01</td>\n",
       "      <td>NaN</td>\n",
       "      <td>http://us.imdb.com/M/title-exact?Toy%20Story%2...</td>\n",
       "      <td>1995.0</td>\n",
       "      <td>66</td>\n",
       "      <td>3</td>\n",
       "      <td>883601324</td>\n",
       "    </tr>\n",
       "  </tbody>\n",
       "</table>\n",
       "</div>"
      ],
      "text/plain": [
       "   item_id  popularity             title release_date  video_release_date  \\\n",
       "0        1         452  Toy Story (1995)   1995-01-01                 NaN   \n",
       "1        1         452  Toy Story (1995)   1995-01-01                 NaN   \n",
       "2        1         452  Toy Story (1995)   1995-01-01                 NaN   \n",
       "3        1         452  Toy Story (1995)   1995-01-01                 NaN   \n",
       "4        1         452  Toy Story (1995)   1995-01-01                 NaN   \n",
       "\n",
       "                                            imdb_url  release_year  user_id  \\\n",
       "0  http://us.imdb.com/M/title-exact?Toy%20Story%2...        1995.0      308   \n",
       "1  http://us.imdb.com/M/title-exact?Toy%20Story%2...        1995.0      287   \n",
       "2  http://us.imdb.com/M/title-exact?Toy%20Story%2...        1995.0      148   \n",
       "3  http://us.imdb.com/M/title-exact?Toy%20Story%2...        1995.0      280   \n",
       "4  http://us.imdb.com/M/title-exact?Toy%20Story%2...        1995.0       66   \n",
       "\n",
       "   rating  timestamp  \n",
       "0       4  887736532  \n",
       "1       5  875334088  \n",
       "2       4  877019411  \n",
       "3       4  891700426  \n",
       "4       3  883601324  "
      ]
     },
     "execution_count": 15,
     "metadata": {},
     "output_type": "execute_result"
    }
   ],
   "source": [
    "all_ratings.head()"
   ]
  },
  {
   "cell_type": "markdown",
   "metadata": {
    "collapsed": false
   },
   "source": [
    "**Quick Exercise**:\n",
    "\n",
    "As we have seen, the `groupby` method is a powerful tool to quickly compute statistics on the data. Use it to compute the average rating for each movie.\n",
    "\n",
    "**Hint**: you can use the `mean` method after the `groupby` method."
   ]
  },
  {
   "cell_type": "code",
   "execution_count": 16,
   "metadata": {
    "collapsed": false
   },
   "outputs": [
    {
     "data": {
      "text/plain": [
       "title\n",
       "'Til There Was You (1997)                2.333333\n",
       "1-900 (1994)                             2.600000\n",
       "101 Dalmatians (1996)                    2.908257\n",
       "12 Angry Men (1957)                      4.344000\n",
       "187 (1997)                               3.024390\n",
       "                                           ...   \n",
       "Young Guns II (1990)                     2.772727\n",
       "Young Poisoner's Handbook, The (1995)    3.341463\n",
       "Zeus and Roxanne (1997)                  2.166667\n",
       "unknown                                  3.444444\n",
       "Á köldum klaka (Cold Fever) (1994)       3.000000\n",
       "Name: rating, Length: 1664, dtype: float64"
      ]
     },
     "execution_count": 16,
     "metadata": {},
     "output_type": "execute_result"
    }
   ],
   "source": [
    "avg_rating_movie = all_ratings.groupby('title')['rating'].mean()\n",
    "avg_rating_movie"
   ]
  },
  {
   "cell_type": "markdown",
   "metadata": {},
   "source": [
    "Let's split the enriched data in a train / test split to make it possible to do predictive modeling:"
   ]
  },
  {
   "cell_type": "code",
   "execution_count": 17,
   "metadata": {},
   "outputs": [],
   "source": [
    "from sklearn.model_selection import train_test_split\n",
    "\n",
    "ratings_train, ratings_test = train_test_split(\n",
    "    all_ratings, test_size=0.2, random_state=0)\n",
    "\n",
    "user_id_train = np.array(ratings_train['user_id'])\n",
    "item_id_train = np.array(ratings_train['item_id'])\n",
    "rating_train = np.array(ratings_train['rating'])\n",
    "\n",
    "user_id_test = np.array(ratings_test['user_id'])\n",
    "item_id_test = np.array(ratings_test['item_id'])\n",
    "rating_test = np.array(ratings_test['rating'])"
   ]
  },
  {
   "cell_type": "markdown",
   "metadata": {},
   "source": [
    "# Explicit feedback: supervised ratings prediction\n",
    "\n",
    "Now let's begin to do some recommendation! We will build a model that takes a user and a movie as input and outputs a predicted rating. We will be taking advantage of embeddings to represent users and movies. That means that each movie and user will have an abstract representation in a continuous vector space. The model will learn these representations based on the ratings."
   ]
  },
  {
   "cell_type": "markdown",
   "metadata": {},
   "source": [
    "## Predictive ratings  as a regression problem\n",
    "\n",
    "The following code implements the following architecture:\n",
    "\n",
    "<img src=\"https://raw.githubusercontent.com/UofT-DSI/deep_learning/main/notebooks/images/rec_archi_1.svg\" style=\"width: 600px;\" />"
   ]
  },
  {
   "cell_type": "code",
   "execution_count": 18,
   "metadata": {},
   "outputs": [],
   "source": [
    "from tensorflow.keras.layers import Embedding, Flatten, Dense, Dropout\n",
    "from tensorflow.keras.layers import Dot\n",
    "from tensorflow.keras.models import Model"
   ]
  },
  {
   "cell_type": "code",
   "execution_count": 19,
   "metadata": {},
   "outputs": [
    {
     "name": "stderr",
     "output_type": "stream",
     "text": [
      "c:\\Users\\ritup\\anaconda3\\envs\\dsi_participant\\lib\\site-packages\\keras\\src\\layers\\core\\embedding.py:90: UserWarning: Argument `input_length` is deprecated. Just remove it.\n",
      "  warnings.warn(\n"
     ]
    }
   ],
   "source": [
    "# For each sample we input the integer identifiers\n",
    "# of a single user and a single item\n",
    "class RegressionModel(Model):\n",
    "    def __init__(self, embedding_size, max_user_id, max_item_id):\n",
    "        super().__init__()\n",
    "        \n",
    "        self.user_embedding = Embedding(output_dim=embedding_size,\n",
    "                                        input_dim=max_user_id + 1,\n",
    "                                        input_length=1,\n",
    "                                        name='user_embedding')\n",
    "        self.item_embedding = Embedding(output_dim=embedding_size,\n",
    "                                        input_dim=max_item_id + 1,\n",
    "                                        input_length=1,\n",
    "                                        name='item_embedding')\n",
    "        \n",
    "        # The following two layers don't have parameters.\n",
    "        self.flatten = Flatten()\n",
    "        self.dot = Dot(axes=1)\n",
    "        \n",
    "    def call(self, inputs):\n",
    "        user_inputs = inputs[0]\n",
    "        item_inputs = inputs[1]\n",
    "        \n",
    "        user_vecs = self.flatten(self.user_embedding(user_inputs))\n",
    "        item_vecs = self.flatten(self.item_embedding(item_inputs))\n",
    "        \n",
    "        y = self.dot([user_vecs, item_vecs])\n",
    "        return y\n",
    "\n",
    "\n",
    "model = RegressionModel(embedding_size=64, max_user_id=all_ratings['user_id'].max(), max_item_id=all_ratings['item_id'].max())\n",
    "model.compile(optimizer=\"adam\", loss='mae')"
   ]
  },
  {
   "cell_type": "markdown",
   "metadata": {},
   "source": [
    "### Monitoring runs\n",
    "\n",
    "When training a model with Keras, we get a `history` object back that contains lots of information about the training run. We can use this to plot the training and validation loss to see how the model has improved during training."
   ]
  },
  {
   "cell_type": "code",
   "execution_count": 20,
   "metadata": {},
   "outputs": [
    {
     "name": "stdout",
     "output_type": "stream",
     "text": [
      "Epoch 1/10\n",
      "\u001b[1m1125/1125\u001b[0m \u001b[32m━━━━━━━━━━━━━━━━━━━━\u001b[0m\u001b[37m\u001b[0m \u001b[1m3s\u001b[0m 2ms/step - loss: 3.2851 - val_loss: 1.0363\n",
      "Epoch 2/10\n",
      "\u001b[1m1125/1125\u001b[0m \u001b[32m━━━━━━━━━━━━━━━━━━━━\u001b[0m\u001b[37m\u001b[0m \u001b[1m3s\u001b[0m 3ms/step - loss: 0.9062 - val_loss: 0.7943\n",
      "Epoch 3/10\n",
      "\u001b[1m1125/1125\u001b[0m \u001b[32m━━━━━━━━━━━━━━━━━━━━\u001b[0m\u001b[37m\u001b[0m \u001b[1m3s\u001b[0m 3ms/step - loss: 0.7549 - val_loss: 0.7660\n",
      "Epoch 4/10\n",
      "\u001b[1m1125/1125\u001b[0m \u001b[32m━━━━━━━━━━━━━━━━━━━━\u001b[0m\u001b[37m\u001b[0m \u001b[1m3s\u001b[0m 3ms/step - loss: 0.7207 - val_loss: 0.7549\n",
      "Epoch 5/10\n",
      "\u001b[1m1125/1125\u001b[0m \u001b[32m━━━━━━━━━━━━━━━━━━━━\u001b[0m\u001b[37m\u001b[0m \u001b[1m4s\u001b[0m 3ms/step - loss: 0.6972 - val_loss: 0.7436\n",
      "Epoch 6/10\n",
      "\u001b[1m1125/1125\u001b[0m \u001b[32m━━━━━━━━━━━━━━━━━━━━\u001b[0m\u001b[37m\u001b[0m \u001b[1m3s\u001b[0m 3ms/step - loss: 0.6755 - val_loss: 0.7398\n",
      "Epoch 7/10\n",
      "\u001b[1m1125/1125\u001b[0m \u001b[32m━━━━━━━━━━━━━━━━━━━━\u001b[0m\u001b[37m\u001b[0m \u001b[1m3s\u001b[0m 3ms/step - loss: 0.6532 - val_loss: 0.7365\n",
      "Epoch 8/10\n",
      "\u001b[1m1125/1125\u001b[0m \u001b[32m━━━━━━━━━━━━━━━━━━━━\u001b[0m\u001b[37m\u001b[0m \u001b[1m3s\u001b[0m 3ms/step - loss: 0.6316 - val_loss: 0.7334\n",
      "Epoch 9/10\n",
      "\u001b[1m1125/1125\u001b[0m \u001b[32m━━━━━━━━━━━━━━━━━━━━\u001b[0m\u001b[37m\u001b[0m \u001b[1m4s\u001b[0m 3ms/step - loss: 0.6043 - val_loss: 0.7377\n",
      "Epoch 10/10\n",
      "\u001b[1m1125/1125\u001b[0m \u001b[32m━━━━━━━━━━━━━━━━━━━━\u001b[0m\u001b[37m\u001b[0m \u001b[1m3s\u001b[0m 2ms/step - loss: 0.5835 - val_loss: 0.7390\n",
      "CPU times: total: 12.1 s\n",
      "Wall time: 32.5 s\n"
     ]
    }
   ],
   "source": [
    "%%time\n",
    "\n",
    "# Training the model\n",
    "history = model.fit([user_id_train, item_id_train], rating_train,\n",
    "                    batch_size=64, epochs=10, validation_split=0.1,\n",
    "                    shuffle=True)"
   ]
  },
  {
   "cell_type": "code",
   "execution_count": 21,
   "metadata": {},
   "outputs": [
    {
     "data": {
      "image/png": "[encoded data removed]",
      "text/plain": [
       "<Figure size 640x480 with 1 Axes>"
      ]
     },
     "metadata": {},
     "output_type": "display_data"
    }
   ],
   "source": [
    "plt.plot(history.history['loss'], label='train')\n",
    "plt.plot(history.history['val_loss'], label='validation')\n",
    "plt.ylim(0, 2)\n",
    "plt.legend(loc='best')\n",
    "plt.title('Loss');"
   ]
  },
  {
   "cell_type": "markdown",
   "metadata": {},
   "source": [
    "**Questions**:\n",
    "\n",
    "- Does it look like our model has overfit? Why or why not?\n",
    "- Suggest something we could do to prevent overfitting.\n",
    "\n",
    "\n",
    "Now that the model is trained, let's check out the quality of predictions:"
   ]
  },
  {
   "cell_type": "code",
   "execution_count": 22,
   "metadata": {},
   "outputs": [],
   "source": [
    "def plot_predictions(y_true, y_pred):\n",
    "    plt.figure(figsize=(4, 4))\n",
    "    plt.xlim(-1, 6)\n",
    "    plt.xlabel(\"True rating\")\n",
    "    plt.ylim(-1, 6)\n",
    "    plt.ylabel(\"Predicted rating\")\n",
    "    plt.scatter(y_true, y_pred, s=60, alpha=0.01)"
   ]
  },
  {
   "cell_type": "code",
   "execution_count": 23,
   "metadata": {},
   "outputs": [
    {
     "name": "stdout",
     "output_type": "stream",
     "text": [
      "\u001b[1m625/625\u001b[0m \u001b[32m━━━━━━━━━━━━━━━━━━━━\u001b[0m\u001b[37m\u001b[0m \u001b[1m1s\u001b[0m 2ms/step\n",
      "Final test MSE: 0.908\n",
      "Final test MAE: 0.736\n"
     ]
    },
    {
     "data": {
      "image/png": "[encoded data removed]",
      "text/plain": [
       "<Figure size 400x400 with 1 Axes>"
      ]
     },
     "metadata": {},
     "output_type": "display_data"
    }
   ],
   "source": [
    "from sklearn.metrics import mean_squared_error\n",
    "from sklearn.metrics import mean_absolute_error\n",
    "\n",
    "test_preds = model.predict([user_id_test, item_id_test])\n",
    "print(\"Final test MSE: %0.3f\" % mean_squared_error(test_preds, rating_test))\n",
    "print(\"Final test MAE: %0.3f\" % mean_absolute_error(test_preds, rating_test))\n",
    "plot_predictions(rating_test, test_preds)"
   ]
  },
  {
   "cell_type": "markdown",
   "metadata": {
    "collapsed": false
   },
   "source": [
    "This graph shows us the range of predicted ratings our model gives, organized by the true rating. We can see that generally, the higher the true rating the higher the predicted rating, although there is quite a range of predictions for each instance. That's okay - our model is very simple, and human preferences are very complex!\n",
    "\n",
    "Taking a look at the Mean Absolute Error, hopefully you got something around 0.75. This means that, on average, our predicted ratings are about 0.75 stars off from the true ratings. This is a pretty good result for a first attempt. We could probably do better with a more complex model, but we'll leave that for another time."
   ]
  },
  {
   "cell_type": "markdown",
   "metadata": {},
   "source": [
    "### Model Embeddings\n",
    "\n",
    "Our model was built with two embedding layers. These layers have learned a representation of both the users and the movies in our dataset. We can extract these representations and use them to find similar movies or users. We can also do interesting exploratory analysis, like finding the most popular movies among our users, or finding the users that are most interested in a given movie."
   ]
  },
  {
   "cell_type": "code",
   "execution_count": 24,
   "metadata": {},
   "outputs": [
    {
     "data": {
      "text/plain": [
       "[(944, 64), (1683, 64)]"
      ]
     },
     "execution_count": 24,
     "metadata": {},
     "output_type": "execute_result"
    }
   ],
   "source": [
    "# weights and shape\n",
    "weights = model.get_weights()\n",
    "[w.shape for w in weights]"
   ]
  },
  {
   "cell_type": "code",
   "execution_count": 25,
   "metadata": {},
   "outputs": [],
   "source": [
    "user_embeddings = weights[0]\n",
    "item_embeddings = weights[1]"
   ]
  },
  {
   "cell_type": "code",
   "execution_count": 26,
   "metadata": {},
   "outputs": [
    {
     "name": "stdout",
     "output_type": "stream",
     "text": [
      "Title for item_id=181: Return of the Jedi (1983)\n"
     ]
    }
   ],
   "source": [
    "item_id = 181\n",
    "print(f\"Title for item_id={item_id}: {indexed_items['title'][item_id]}\")"
   ]
  },
  {
   "cell_type": "code",
   "execution_count": 27,
   "metadata": {},
   "outputs": [
    {
     "name": "stdout",
     "output_type": "stream",
     "text": [
      "Embedding vector for item_id=181\n",
      "[-3.3652708e-01  3.7591916e-01 -4.9588841e-01 -3.7615284e-01\n",
      " -3.2941822e-02  3.2580471e-01  9.4656214e-02 -1.9915652e-01\n",
      "  1.6191823e-02 -5.6627303e-01  3.0167109e-01 -2.3532674e-01\n",
      " -2.4455792e-01 -3.9864424e-01  3.5680909e-02 -3.5624442e-01\n",
      " -2.7765724e-01  1.5077575e-01  3.7015072e-01  2.6693022e-01\n",
      " -4.5171008e-01 -2.0020527e-01 -3.2106221e-01 -4.6084157e-01\n",
      " -1.7770836e-01  3.6269802e-01  3.0959955e-01  2.7198741e-01\n",
      " -2.0011476e-01  4.8771411e-02  4.2789030e-01 -3.2499971e-04\n",
      " -2.4277289e-01  2.1818283e-01 -3.2446370e-01  4.2332825e-01\n",
      "  4.7202608e-01 -3.5394862e-01 -2.0355320e-01  4.6087909e-01\n",
      "  4.0023571e-01  3.4099770e-01 -2.1709447e-01 -5.1677752e-01\n",
      " -3.4302741e-01 -4.8879448e-01  5.0416790e-02  1.6346179e-01\n",
      "  7.9575382e-02 -2.4826396e-01  2.9997751e-01  2.7104416e-01\n",
      " -3.3262026e-01  1.4434452e-01  3.9104587e-01 -3.8201123e-01\n",
      " -4.3512383e-01  6.5262848e-01  4.8779061e-01  2.7190453e-01\n",
      "  3.4658274e-01  4.3868995e-01 -3.3083680e-01 -2.2401293e-01]\n",
      "shape: (64,)\n"
     ]
    }
   ],
   "source": [
    "print(f\"Embedding vector for item_id={item_id}\")\n",
    "print(item_embeddings[item_id])\n",
    "print(\"shape:\", item_embeddings[item_id].shape)"
   ]
  },
  {
   "cell_type": "markdown",
   "metadata": {
    "collapsed": false
   },
   "source": [
    "As we discussed in lecture, our embeddings are not directly interpretable - we can't look at, say, a value of 0.297 in the embedding vector and say \"this means that the movie is a drama\". As an aside, there is a field of research dedicated to making _interpretable_ embeddings, but it's not something we'll cover in this course. "
   ]
  },
  {
   "cell_type": "markdown",
   "metadata": {},
   "source": [
    "### Finding our most similar items\n",
    "\n",
    "Now we can have some fun, investigating the embeddings we've learned. We can start by finding the most similar items to a given item. We can do this by computing the cosine similarity between the item's embedding and the embedding of every other item. We can use the `cosine_similarity` function from `sklearn` to do this."
   ]
  },
  {
   "cell_type": "code",
   "execution_count": 28,
   "metadata": {
    "collapsed": false
   },
   "outputs": [],
   "source": [
    "from sklearn.metrics.pairwise import cosine_similarity\n",
    "\n",
    "def cosine(a, b):\n",
    "    # Reshape to the shape our function expects\n",
    "    a = a.reshape(1, -1)\n",
    "    b = b.reshape(1, -1)\n",
    "    return cosine_similarity(a, b)[0, 0]"
   ]
  },
  {
   "cell_type": "code",
   "execution_count": 29,
   "metadata": {},
   "outputs": [
    {
     "name": "stdout",
     "output_type": "stream",
     "text": [
      "Star Wars (1977)\n",
      "Return of the Jedi (1983)\n",
      "Cosine similarity: 0.917\n"
     ]
    }
   ],
   "source": [
    "def print_similarity(item_a, item_b, item_embeddings, titles):\n",
    "    print(titles[item_a])\n",
    "    print(titles[item_b])\n",
    "    similarity = cosine(item_embeddings[item_a],\n",
    "                        item_embeddings[item_b])\n",
    "    print(f\"Cosine similarity: {similarity:.3}\")\n",
    "    \n",
    "print_similarity(50, 181, item_embeddings, indexed_items[\"title\"])"
   ]
  },
  {
   "cell_type": "markdown",
   "metadata": {
    "collapsed": false
   },
   "source": [
    "It makes sense that the original Star Wars, and its later sequel Return of the Jedi have a high similarity. Let's try some other examples:"
   ]
  },
  {
   "cell_type": "code",
   "execution_count": 30,
   "metadata": {},
   "outputs": [
    {
     "name": "stdout",
     "output_type": "stream",
     "text": [
      "Return of the Jedi (1983)\n",
      "Scream (1996)\n",
      "Cosine similarity: 0.725\n"
     ]
    }
   ],
   "source": [
    "print_similarity(181, 288, item_embeddings, indexed_items[\"title\"])"
   ]
  },
  {
   "cell_type": "code",
   "execution_count": 31,
   "metadata": {},
   "outputs": [
    {
     "name": "stdout",
     "output_type": "stream",
     "text": [
      "Return of the Jedi (1983)\n",
      "Toy Story (1995)\n",
      "Cosine similarity: 0.822\n"
     ]
    }
   ],
   "source": [
    "print_similarity(181, 1, item_embeddings, indexed_items[\"title\"])"
   ]
  },
  {
   "cell_type": "code",
   "execution_count": 32,
   "metadata": {},
   "outputs": [
    {
     "name": "stdout",
     "output_type": "stream",
     "text": [
      "Return of the Jedi (1983)\n",
      "Return of the Jedi (1983)\n",
      "Cosine similarity: 1.0\n"
     ]
    }
   ],
   "source": [
    "print_similarity(181, 181, item_embeddings, indexed_items[\"title\"])"
   ]
  },
  {
   "cell_type": "markdown",
   "metadata": {
    "collapsed": false
   },
   "source": [
    "*Quick Exercise*:\n",
    "\n",
    "- Find some other films and compare their similarity. Do the results make sense to you? Can you find a pair of films that are very _dissimilar_?"
   ]
  },
  {
   "cell_type": "code",
   "execution_count": 33,
   "metadata": {
    "collapsed": false
   },
   "outputs": [
    {
     "name": "stdout",
     "output_type": "stream",
     "text": [
      "Return of the Jedi (1983)\n",
      "Return of the Jedi (1983)\n",
      "Cosine similarity: 1.0\n"
     ]
    }
   ],
   "source": [
    "# Code to help you search for a movie title\n",
    "partial_title = \"Jedi\"\n",
    "indexed_items[indexed_items['title'].str.contains(partial_title)]\n",
    "\n",
    "# Your code here\n",
    "print_similarity(181, 181, item_embeddings, indexed_items[\"title\"])"
   ]
  },
  {
   "cell_type": "markdown",
   "metadata": {
    "collapsed": false
   },
   "source": [
    "Sometimes, even without knowing anything about a user, we can recommend films by asking them about a film that they do like. The code below compares the similarity of a given film to all others, and returns the most similar films."
   ]
  },
  {
   "cell_type": "code",
   "execution_count": 34,
   "metadata": {},
   "outputs": [
    {
     "data": {
      "text/plain": [
       "[(50, 'Star Wars (1977)', 1.0),\n",
       " (172, 'Empire Strikes Back, The (1980)', 0.9226937),\n",
       " (181, 'Return of the Jedi (1983)', 0.916885),\n",
       " (173, 'Princess Bride, The (1987)', 0.8898399),\n",
       " (174, 'Raiders of the Lost Ark (1981)', 0.88786656),\n",
       " (1215, 'Barb Wire (1996)', 0.882207),\n",
       " (12, 'Usual Suspects, The (1995)', 0.88196725),\n",
       " (85, 'Ref, The (1994)', 0.87090266),\n",
       " (1550, 'Destiny Turns on the Radio (1995)', 0.8659425),\n",
       " (1574, \"Pharaoh's Army (1995)\", 0.8516183)]"
      ]
     },
     "execution_count": 34,
     "metadata": {},
     "output_type": "execute_result"
    }
   ],
   "source": [
    "def most_similar(item_id, item_embeddings, titles,\n",
    "                 top_n=30):\n",
    "    # Compute the cosine similarity between the item and all other items\n",
    "    sims = cosine_similarity(item_embeddings[item_id].reshape(1, -1),\n",
    "                             item_embeddings).ravel()\n",
    "    \n",
    "    # [::-1] makes it possible to reverse the order of a numpy\n",
    "    # array, this is required because most similar items have\n",
    "    # a larger cosine similarity value\n",
    "    sorted_indexes = np.argsort(sims)[::-1]\n",
    "    idxs = sorted_indexes[0:top_n]\n",
    "    return list(zip(idxs, titles[idxs], sims[idxs]))\n",
    "\n",
    "# Find the most similar films to \"Star Wars\"\n",
    "most_similar(50, item_embeddings, indexed_items[\"title\"], top_n=10)"
   ]
  },
  {
   "cell_type": "code",
   "execution_count": 35,
   "metadata": {},
   "outputs": [
    {
     "data": {
      "text/plain": [
       "[(227, 'Star Trek VI: The Undiscovered Country (1991)', 0.9999999),\n",
       " (228, 'Star Trek: The Wrath of Khan (1982)', 0.8841823),\n",
       " (230, 'Star Trek IV: The Voyage Home (1986)', 0.88297784),\n",
       " (566, 'Clear and Present Danger (1994)', 0.8611108),\n",
       " (449, 'Star Trek: The Motion Picture (1979)', 0.8551394),\n",
       " (550, 'Die Hard: With a Vengeance (1995)', 0.85429),\n",
       " (429, 'Day the Earth Stood Still, The (1951)', 0.8483215),\n",
       " (662, 'Somewhere in Time (1980)', 0.8451643),\n",
       " (373, 'Judge Dredd (1995)', 0.844031),\n",
       " (229, 'Star Trek III: The Search for Spock (1984)', 0.8415296)]"
      ]
     },
     "execution_count": 35,
     "metadata": {},
     "output_type": "execute_result"
    }
   ],
   "source": [
    "# Find the most similar films to \"Star Trek VI: The Undiscovered Country\"\n",
    "most_similar(227, item_embeddings, indexed_items[\"title\"], top_n=10)"
   ]
  },
  {
   "cell_type": "markdown",
   "metadata": {},
   "source": [
    "The similarities do not always make sense: the number of ratings is low and the embedding  does not automatically capture semantic relationships in that context. Better representations arise with higher number of ratings, and less overfitting  in models or maybe better loss function, such as those based on implicit feedback."
   ]
  },
  {
   "cell_type": "markdown",
   "metadata": {},
   "source": [
    "### Visualizing embeddings using TSNE\n",
    "\n",
    "The [t-SNE](https://en.wikipedia.org/wiki/T-distributed_stochastic_neighbor_embedding) algorithm enables us to visualize high dimensional vectors in a 2D space by preserving local neighborhoods. We can use it to get a 2D visualization of the item embeddings and see if similar items are close in the embedding space."
   ]
  },
  {
   "cell_type": "code",
   "execution_count": 36,
   "metadata": {},
   "outputs": [],
   "source": [
    "from sklearn.manifold import TSNE\n",
    "\n",
    "item_tsne = TSNE(learning_rate=\"auto\", init=\"pca\", perplexity=30).fit_transform(item_embeddings)"
   ]
  },
  {
   "cell_type": "code",
   "execution_count": 37,
   "metadata": {},
   "outputs": [
    {
     "data": {
      "image/png": "[encoded data removed]",
      "text/plain": [
       "<Figure size 1000x1000 with 1 Axes>"
      ]
     },
     "metadata": {},
     "output_type": "display_data"
    }
   ],
   "source": [
    "import matplotlib.pyplot as plt\n",
    "\n",
    "plt.figure(figsize=(10, 10))\n",
    "plt.scatter(item_tsne[:, 0], item_tsne[:, 1]);\n",
    "plt.xticks(()); plt.yticks(());\n",
    "plt.show()"
   ]
  },
  {
   "cell_type": "code",
   "execution_count": 39,
   "metadata": {
    "tags": []
   },
   "outputs": [
    {
     "data": {
      "application/vnd.plotly.v1+json": {
       "config": {
        "plotlyServerURL": "https://plot.ly"
       },
       "data": [
        {
         "customdata": [
          [
           1,
           "Toy Story (1995)",
           452
          ],
          [
           2,
           "GoldenEye (1995)",
           131
          ],
          [
           3,
           "Four Rooms (1995)",
           90
          ],
          [
           4,
           "Get Shorty (1995)",
           209
          ],
          [
           5,
           "Copycat (1995)",
           86
          ],
          [
           6,
           "Shanghai Triad (Yao a yao yao dao waipo qiao) (1995)",
           26
          ],
          [
           7,
           "Twelve Monkeys (1995)",
           392
          ],
          [
           8,
           "Babe (1995)",
           219
          ],
          [
           9,
           "Dead Man Walking (1995)",
           299
          ],
          [
           10,
           "Richard III (1995)",
           89
          ],
          [
           11,
           "Seven (Se7en) (1995)",
           236
          ],
          [
           12,
           "Usual Suspects, The (1995)",
           267
          ],
          [
           13,
           "Mighty Aphrodite (1995)",
           184
          ],
          [
           14,
           "Postino, Il (1994)",
           183
          ],
          [
           15,
           "Mr. Holland's Opus (1995)",
           293
          ],
          [
           16,
           "French Twist (Gazon maudit) (1995)",
           39
          ],
          [
           17,
           "From Dusk Till Dawn (1996)",
           92
          ],
          [
           18,
           "White Balloon, The (1995)",
           10
          ],
          [
           19,
           "Antonia's Line (1995)",
           69
          ],
          [
           20,
           "Angels and Insects (1995)",
           72
          ],
          [
           21,
           "Muppet Treasure Island (1996)",
           84
          ],
          [
           22,
           "Braveheart (1995)",
           297
          ],
          [
           23,
           "Taxi Driver (1976)",
           182
          ],
          [
           24,
           "Rumble in the Bronx (1995)",
           174
          ],
          [
           25,
           "Birdcage, The (1996)",
           293
          ],
          [
           26,
           "Brothers McMullen, The (1995)",
           73
          ],
          [
           27,
           "Bad Boys (1995)",
           57
          ],
          [
           28,
           "Apollo 13 (1995)",
           276
          ],
          [
           29,
           "Batman Forever (1995)",
           114
          ],
          [
           30,
           "Belle de jour (1967)",
           37
          ],
          [
           31,
           "Crimson Tide (1995)",
           154
          ],
          [
           32,
           "Crumb (1994)",
           81
          ],
          [
           33,
           "Desperado (1995)",
           97
          ],
          [
           34,
           "Doom Generation, The (1995)",
           7
          ],
          [
           35,
           "Free Willy 2: The Adventure Home (1995)",
           11
          ],
          [
           36,
           "Mad Love (1995)",
           13
          ],
          [
           37,
           "Nadja (1994)",
           8
          ],
          [
           38,
           "Net, The (1995)",
           120
          ],
          [
           39,
           "Strange Days (1995)",
           87
          ],
          [
           40,
           "To Wong Foo, Thanks for Everything! Julie Newmar (1995)",
           57
          ],
          [
           41,
           "Billy Madison (1995)",
           37
          ],
          [
           42,
           "Clerks (1994)",
           148
          ],
          [
           43,
           "Disclosure (1994)",
           40
          ],
          [
           44,
           "Dolores Claiborne (1994)",
           79
          ],
          [
           45,
           "Eat Drink Man Woman (1994)",
           80
          ],
          [
           46,
           "Exotica (1994)",
           27
          ],
          [
           47,
           "Ed Wood (1994)",
           133
          ],
          [
           48,
           "Hoop Dreams (1994)",
           117
          ],
          [
           49,
           "I.Q. (1994)",
           81
          ],
          [
           50,
           "Star Wars (1977)",
           583
          ],
          [
           51,
           "Legends of the Fall (1994)",
           81
          ],
          [
           52,
           "Madness of King George, The (1994)",
           91
          ],
          [
           53,
           "Natural Born Killers (1994)",
           128
          ],
          [
           54,
           "Outbreak (1995)",
           104
          ],
          [
           55,
           "Professional, The (1994)",
           149
          ],
          [
           56,
           "Pulp Fiction (1994)",
           394
          ],
          [
           57,
           "Priest (1994)",
           40
          ],
          [
           58,
           "Quiz Show (1994)",
           175
          ],
          [
           59,
           "Three Colors: Red (1994)",
           83
          ],
          [
           60,
           "Three Colors: Blue (1993)",
           64
          ],
          [
           61,
           "Three Colors: White (1994)",
           59
          ],
          [
           62,
           "Stargate (1994)",
           127
          ],
          [
           63,
           "Santa Clause, The (1994)",
           82
          ],
          [
           64,
           "Shawshank Redemption, The (1994)",
           283
          ],
          [
           65,
           "What's Eating Gilbert Grape (1993)",
           115
          ],
          [
           66,
           "While You Were Sleeping (1995)",
           162
          ],
          [
           67,
           "Ace Ventura: Pet Detective (1994)",
           103
          ],
          [
           68,
           "Crow, The (1994)",
           134
          ],
          [
           69,
           "Forrest Gump (1994)",
           321
          ],
          [
           70,
           "Four Weddings and a Funeral (1994)",
           251
          ],
          [
           71,
           "Lion King, The (1994)",
           220
          ],
          [
           72,
           "Mask, The (1994)",
           129
          ],
          [
           73,
           "Maverick (1994)",
           128
          ],
          [
           74,
           "Faster Pussycat! Kill! Kill! (1965)",
           7
          ],
          [
           75,
           "Brother Minister: The Assassination of Malcolm X (1994)",
           5
          ],
          [
           76,
           "Carlito's Way (1993)",
           54
          ],
          [
           77,
           "Firm, The (1993)",
           151
          ],
          [
           78,
           "Free Willy (1993)",
           33
          ],
          [
           79,
           "Fugitive, The (1993)",
           336
          ],
          [
           80,
           "Hot Shots! Part Deux (1993)",
           68
          ],
          [
           81,
           "Hudsucker Proxy, The (1994)",
           110
          ],
          [
           82,
           "Jurassic Park (1993)",
           261
          ],
          [
           83,
           "Much Ado About Nothing (1993)",
           176
          ],
          [
           84,
           "Robert A. Heinlein's The Puppet Masters (1994)",
           18
          ],
          [
           85,
           "Ref, The (1994)",
           58
          ],
          [
           86,
           "Remains of the Day, The (1993)",
           150
          ],
          [
           87,
           "Searching for Bobby Fischer (1993)",
           138
          ],
          [
           88,
           "Sleepless in Seattle (1993)",
           213
          ],
          [
           89,
           "Blade Runner (1982)",
           275
          ],
          [
           90,
           "So I Married an Axe Murderer (1993)",
           95
          ],
          [
           91,
           "Nightmare Before Christmas, The (1993)",
           143
          ],
          [
           92,
           "True Romance (1993)",
           104
          ],
          [
           93,
           "Welcome to the Dollhouse (1995)",
           112
          ],
          [
           94,
           "Home Alone (1990)",
           137
          ],
          [
           95,
           "Aladdin (1992)",
           219
          ],
          [
           96,
           "Terminator 2: Judgment Day (1991)",
           295
          ],
          [
           97,
           "Dances with Wolves (1990)",
           256
          ],
          [
           98,
           "Silence of the Lambs, The (1991)",
           390
          ],
          [
           99,
           "Snow White and the Seven Dwarfs (1937)",
           172
          ],
          [
           100,
           "Fargo (1996)",
           508
          ],
          [
           101,
           "Heavy Metal (1981)",
           73
          ],
          [
           102,
           "Aristocats, The (1970)",
           54
          ],
          [
           103,
           "All Dogs Go to Heaven 2 (1996)",
           15
          ],
          [
           104,
           "Theodore Rex (1995)",
           5
          ],
          [
           105,
           "Sgt. Bilko (1996)",
           74
          ],
          [
           106,
           "Diabolique (1996)",
           71
          ],
          [
           107,
           "Moll Flanders (1996)",
           42
          ],
          [
           108,
           "Kids in the Hall: Brain Candy (1996)",
           65
          ],
          [
           109,
           "Mystery Science Theater 3000: The Movie (1996)",
           130
          ],
          [
           110,
           "Operation Dumbo Drop (1995)",
           31
          ],
          [
           111,
           "Truth About Cats & Dogs, The (1996)",
           272
          ],
          [
           112,
           "Flipper (1996)",
           20
          ],
          [
           113,
           "Horseman on the Roof, The (Hussard sur le toit, Le) (1995)",
           9
          ],
          [
           114,
           "Wallace & Gromit: The Best of Aardman Animation (1996)",
           67
          ],
          [
           115,
           "Haunted World of Edward D. Wood Jr., The (1995)",
           15
          ],
          [
           116,
           "Cold Comfort Farm (1995)",
           125
          ],
          [
           117,
           "Rock, The (1996)",
           378
          ],
          [
           118,
           "Twister (1996)",
           293
          ],
          [
           119,
           "Maya Lin: A Strong Clear Vision (1994)",
           4
          ],
          [
           120,
           "Striptease (1996)",
           67
          ],
          [
           121,
           "Independence Day (ID4) (1996)",
           429
          ],
          [
           122,
           "Cable Guy, The (1996)",
           106
          ],
          [
           123,
           "Frighteners, The (1996)",
           115
          ],
          [
           124,
           "Lone Star (1996)",
           187
          ],
          [
           125,
           "Phenomenon (1996)",
           244
          ],
          [
           126,
           "Spitfire Grill, The (1996)",
           97
          ],
          [
           127,
           "Godfather, The (1972)",
           413
          ],
          [
           128,
           "Supercop (1992)",
           65
          ],
          [
           129,
           "Bound (1996)",
           129
          ],
          [
           130,
           "Kansas City (1996)",
           23
          ],
          [
           131,
           "Breakfast at Tiffany's (1961)",
           95
          ],
          [
           132,
           "Wizard of Oz, The (1939)",
           246
          ],
          [
           133,
           "Gone with the Wind (1939)",
           171
          ],
          [
           134,
           "Citizen Kane (1941)",
           198
          ],
          [
           135,
           "2001: A Space Odyssey (1968)",
           259
          ],
          [
           136,
           "Mr. Smith Goes to Washington (1939)",
           105
          ],
          [
           137,
           "Big Night (1996)",
           171
          ],
          [
           138,
           "D3: The Mighty Ducks (1996)",
           19
          ],
          [
           139,
           "Love Bug, The (1969)",
           50
          ],
          [
           140,
           "Homeward Bound: The Incredible Journey (1993)",
           61
          ],
          [
           141,
           "20,000 Leagues Under the Sea (1954)",
           72
          ],
          [
           142,
           "Bedknobs and Broomsticks (1971)",
           57
          ],
          [
           143,
           "Sound of Music, The (1965)",
           222
          ],
          [
           144,
           "Die Hard (1988)",
           243
          ],
          [
           145,
           "Lawnmower Man, The (1992)",
           65
          ],
          [
           146,
           "Unhook the Stars (1996)",
           10
          ],
          [
           147,
           "Long Kiss Goodnight, The (1996)",
           185
          ],
          [
           148,
           "Ghost and the Darkness, The (1996)",
           128
          ],
          [
           149,
           "Jude (1996)",
           23
          ],
          [
           150,
           "Swingers (1996)",
           157
          ],
          [
           151,
           "Willy Wonka and the Chocolate Factory (1971)",
           326
          ],
          [
           152,
           "Sleeper (1973)",
           82
          ],
          [
           153,
           "Fish Called Wanda, A (1988)",
           247
          ],
          [
           154,
           "Monty Python's Life of Brian (1979)",
           174
          ],
          [
           155,
           "Dirty Dancing (1987)",
           98
          ],
          [
           156,
           "Reservoir Dogs (1992)",
           148
          ],
          [
           157,
           "Platoon (1986)",
           127
          ],
          [
           158,
           "Weekend at Bernie's (1989)",
           60
          ],
          [
           159,
           "Basic Instinct (1992)",
           101
          ],
          [
           160,
           "Glengarry Glen Ross (1992)",
           69
          ],
          [
           161,
           "Top Gun (1986)",
           220
          ],
          [
           162,
           "On Golden Pond (1981)",
           106
          ],
          [
           163,
           "Return of the Pink Panther, The (1974)",
           92
          ],
          [
           164,
           "Abyss, The (1989)",
           151
          ],
          [
           165,
           "Jean de Florette (1986)",
           64
          ],
          [
           166,
           "Manon of the Spring (Manon des sources) (1986)",
           58
          ],
          [
           167,
           "Private Benjamin (1980)",
           67
          ],
          [
           168,
           "Monty Python and the Holy Grail (1974)",
           316
          ],
          [
           169,
           "Wrong Trousers, The (1993)",
           118
          ],
          [
           170,
           "Cinema Paradiso (1988)",
           121
          ],
          [
           171,
           "Delicatessen (1991)",
           65
          ],
          [
           172,
           "Empire Strikes Back, The (1980)",
           367
          ],
          [
           173,
           "Princess Bride, The (1987)",
           324
          ],
          [
           174,
           "Raiders of the Lost Ark (1981)",
           420
          ],
          [
           175,
           "Brazil (1985)",
           208
          ],
          [
           176,
           "Aliens (1986)",
           284
          ],
          [
           177,
           "Good, The Bad and The Ugly, The (1966)",
           137
          ],
          [
           178,
           "12 Angry Men (1957)",
           125
          ],
          [
           179,
           "Clockwork Orange, A (1971)",
           221
          ],
          [
           180,
           "Apocalypse Now (1979)",
           221
          ],
          [
           181,
           "Return of the Jedi (1983)",
           507
          ],
          [
           182,
           "GoodFellas (1990)",
           226
          ],
          [
           183,
           "Alien (1979)",
           291
          ],
          [
           184,
           "Army of Darkness (1993)",
           116
          ],
          [
           185,
           "Psycho (1960)",
           239
          ],
          [
           186,
           "Blues Brothers, The (1980)",
           251
          ],
          [
           187,
           "Godfather: Part II, The (1974)",
           209
          ],
          [
           188,
           "Full Metal Jacket (1987)",
           170
          ],
          [
           189,
           "Grand Day Out, A (1992)",
           66
          ],
          [
           190,
           "Henry V (1989)",
           124
          ],
          [
           191,
           "Amadeus (1984)",
           276
          ],
          [
           192,
           "Raging Bull (1980)",
           116
          ],
          [
           193,
           "Right Stuff, The (1983)",
           157
          ],
          [
           194,
           "Sting, The (1973)",
           241
          ],
          [
           195,
           "Terminator, The (1984)",
           301
          ],
          [
           196,
           "Dead Poets Society (1989)",
           251
          ],
          [
           197,
           "Graduate, The (1967)",
           239
          ],
          [
           198,
           "Nikita (La Femme Nikita) (1990)",
           127
          ],
          [
           199,
           "Bridge on the River Kwai, The (1957)",
           165
          ],
          [
           200,
           "Shining, The (1980)",
           206
          ],
          [
           201,
           "Evil Dead II (1987)",
           89
          ],
          [
           202,
           "Groundhog Day (1993)",
           280
          ],
          [
           203,
           "Unforgiven (1992)",
           182
          ],
          [
           204,
           "Back to the Future (1985)",
           350
          ],
          [
           205,
           "Patton (1970)",
           136
          ],
          [
           206,
           "Akira (1988)",
           50
          ],
          [
           207,
           "Cyrano de Bergerac (1990)",
           66
          ],
          [
           208,
           "Young Frankenstein (1974)",
           200
          ],
          [
           209,
           "This Is Spinal Tap (1984)",
           191
          ],
          [
           210,
           "Indiana Jones and the Last Crusade (1989)",
           331
          ],
          [
           211,
           "M*A*S*H (1970)",
           206
          ],
          [
           212,
           "Unbearable Lightness of Being, The (1988)",
           92
          ],
          [
           213,
           "Room with a View, A (1986)",
           134
          ],
          [
           214,
           "Pink Floyd - The Wall (1982)",
           114
          ],
          [
           215,
           "Field of Dreams (1989)",
           212
          ],
          [
           216,
           "When Harry Met Sally... (1989)",
           290
          ],
          [
           217,
           "Bram Stoker's Dracula (1992)",
           120
          ],
          [
           218,
           "Cape Fear (1991)",
           171
          ],
          [
           219,
           "Nightmare on Elm Street, A (1984)",
           111
          ],
          [
           220,
           "Mirror Has Two Faces, The (1996)",
           66
          ],
          [
           221,
           "Breaking the Waves (1996)",
           74
          ],
          [
           222,
           "Star Trek: First Contact (1996)",
           365
          ],
          [
           223,
           "Sling Blade (1996)",
           136
          ],
          [
           224,
           "Ridicule (1996)",
           44
          ],
          [
           225,
           "101 Dalmatians (1996)",
           109
          ],
          [
           226,
           "Die Hard 2 (1990)",
           166
          ],
          [
           227,
           "Star Trek VI: The Undiscovered Country (1991)",
           161
          ],
          [
           228,
           "Star Trek: The Wrath of Khan (1982)",
           244
          ],
          [
           229,
           "Star Trek III: The Search for Spock (1984)",
           171
          ],
          [
           230,
           "Star Trek IV: The Voyage Home (1986)",
           199
          ],
          [
           231,
           "Batman Returns (1992)",
           142
          ],
          [
           232,
           "Young Guns (1988)",
           101
          ],
          [
           233,
           "Under Siege (1992)",
           124
          ],
          [
           234,
           "Jaws (1975)",
           280
          ],
          [
           235,
           "Mars Attacks! (1996)",
           217
          ],
          [
           236,
           "Citizen Ruth (1996)",
           45
          ],
          [
           237,
           "Jerry Maguire (1996)",
           384
          ],
          [
           238,
           "Raising Arizona (1987)",
           256
          ],
          [
           239,
           "Sneakers (1992)",
           150
          ],
          [
           240,
           "Beavis and Butt-head Do America (1996)",
           156
          ],
          [
           241,
           "Last of the Mohicans, The (1992)",
           128
          ],
          [
           242,
           "Kolya (1996)",
           117
          ],
          [
           243,
           "Jungle2Jungle (1997)",
           132
          ],
          [
           244,
           "Smilla's Sense of Snow (1997)",
           48
          ],
          [
           245,
           "Devil's Own, The (1997)",
           240
          ],
          [
           246,
           "Chasing Amy (1997)",
           124
          ],
          [
           247,
           "Turbo: A Power Rangers Movie (1997)",
           5
          ],
          [
           248,
           "Grosse Pointe Blank (1997)",
           160
          ],
          [
           249,
           "Austin Powers: International Man of Mystery (1997)",
           130
          ],
          [
           250,
           "Fifth Element, The (1997)",
           197
          ],
          [
           251,
           "Shall We Dance? (1996)",
           46
          ],
          [
           252,
           "Lost World: Jurassic Park, The (1997)",
           158
          ],
          [
           253,
           "Pillow Book, The (1995)",
           26
          ],
          [
           254,
           "Batman & Robin (1997)",
           62
          ],
          [
           255,
           "My Best Friend's Wedding (1997)",
           172
          ],
          [
           256,
           "When the Cats Away (Chacun cherche son chat) (1996)",
           16
          ],
          [
           257,
           "Men in Black (1997)",
           303
          ],
          [
           258,
           "Contact (1997)",
           509
          ],
          [
           259,
           "George of the Jungle (1997)",
           162
          ],
          [
           260,
           "Event Horizon (1997)",
           127
          ],
          [
           261,
           "Air Bud (1997)",
           43
          ],
          [
           262,
           "In the Company of Men (1997)",
           66
          ],
          [
           263,
           "Steel (1997)",
           19
          ],
          [
           264,
           "Mimic (1997)",
           101
          ],
          [
           265,
           "Hunt for Red October, The (1990)",
           227
          ],
          [
           266,
           "Kull the Conqueror (1997)",
           35
          ],
          [
           267,
           "unknown",
           9
          ],
          [
           268,
           "Chasing Amy (1997)",
           255
          ],
          [
           269,
           "Full Monty, The (1997)",
           315
          ],
          [
           270,
           "Gattaca (1997)",
           136
          ],
          [
           271,
           "Starship Troopers (1997)",
           211
          ],
          [
           272,
           "Good Will Hunting (1997)",
           198
          ],
          [
           273,
           "Heat (1995)",
           223
          ],
          [
           274,
           "Sabrina (1995)",
           190
          ],
          [
           275,
           "Sense and Sensibility (1995)",
           268
          ],
          [
           276,
           "Leaving Las Vegas (1995)",
           298
          ],
          [
           277,
           "Restoration (1995)",
           71
          ],
          [
           278,
           "Bed of Roses (1996)",
           60
          ],
          [
           279,
           "Once Upon a Time... When We Were Colored (1995)",
           28
          ],
          [
           280,
           "Up Close and Personal (1996)",
           85
          ],
          [
           281,
           "River Wild, The (1994)",
           146
          ],
          [
           282,
           "Time to Kill, A (1996)",
           232
          ],
          [
           283,
           "Emma (1996)",
           177
          ],
          [
           284,
           "Tin Cup (1996)",
           193
          ],
          [
           285,
           "Secrets & Lies (1996)",
           162
          ],
          [
           286,
           "English Patient, The (1996)",
           481
          ],
          [
           287,
           "Marvin's Room (1996)",
           78
          ],
          [
           288,
           "Scream (1996)",
           478
          ],
          [
           289,
           "Evita (1996)",
           259
          ],
          [
           290,
           "Fierce Creatures (1997)",
           96
          ],
          [
           291,
           "Absolute Power (1997)",
           127
          ],
          [
           292,
           "Rosewood (1997)",
           114
          ],
          [
           293,
           "Donnie Brasco (1997)",
           147
          ],
          [
           294,
           "Liar Liar (1997)",
           485
          ],
          [
           295,
           "Breakdown (1997)",
           77
          ],
          [
           296,
           "Promesse, La (1996)",
           6
          ],
          [
           297,
           "Ulee's Gold (1997)",
           50
          ],
          [
           298,
           "Face/Off (1997)",
           194
          ],
          [
           299,
           "Hoodlum (1997)",
           73
          ],
          [
           300,
           "Air Force One (1997)",
           431
          ],
          [
           301,
           "In & Out (1997)",
           230
          ],
          [
           302,
           "L.A. Confidential (1997)",
           297
          ],
          [
           303,
           "Ulee's Gold (1997)",
           134
          ],
          [
           304,
           "Fly Away Home (1996)",
           149
          ],
          [
           305,
           "Ice Storm, The (1997)",
           87
          ],
          [
           306,
           "Mrs. Brown (Her Majesty, Mrs. Brown) (1997)",
           96
          ],
          [
           307,
           "Devil's Advocate, The (1997)",
           188
          ],
          [
           308,
           "FairyTale: A True Story (1997)",
           30
          ],
          [
           309,
           "Deceiver (1997)",
           28
          ],
          [
           310,
           "Rainmaker, The (1997)",
           145
          ],
          [
           311,
           "Wings of the Dove, The (1997)",
           75
          ],
          [
           312,
           "Midnight in the Garden of Good and Evil (1997)",
           80
          ],
          [
           313,
           "Titanic (1997)",
           350
          ],
          [
           314,
           "3 Ninjas: High Noon At Mega Mountain (1998)",
           5
          ],
          [
           315,
           "Apt Pupil (1998)",
           160
          ],
          [
           316,
           "As Good As It Gets (1997)",
           112
          ],
          [
           317,
           "In the Name of the Father (1993)",
           102
          ],
          [
           318,
           "Schindler's List (1993)",
           298
          ],
          [
           319,
           "Everyone Says I Love You (1996)",
           168
          ],
          [
           320,
           "Paradise Lost: The Child Murders at Robin Hood Hills (1996)",
           20
          ],
          [
           321,
           "Mother (1996)",
           169
          ],
          [
           322,
           "Murder at 1600 (1997)",
           218
          ],
          [
           323,
           "Dante's Peak (1997)",
           240
          ],
          [
           324,
           "Lost Highway (1997)",
           125
          ],
          [
           325,
           "Crash (1996)",
           128
          ],
          [
           326,
           "G.I. Jane (1997)",
           175
          ],
          [
           327,
           "Cop Land (1997)",
           175
          ],
          [
           328,
           "Conspiracy Theory (1997)",
           295
          ],
          [
           329,
           "Desperate Measures (1998)",
           45
          ],
          [
           330,
           "187 (1997)",
           41
          ],
          [
           331,
           "Edge, The (1997)",
           113
          ],
          [
           332,
           "Kiss the Girls (1997)",
           143
          ],
          [
           333,
           "Game, The (1997)",
           251
          ],
          [
           334,
           "U Turn (1997)",
           64
          ],
          [
           335,
           "How to Be a Player (1997)",
           21
          ],
          [
           336,
           "Playing God (1997)",
           43
          ],
          [
           337,
           "House of Yes, The (1997)",
           18
          ],
          [
           338,
           "Bean (1997)",
           91
          ],
          [
           339,
           "Mad City (1997)",
           47
          ],
          [
           340,
           "Boogie Nights (1997)",
           189
          ],
          [
           341,
           "Critical Care (1997)",
           11
          ],
          [
           342,
           "Man Who Knew Too Little, The (1997)",
           52
          ],
          [
           343,
           "Alien: Resurrection (1997)",
           124
          ],
          [
           344,
           "Apostle, The (1997)",
           55
          ],
          [
           345,
           "Deconstructing Harry (1997)",
           65
          ],
          [
           346,
           "Jackie Brown (1997)",
           126
          ],
          [
           347,
           "Wag the Dog (1997)",
           137
          ],
          [
           348,
           "Desperate Measures (1998)",
           27
          ],
          [
           349,
           "Hard Rain (1998)",
           31
          ],
          [
           350,
           "Fallen (1998)",
           41
          ],
          [
           351,
           "Prophecy II, The (1998)",
           20
          ],
          [
           352,
           "Spice World (1997)",
           26
          ],
          [
           353,
           "Deep Rising (1998)",
           14
          ],
          [
           354,
           "Wedding Singer, The (1998)",
           72
          ],
          [
           355,
           "Sphere (1998)",
           41
          ],
          [
           356,
           "Client, The (1994)",
           97
          ],
          [
           357,
           "One Flew Over the Cuckoo's Nest (1975)",
           264
          ],
          [
           358,
           "Spawn (1997)",
           143
          ],
          [
           359,
           "Assignment, The (1997)",
           18
          ],
          [
           360,
           "Wonderland (1997)",
           10
          ],
          [
           361,
           "Incognito (1997)",
           10
          ],
          [
           362,
           "Blues Brothers 2000 (1998)",
           28
          ],
          [
           363,
           "Sudden Death (1995)",
           47
          ],
          [
           364,
           "Ace Ventura: When Nature Calls (1995)",
           37
          ],
          [
           365,
           "Powder (1995)",
           48
          ],
          [
           366,
           "Dangerous Minds (1995)",
           47
          ],
          [
           367,
           "Clueless (1995)",
           170
          ],
          [
           368,
           "Bio-Dome (1996)",
           31
          ],
          [
           369,
           "Black Sheep (1996)",
           55
          ],
          [
           370,
           "Mary Reilly (1996)",
           39
          ],
          [
           371,
           "Bridges of Madison County, The (1995)",
           67
          ],
          [
           372,
           "Jeffrey (1995)",
           34
          ],
          [
           373,
           "Judge Dredd (1995)",
           39
          ],
          [
           374,
           "Mighty Morphin Power Rangers: The Movie (1995)",
           11
          ],
          [
           375,
           "Showgirls (1995)",
           23
          ],
          [
           376,
           "Houseguest (1994)",
           24
          ],
          [
           377,
           "Heavyweights (1994)",
           13
          ],
          [
           378,
           "Miracle on 34th Street (1994)",
           101
          ],
          [
           379,
           "Tales From the Crypt Presents: Demon Knight (1995)",
           43
          ],
          [
           380,
           "Star Trek: Generations (1994)",
           116
          ],
          [
           381,
           "Muriel's Wedding (1994)",
           100
          ],
          [
           382,
           "Adventures of Priscilla, Queen of the Desert, The (1994)",
           111
          ],
          [
           383,
           "Flintstones, The (1994)",
           31
          ],
          [
           384,
           "Naked Gun 33 1/3: The Final Insult (1994)",
           69
          ],
          [
           385,
           "True Lies (1994)",
           208
          ],
          [
           386,
           "Addams Family Values (1993)",
           87
          ],
          [
           387,
           "Age of Innocence, The (1993)",
           65
          ],
          [
           388,
           "Beverly Hills Cop III (1994)",
           28
          ],
          [
           389,
           "Black Beauty (1994)",
           27
          ],
          [
           390,
           "Fear of a Black Hat (1993)",
           10
          ],
          [
           391,
           "Last Action Hero (1993)",
           59
          ],
          [
           392,
           "Man Without a Face, The (1993)",
           68
          ],
          [
           393,
           "Mrs. Doubtfire (1993)",
           192
          ],
          [
           394,
           "Radioland Murders (1994)",
           12
          ],
          [
           395,
           "Robin Hood: Men in Tights (1993)",
           56
          ],
          [
           396,
           "Serial Mom (1994)",
           54
          ],
          [
           397,
           "Striking Distance (1993)",
           12
          ],
          [
           398,
           "Super Mario Bros. (1993)",
           26
          ],
          [
           399,
           "Three Musketeers, The (1993)",
           89
          ],
          [
           400,
           "Little Rascals, The (1994)",
           18
          ],
          [
           401,
           "Brady Bunch Movie, The (1995)",
           76
          ],
          [
           402,
           "Ghost (1990)",
           170
          ],
          [
           403,
           "Batman (1989)",
           201
          ],
          [
           404,
           "Pinocchio (1940)",
           101
          ],
          [
           405,
           "Mission: Impossible (1996)",
           344
          ],
          [
           406,
           "Thinner (1996)",
           49
          ],
          [
           407,
           "Spy Hard (1996)",
           43
          ],
          [
           408,
           "Close Shave, A (1995)",
           112
          ],
          [
           409,
           "Jack (1996)",
           70
          ],
          [
           410,
           "Kingpin (1996)",
           162
          ],
          [
           411,
           "Nutty Professor, The (1996)",
           163
          ],
          [
           412,
           "Very Brady Sequel, A (1996)",
           93
          ],
          [
           413,
           "Tales from the Crypt Presents: Bordello of Blood (1996)",
           55
          ],
          [
           414,
           "My Favorite Year (1982)",
           62
          ],
          [
           415,
           "Apple Dumpling Gang, The (1975)",
           25
          ],
          [
           416,
           "Old Yeller (1957)",
           64
          ],
          [
           417,
           "Parent Trap, The (1961)",
           73
          ],
          [
           418,
           "Cinderella (1950)",
           129
          ],
          [
           419,
           "Mary Poppins (1964)",
           178
          ],
          [
           420,
           "Alice in Wonderland (1951)",
           81
          ],
          [
           421,
           "William Shakespeare's Romeo and Juliet (1996)",
           106
          ],
          [
           422,
           "Aladdin and the King of Thieves (1996)",
           26
          ],
          [
           423,
           "E.T. the Extra-Terrestrial (1982)",
           300
          ],
          [
           424,
           "Children of the Corn: The Gathering (1996)",
           19
          ],
          [
           425,
           "Bob Roberts (1992)",
           85
          ],
          [
           426,
           "Transformers: The Movie, The (1986)",
           32
          ],
          [
           427,
           "To Kill a Mockingbird (1962)",
           219
          ],
          [
           428,
           "Harold and Maude (1971)",
           121
          ],
          [
           429,
           "Day the Earth Stood Still, The (1951)",
           97
          ],
          [
           430,
           "Duck Soup (1933)",
           93
          ],
          [
           431,
           "Highlander (1986)",
           153
          ],
          [
           432,
           "Fantasia (1940)",
           174
          ],
          [
           433,
           "Heathers (1989)",
           171
          ],
          [
           434,
           "Forbidden Planet (1956)",
           67
          ],
          [
           435,
           "Butch Cassidy and the Sundance Kid (1969)",
           216
          ],
          [
           436,
           "American Werewolf in London, An (1981)",
           99
          ],
          [
           437,
           "Amityville 1992: It's About Time (1992)",
           5
          ],
          [
           438,
           "Amityville 3-D (1983)",
           6
          ],
          [
           439,
           "Amityville: A New Generation (1993)",
           5
          ],
          [
           440,
           "Amityville II: The Possession (1982)",
           14
          ],
          [
           441,
           "Amityville Horror, The (1979)",
           53
          ],
          [
           442,
           "Amityville Curse, The (1990)",
           4
          ],
          [
           443,
           "Birds, The (1963)",
           162
          ],
          [
           444,
           "Blob, The (1958)",
           46
          ],
          [
           445,
           "Body Snatcher, The (1945)",
           22
          ],
          [
           446,
           "Burnt Offerings (1976)",
           9
          ],
          [
           447,
           "Carrie (1976)",
           121
          ],
          [
           448,
           "Omen, The (1976)",
           85
          ],
          [
           449,
           "Star Trek: The Motion Picture (1979)",
           117
          ],
          [
           450,
           "Star Trek V: The Final Frontier (1989)",
           63
          ],
          [
           451,
           "Grease (1978)",
           170
          ],
          [
           452,
           "Jaws 2 (1978)",
           66
          ],
          [
           453,
           "Jaws 3-D (1983)",
           16
          ],
          [
           454,
           "Bastard Out of Carolina (1996)",
           16
          ],
          [
           455,
           "Jackie Chan's First Strike (1996)",
           145
          ],
          [
           456,
           "Beverly Hills Ninja (1997)",
           48
          ],
          [
           457,
           "Free Willy 3: The Rescue (1997)",
           27
          ],
          [
           458,
           "Nixon (1995)",
           90
          ],
          [
           459,
           "Cry, the Beloved Country (1995)",
           24
          ],
          [
           460,
           "Crossing Guard, The (1995)",
           28
          ],
          [
           461,
           "Smoke (1995)",
           74
          ],
          [
           462,
           "Like Water For Chocolate (Como agua para chocolate) (1992)",
           148
          ],
          [
           463,
           "Secret of Roan Inish, The (1994)",
           71
          ],
          [
           464,
           "Vanya on 42nd Street (1994)",
           27
          ],
          [
           465,
           "Jungle Book, The (1994)",
           85
          ],
          [
           466,
           "Red Rock West (1992)",
           52
          ],
          [
           467,
           "Bronx Tale, A (1993)",
           48
          ],
          [
           468,
           "Rudy (1993)",
           64
          ],
          [
           469,
           "Short Cuts (1993)",
           67
          ],
          [
           470,
           "Tombstone (1993)",
           108
          ],
          [
           471,
           "Courage Under Fire (1996)",
           221
          ],
          [
           472,
           "Dragonheart (1996)",
           158
          ],
          [
           473,
           "James and the Giant Peach (1996)",
           126
          ],
          [
           474,
           "Dr. Strangelove or: How I Learned to Stop Worrying and Love the Bomb (1963)",
           194
          ],
          [
           475,
           "Trainspotting (1996)",
           250
          ],
          [
           476,
           "First Wives Club, The (1996)",
           160
          ],
          [
           477,
           "Matilda (1996)",
           95
          ],
          [
           478,
           "Philadelphia Story, The (1940)",
           104
          ],
          [
           479,
           "Vertigo (1958)",
           179
          ],
          [
           480,
           "North by Northwest (1959)",
           179
          ],
          [
           481,
           "Apartment, The (1960)",
           63
          ],
          [
           482,
           "Some Like It Hot (1959)",
           128
          ],
          [
           483,
           "Casablanca (1942)",
           243
          ],
          [
           484,
           "Maltese Falcon, The (1941)",
           138
          ],
          [
           485,
           "My Fair Lady (1964)",
           125
          ],
          [
           486,
           "Sabrina (1954)",
           64
          ],
          [
           487,
           "Roman Holiday (1953)",
           68
          ],
          [
           488,
           "Sunset Blvd. (1950)",
           65
          ],
          [
           489,
           "Notorious (1946)",
           52
          ],
          [
           490,
           "To Catch a Thief (1955)",
           50
          ],
          [
           491,
           "Adventures of Robin Hood, The (1938)",
           67
          ],
          [
           492,
           "East of Eden (1955)",
           59
          ],
          [
           493,
           "Thin Man, The (1934)",
           60
          ],
          [
           494,
           "His Girl Friday (1940)",
           56
          ],
          [
           495,
           "Around the World in 80 Days (1956)",
           59
          ],
          [
           496,
           "It's a Wonderful Life (1946)",
           231
          ],
          [
           497,
           "Bringing Up Baby (1938)",
           68
          ],
          [
           498,
           "African Queen, The (1951)",
           152
          ],
          [
           499,
           "Cat on a Hot Tin Roof (1958)",
           62
          ],
          [
           500,
           "Fly Away Home (1996)",
           31
          ],
          [
           501,
           "Dumbo (1941)",
           123
          ],
          [
           502,
           "Bananas (1971)",
           57
          ],
          [
           503,
           "Candidate, The (1972)",
           39
          ],
          [
           504,
           "Bonnie and Clyde (1967)",
           122
          ],
          [
           505,
           "Dial M for Murder (1954)",
           68
          ],
          [
           506,
           "Rebel Without a Cause (1955)",
           90
          ],
          [
           507,
           "Streetcar Named Desire, A (1951)",
           98
          ],
          [
           508,
           "People vs. Larry Flynt, The (1996)",
           215
          ],
          [
           509,
           "My Left Foot (1989)",
           121
          ],
          [
           510,
           "Magnificent Seven, The (1954)",
           121
          ],
          [
           511,
           "Lawrence of Arabia (1962)",
           173
          ],
          [
           512,
           "Wings of Desire (1987)",
           57
          ],
          [
           513,
           "Third Man, The (1949)",
           72
          ],
          [
           514,
           "Annie Hall (1977)",
           180
          ],
          [
           515,
           "Boot, Das (1981)",
           201
          ],
          [
           516,
           "Local Hero (1983)",
           63
          ],
          [
           517,
           "Manhattan (1979)",
           91
          ],
          [
           518,
           "Miller's Crossing (1990)",
           89
          ],
          [
           519,
           "Treasure of the Sierra Madre, The (1948)",
           80
          ],
          [
           520,
           "Great Escape, The (1963)",
           124
          ],
          [
           521,
           "Deer Hunter, The (1978)",
           120
          ],
          [
           522,
           "Down by Law (1986)",
           35
          ],
          [
           523,
           "Cool Hand Luke (1967)",
           164
          ],
          [
           524,
           "Great Dictator, The (1940)",
           46
          ],
          [
           525,
           "Big Sleep, The (1946)",
           73
          ],
          [
           526,
           "Ben-Hur (1959)",
           124
          ],
          [
           527,
           "Gandhi (1982)",
           195
          ],
          [
           528,
           "Killing Fields, The (1984)",
           121
          ],
          [
           529,
           "My Life as a Dog (Mitt liv som hund) (1985)",
           93
          ],
          [
           530,
           "Man Who Would Be King, The (1975)",
           80
          ],
          [
           531,
           "Shine (1996)",
           129
          ],
          [
           532,
           "Kama Sutra: A Tale of Love (1996)",
           22
          ],
          [
           533,
           "Daytrippers, The (1996)",
           15
          ],
          [
           534,
           "Traveller (1997)",
           13
          ],
          [
           535,
           "Addicted to Love (1997)",
           54
          ],
          [
           536,
           "Ponette (1996)",
           10
          ],
          [
           537,
           "My Own Private Idaho (1991)",
           30
          ],
          [
           538,
           "Anastasia (1997)",
           66
          ],
          [
           539,
           "Mouse Hunt (1997)",
           44
          ],
          [
           540,
           "Money Train (1995)",
           43
          ],
          [
           541,
           "Mortal Kombat (1995)",
           49
          ],
          [
           542,
           "Pocahontas (1995)",
           51
          ],
          [
           543,
           "Misérables, Les (1995)",
           21
          ],
          [
           544,
           "Things to Do in Denver when You're Dead (1995)",
           71
          ],
          [
           545,
           "Vampire in Brooklyn (1995)",
           12
          ],
          [
           546,
           "Broken Arrow (1996)",
           254
          ],
          [
           547,
           "Young Poisoner's Handbook, The (1995)",
           41
          ],
          [
           548,
           "NeverEnding Story III, The (1994)",
           12
          ],
          [
           549,
           "Rob Roy (1995)",
           92
          ],
          [
           550,
           "Die Hard: With a Vengeance (1995)",
           151
          ],
          [
           551,
           "Lord of Illusions (1995)",
           24
          ],
          [
           552,
           "Species (1995)",
           45
          ],
          [
           553,
           "Walk in the Clouds, A (1995)",
           63
          ],
          [
           554,
           "Waterworld (1995)",
           102
          ],
          [
           555,
           "White Man's Burden (1995)",
           10
          ],
          [
           556,
           "Wild Bill (1995)",
           12
          ],
          [
           557,
           "Farinelli: il castrato (1994)",
           17
          ],
          [
           558,
           "Heavenly Creatures (1994)",
           70
          ],
          [
           559,
           "Interview with the Vampire (1994)",
           137
          ],
          [
           560,
           "Kid in King Arthur's Court, A (1995)",
           22
          ],
          [
           561,
           "Mary Shelley's Frankenstein (1994)",
           59
          ],
          [
           562,
           "Quick and the Dead, The (1995)",
           48
          ],
          [
           563,
           "Stephen King's The Langoliers (1995)",
           29
          ],
          [
           564,
           "Tales from the Hood (1995)",
           27
          ],
          [
           565,
           "Village of the Damned (1995)",
           22
          ],
          [
           566,
           "Clear and Present Danger (1994)",
           179
          ],
          [
           567,
           "Wes Craven's New Nightmare (1994)",
           35
          ],
          [
           568,
           "Speed (1994)",
           230
          ],
          [
           569,
           "Wolf (1994)",
           67
          ],
          [
           570,
           "Wyatt Earp (1994)",
           50
          ],
          [
           571,
           "Another Stakeout (1993)",
           28
          ],
          [
           572,
           "Blown Away (1994)",
           29
          ],
          [
           573,
           "Body Snatchers (1993)",
           33
          ],
          [
           574,
           "Boxing Helena (1993)",
           15
          ],
          [
           575,
           "City Slickers II: The Legend of Curly's Gold (1994)",
           44
          ],
          [
           576,
           "Cliffhanger (1993)",
           93
          ],
          [
           577,
           "Coneheads (1993)",
           41
          ],
          [
           578,
           "Demolition Man (1993)",
           92
          ],
          [
           579,
           "Fatal Instinct (1993)",
           19
          ],
          [
           580,
           "Englishman Who Went Up a Hill, But Came Down a Mountain, The (1995)",
           32
          ],
          [
           581,
           "Kalifornia (1993)",
           59
          ],
          [
           582,
           "Piano, The (1993)",
           168
          ],
          [
           583,
           "Romeo Is Bleeding (1993)",
           37
          ],
          [
           584,
           "Secret Garden, The (1993)",
           79
          ],
          [
           585,
           "Son in Law (1993)",
           39
          ],
          [
           586,
           "Terminal Velocity (1994)",
           34
          ],
          [
           587,
           "Hour of the Pig, The (1993)",
           14
          ],
          [
           588,
           "Beauty and the Beast (1991)",
           202
          ],
          [
           589,
           "Wild Bunch, The (1969)",
           43
          ],
          [
           590,
           "Hellraiser: Bloodline (1996)",
           18
          ],
          [
           591,
           "Primal Fear (1996)",
           178
          ],
          [
           592,
           "True Crime (1995)",
           9
          ],
          [
           593,
           "Stalingrad (1993)",
           12
          ],
          [
           594,
           "Heavy (1995)",
           5
          ],
          [
           595,
           "Fan, The (1996)",
           64
          ],
          [
           596,
           "Hunchback of Notre Dame, The (1996)",
           127
          ],
          [
           597,
           "Eraser (1996)",
           206
          ],
          [
           598,
           "Big Squeeze, The (1996)",
           4
          ],
          [
           599,
           "Police Story 4: Project S (Chao ji ji hua) (1993)",
           1
          ],
          [
           600,
           "Daniel Defoe's Robinson Crusoe (1996)",
           2
          ],
          [
           601,
           "For Whom the Bell Tolls (1943)",
           20
          ],
          [
           602,
           "American in Paris, An (1951)",
           50
          ],
          [
           603,
           "Rear Window (1954)",
           209
          ],
          [
           604,
           "It Happened One Night (1934)",
           81
          ],
          [
           605,
           "Meet Me in St. Louis (1944)",
           31
          ],
          [
           606,
           "All About Eve (1950)",
           66
          ],
          [
           607,
           "Rebecca (1940)",
           66
          ],
          [
           608,
           "Spellbound (1945)",
           30
          ],
          [
           609,
           "Father of the Bride (1950)",
           60
          ],
          [
           610,
           "Gigi (1958)",
           41
          ],
          [
           611,
           "Laura (1944)",
           40
          ],
          [
           612,
           "Lost Horizon (1937)",
           34
          ],
          [
           613,
           "My Man Godfrey (1936)",
           27
          ],
          [
           614,
           "Giant (1956)",
           51
          ],
          [
           615,
           "39 Steps, The (1935)",
           59
          ],
          [
           616,
           "Night of the Living Dead (1968)",
           64
          ],
          [
           617,
           "Blue Angel, The (Blaue Engel, Der) (1930)",
           18
          ],
          [
           618,
           "Picnic (1955)",
           18
          ],
          [
           619,
           "Extreme Measures (1996)",
           64
          ],
          [
           620,
           "Chamber, The (1996)",
           43
          ],
          [
           621,
           "Davy Crockett, King of the Wild Frontier (1955)",
           11
          ],
          [
           622,
           "Swiss Family Robinson (1960)",
           39
          ],
          [
           623,
           "Angels in the Outfield (1994)",
           39
          ],
          [
           624,
           "Three Caballeros, The (1945)",
           22
          ],
          [
           625,
           "Sword in the Stone, The (1963)",
           82
          ],
          [
           626,
           "So Dear to My Heart (1949)",
           4
          ],
          [
           627,
           "Robin Hood: Prince of Thieves (1991)",
           75
          ],
          [
           628,
           "Sleepers (1996)",
           169
          ],
          [
           629,
           "Victor/Victoria (1982)",
           77
          ],
          [
           630,
           "Great Race, The (1965)",
           31
          ],
          [
           631,
           "Crying Game, The (1992)",
           119
          ],
          [
           632,
           "Sophie's Choice (1982)",
           58
          ],
          [
           633,
           "Christmas Carol, A (1938)",
           69
          ],
          [
           634,
           "Microcosmos: Le peuple de l'herbe (1996)",
           24
          ],
          [
           635,
           "Fog, The (1980)",
           23
          ],
          [
           636,
           "Escape from New York (1981)",
           91
          ],
          [
           637,
           "Howling, The (1981)",
           38
          ],
          [
           638,
           "Return of Martin Guerre, The (Retour de Martin Guerre, Le) (1982)",
           44
          ],
          [
           639,
           "Tin Drum, The (Blechtrommel, Die) (1979)",
           40
          ],
          [
           640,
           "Cook the Thief His Wife & Her Lover, The (1989)",
           82
          ],
          [
           641,
           "Paths of Glory (1957)",
           33
          ],
          [
           642,
           "Grifters, The (1990)",
           89
          ],
          [
           643,
           "The Innocent (1994)",
           4
          ],
          [
           644,
           "Thin Blue Line, The (1988)",
           35
          ],
          [
           645,
           "Paris Is Burning (1990)",
           27
          ],
          [
           646,
           "Once Upon a Time in the West (1969)",
           38
          ],
          [
           647,
           "Ran (1985)",
           70
          ],
          [
           648,
           "Quiet Man, The (1952)",
           67
          ],
          [
           649,
           "Once Upon a Time in America (1984)",
           50
          ],
          [
           650,
           "Seventh Seal, The (Sjunde inseglet, Det) (1957)",
           72
          ],
          [
           651,
           "Glory (1989)",
           171
          ],
          [
           652,
           "Rosencrantz and Guildenstern Are Dead (1990)",
           90
          ],
          [
           653,
           "Touch of Evil (1958)",
           34
          ],
          [
           654,
           "Chinatown (1974)",
           147
          ],
          [
           655,
           "Stand by Me (1986)",
           227
          ],
          [
           656,
           "M (1931)",
           44
          ],
          [
           657,
           "Manchurian Candidate, The (1962)",
           131
          ],
          [
           658,
           "Pump Up the Volume (1990)",
           79
          ],
          [
           659,
           "Arsenic and Old Lace (1944)",
           115
          ],
          [
           660,
           "Fried Green Tomatoes (1991)",
           153
          ],
          [
           661,
           "High Noon (1952)",
           88
          ],
          [
           662,
           "Somewhere in Time (1980)",
           82
          ],
          [
           663,
           "Being There (1979)",
           116
          ],
          [
           664,
           "Paris, Texas (1984)",
           46
          ],
          [
           665,
           "Alien 3 (1992)",
           100
          ],
          [
           666,
           "Blood For Dracula (Andy Warhol's Dracula) (1974)",
           5
          ],
          [
           667,
           "Audrey Rose (1977)",
           12
          ],
          [
           668,
           "Blood Beach (1981)",
           6
          ],
          [
           669,
           "Body Parts (1991)",
           13
          ],
          [
           670,
           "Body Snatchers (1993)",
           36
          ],
          [
           671,
           "Bride of Frankenstein (1935)",
           46
          ],
          [
           672,
           "Candyman (1992)",
           65
          ],
          [
           673,
           "Cape Fear (1962)",
           86
          ],
          [
           674,
           "Cat People (1982)",
           48
          ],
          [
           675,
           "Nosferatu (Nosferatu, eine Symphonie des Grauens) (1922)",
           54
          ],
          [
           676,
           "Crucible, The (1996)",
           77
          ],
          [
           677,
           "Fire on the Mountain (1996)",
           1
          ],
          [
           678,
           "Volcano (1997)",
           219
          ],
          [
           679,
           "Conan the Barbarian (1981)",
           107
          ],
          [
           680,
           "Kull the Conqueror (1997)",
           34
          ],
          [
           681,
           "Wishmaster (1997)",
           27
          ],
          [
           682,
           "I Know What You Did Last Summer (1997)",
           100
          ],
          [
           683,
           "Rocket Man (1997)",
           49
          ],
          [
           684,
           "In the Line of Fire (1993)",
           169
          ],
          [
           685,
           "Executive Decision (1996)",
           157
          ],
          [
           686,
           "Perfect World, A (1993)",
           50
          ],
          [
           687,
           "McHale's Navy (1997)",
           69
          ],
          [
           688,
           "Leave It to Beaver (1997)",
           44
          ],
          [
           689,
           "Jackal, The (1997)",
           87
          ],
          [
           690,
           "Seven Years in Tibet (1997)",
           155
          ],
          [
           691,
           "Dark City (1998)",
           16
          ],
          [
           692,
           "American President, The (1995)",
           164
          ],
          [
           693,
           "Casino (1995)",
           91
          ],
          [
           694,
           "Persuasion (1995)",
           44
          ],
          [
           695,
           "Kicking and Screaming (1995)",
           13
          ],
          [
           696,
           "City Hall (1996)",
           79
          ],
          [
           697,
           "Basketball Diaries, The (1995)",
           40
          ],
          [
           698,
           "Browning Version, The (1994)",
           10
          ],
          [
           699,
           "Little Women (1994)",
           102
          ],
          [
           700,
           "Miami Rhapsody (1995)",
           15
          ],
          [
           701,
           "Wonderful, Horrible Life of Leni Riefenstahl, The (1993)",
           10
          ],
          [
           702,
           "Barcelona (1994)",
           53
          ],
          [
           703,
           "Widows' Peak (1994)",
           19
          ],
          [
           704,
           "House of the Spirits, The (1993)",
           24
          ],
          [
           705,
           "Singin' in the Rain (1952)",
           137
          ],
          [
           706,
           "Bad Moon (1996)",
           6
          ],
          [
           707,
           "Enchanted April (1991)",
           70
          ],
          [
           708,
           "Sex, Lies, and Videotape (1989)",
           101
          ],
          [
           709,
           "Strictly Ballroom (1992)",
           104
          ],
          [
           710,
           "Better Off Dead... (1985)",
           79
          ],
          [
           711,
           "Substance of Fire, The (1996)",
           1
          ],
          [
           712,
           "Tin Men (1987)",
           51
          ],
          [
           713,
           "Othello (1995)",
           72
          ],
          [
           714,
           "Carrington (1995)",
           13
          ],
          [
           715,
           "To Die For (1995)",
           87
          ],
          [
           716,
           "Home for the Holidays (1995)",
           58
          ],
          [
           717,
           "Juror, The (1996)",
           82
          ],
          [
           718,
           "In the Bleak Midwinter (1995)",
           16
          ],
          [
           719,
           "Canadian Bacon (1994)",
           29
          ],
          [
           720,
           "First Knight (1995)",
           86
          ],
          [
           721,
           "Mallrats (1995)",
           54
          ],
          [
           722,
           "Nine Months (1995)",
           58
          ],
          [
           723,
           "Boys on the Side (1995)",
           34
          ],
          [
           724,
           "Circle of Friends (1995)",
           76
          ],
          [
           725,
           "Exit to Eden (1994)",
           16
          ],
          [
           726,
           "Fluke (1995)",
           14
          ],
          [
           727,
           "Immortal Beloved (1994)",
           63
          ],
          [
           728,
           "Junior (1994)",
           45
          ],
          [
           729,
           "Nell (1994)",
           81
          ],
          [
           730,
           "Queen Margot (Reine Margot, La) (1994)",
           24
          ],
          [
           731,
           "Corrina, Corrina (1994)",
           39
          ],
          [
           732,
           "Dave (1993)",
           180
          ],
          [
           733,
           "Go Fish (1994)",
           15
          ],
          [
           734,
           "Made in America (1993)",
           27
          ],
          [
           735,
           "Philadelphia (1993)",
           137
          ],
          [
           736,
           "Shadowlands (1993)",
           78
          ],
          [
           737,
           "Sirens (1994)",
           59
          ],
          [
           738,
           "Threesome (1994)",
           31
          ],
          [
           739,
           "Pretty Woman (1990)",
           164
          ],
          [
           740,
           "Jane Eyre (1996)",
           63
          ],
          [
           741,
           "Last Supper, The (1995)",
           58
          ],
          [
           742,
           "Ransom (1996)",
           267
          ],
          [
           743,
           "Crow: City of Angels, The (1996)",
           39
          ],
          [
           744,
           "Michael Collins (1996)",
           92
          ],
          [
           745,
           "Ruling Class, The (1972)",
           16
          ],
          [
           746,
           "Real Genius (1985)",
           119
          ],
          [
           747,
           "Benny & Joon (1993)",
           102
          ],
          [
           748,
           "Saint, The (1997)",
           316
          ],
          [
           749,
           "MatchMaker, The (1997)",
           51
          ],
          [
           750,
           "Amistad (1997)",
           124
          ],
          [
           751,
           "Tomorrow Never Dies (1997)",
           180
          ],
          [
           752,
           "Replacement Killers, The (1998)",
           39
          ],
          [
           753,
           "Burnt By the Sun (1994)",
           24
          ],
          [
           754,
           "Red Corner (1997)",
           57
          ],
          [
           755,
           "Jumanji (1995)",
           96
          ],
          [
           756,
           "Father of the Bride Part II (1995)",
           128
          ],
          [
           757,
           "Across the Sea of Time (1995)",
           4
          ],
          [
           758,
           "Lawnmower Man 2: Beyond Cyberspace (1996)",
           21
          ],
          [
           759,
           "Fair Game (1995)",
           11
          ],
          [
           760,
           "Screamers (1995)",
           46
          ],
          [
           761,
           "Nick of Time (1995)",
           44
          ],
          [
           762,
           "Beautiful Girls (1996)",
           115
          ],
          [
           763,
           "Happy Gilmore (1996)",
           149
          ],
          [
           764,
           "If Lucy Fell (1996)",
           29
          ],
          [
           765,
           "Boomerang (1992)",
           32
          ],
          [
           766,
           "Man of the Year (1995)",
           9
          ],
          [
           767,
           "Addiction, The (1995)",
           11
          ],
          [
           768,
           "Casper (1995)",
           52
          ],
          [
           769,
           "Congo (1995)",
           42
          ],
          [
           770,
           "Devil in a Blue Dress (1995)",
           57
          ],
          [
           771,
           "Johnny Mnemonic (1995)",
           41
          ],
          [
           772,
           "Kids (1995)",
           49
          ],
          [
           773,
           "Mute Witness (1994)",
           17
          ],
          [
           774,
           "Prophecy, The (1995)",
           32
          ],
          [
           775,
           "Something to Talk About (1995)",
           26
          ],
          [
           776,
           "Three Wishes (1995)",
           9
          ],
          [
           777,
           "Castle Freak (1995)",
           4
          ],
          [
           778,
           "Don Juan DeMarco (1995)",
           76
          ],
          [
           779,
           "Drop Zone (1994)",
           31
          ],
          [
           780,
           "Dumb & Dumber (1994)",
           69
          ],
          [
           781,
           "French Kiss (1995)",
           84
          ],
          [
           782,
           "Little Odessa (1994)",
           10
          ],
          [
           783,
           "Milk Money (1994)",
           37
          ],
          [
           784,
           "Beyond Bedlam (1993)",
           2
          ],
          [
           785,
           "Only You (1994)",
           39
          ],
          [
           786,
           "Perez Family, The (1995)",
           14
          ],
          [
           787,
           "Roommates (1995)",
           13
          ],
          [
           788,
           "Relative Fear (1994)",
           3
          ],
          [
           789,
           "Swimming with Sharks (1995)",
           47
          ],
          [
           790,
           "Tommy Boy (1995)",
           66
          ],
          [
           791,
           "Baby-Sitters Club, The (1995)",
           10
          ],
          [
           792,
           "Bullets Over Broadway (1994)",
           86
          ],
          [
           793,
           "Crooklyn (1994)",
           10
          ],
          [
           794,
           "It Could Happen to You (1994)",
           46
          ],
          [
           795,
           "Richie Rich (1994)",
           21
          ],
          [
           796,
           "Speechless (1994)",
           36
          ],
          [
           797,
           "Timecop (1994)",
           31
          ],
          [
           798,
           "Bad Company (1995)",
           9
          ],
          [
           799,
           "Boys Life (1995)",
           5
          ],
          [
           800,
           "In the Mouth of Madness (1995)",
           26
          ],
          [
           801,
           "Air Up There, The (1994)",
           16
          ],
          [
           802,
           "Hard Target (1993)",
           40
          ],
          [
           803,
           "Heaven & Earth (1993)",
           9
          ],
          [
           804,
           "Jimmy Hollywood (1994)",
           8
          ],
          [
           805,
           "Manhattan Murder Mystery (1993)",
           27
          ],
          [
           806,
           "Menace II Society (1993)",
           50
          ],
          [
           807,
           "Poetic Justice (1993)",
           9
          ],
          [
           808,
           "Program, The (1993)",
           31
          ],
          [
           809,
           "Rising Sun (1993)",
           43
          ],
          [
           810,
           "Shadow, The (1994)",
           45
          ],
          [
           811,
           "Thirty-Two Short Films About Glenn Gould (1993)",
           18
          ],
          [
           812,
           "Andre (1994)",
           18
          ],
          [
           813,
           "Celluloid Closet, The (1995)",
           56
          ],
          [
           814,
           "Great Day in Harlem, A (1994)",
           1
          ],
          [
           815,
           "One Fine Day (1996)",
           112
          ],
          [
           816,
           "Candyman: Farewell to the Flesh (1995)",
           21
          ],
          [
           817,
           "Frisk (1995)",
           3
          ],
          [
           818,
           "Girl 6 (1996)",
           25
          ],
          [
           819,
           "Eddie (1996)",
           40
          ],
          [
           820,
           "Space Jam (1996)",
           93
          ],
          [
           821,
           "Mrs. Winterbourne (1996)",
           22
          ],
          [
           822,
           "Faces (1968)",
           4
          ],
          [
           823,
           "Mulholland Falls (1996)",
           82
          ],
          [
           824,
           "Great White Hype, The (1996)",
           49
          ],
          [
           825,
           "Arrival, The (1996)",
           83
          ],
          [
           826,
           "Phantom, The (1996)",
           80
          ],
          [
           827,
           "Daylight (1996)",
           57
          ],
          [
           828,
           "Alaska (1996)",
           13
          ],
          [
           829,
           "Fled (1996)",
           34
          ],
          [
           830,
           "Power 98 (1995)",
           1
          ],
          [
           831,
           "Escape from L.A. (1996)",
           91
          ],
          [
           832,
           "Bogus (1996)",
           22
          ],
          [
           833,
           "Bulletproof (1996)",
           49
          ],
          [
           834,
           "Halloween: The Curse of Michael Myers (1995)",
           25
          ],
          [
           835,
           "Gay Divorcee, The (1934)",
           15
          ],
          [
           836,
           "Ninotchka (1939)",
           26
          ],
          [
           837,
           "Meet John Doe (1941)",
           25
          ],
          [
           838,
           "In the Line of Duty 2 (1987)",
           4
          ],
          [
           839,
           "Loch Ness (1995)",
           4
          ],
          [
           840,
           "Last Man Standing (1996)",
           53
          ],
          [
           841,
           "Glimmer Man, The (1996)",
           48
          ],
          [
           842,
           "Pollyanna (1960)",
           27
          ],
          [
           843,
           "Shaggy Dog, The (1959)",
           30
          ],
          [
           844,
           "Freeway (1996)",
           42
          ],
          [
           845,
           "That Thing You Do! (1996)",
           176
          ],
          [
           846,
           "To Gillian on Her 37th Birthday (1996)",
           44
          ],
          [
           847,
           "Looking for Richard (1996)",
           55
          ],
          [
           848,
           "Murder, My Sweet (1944)",
           9
          ],
          [
           849,
           "Days of Thunder (1990)",
           53
          ],
          [
           850,
           "Perfect Candidate, A (1996)",
           4
          ],
          [
           851,
           "Two or Three Things I Know About Her (1966)",
           4
          ],
          [
           852,
           "Bloody Child, The (1996)",
           1
          ],
          [
           853,
           "Braindead (1992)",
           14
          ],
          [
           854,
           "Bad Taste (1987)",
           16
          ],
          [
           855,
           "Diva (1981)",
           66
          ],
          [
           856,
           "Night on Earth (1991)",
           36
          ],
          [
           857,
           "Paris Was a Woman (1995)",
           1
          ],
          [
           858,
           "Amityville: Dollhouse (1996)",
           3
          ],
          [
           859,
           "April Fool's Day (1986)",
           15
          ],
          [
           860,
           "Believers, The (1987)",
           16
          ],
          [
           861,
           "Nosferatu a Venezia (1986)",
           3
          ],
          [
           862,
           "Jingle All the Way (1996)",
           18
          ],
          [
           863,
           "Garden of Finzi-Contini, The (Giardino dei Finzi-Contini, Il) (1970)",
           24
          ],
          [
           864,
           "My Fellow Americans (1996)",
           86
          ],
          [
           865,
           "Ice Storm, The (1997)",
           21
          ],
          [
           866,
           "Michael (1996)",
           119
          ],
          [
           867,
           "Whole Wide World, The (1996)",
           6
          ],
          [
           868,
           "Hearts and Minds (1996)",
           5
          ],
          [
           869,
           "Fools Rush In (1997)",
           24
          ],
          [
           870,
           "Touch (1997)",
           9
          ],
          [
           871,
           "Vegas Vacation (1997)",
           75
          ],
          [
           872,
           "Love Jones (1997)",
           42
          ],
          [
           873,
           "Picture Perfect (1997)",
           81
          ],
          [
           874,
           "Career Girls (1997)",
           39
          ],
          [
           875,
           "She's So Lovely (1997)",
           53
          ],
          [
           876,
           "Money Talks (1997)",
           47
          ],
          [
           877,
           "Excess Baggage (1997)",
           52
          ],
          [
           878,
           "That Darn Cat! (1997)",
           33
          ],
          [
           879,
           "Peacemaker, The (1997)",
           136
          ],
          [
           880,
           "Soul Food (1997)",
           59
          ],
          [
           881,
           "Money Talks (1997)",
           45
          ],
          [
           882,
           "Washington Square (1997)",
           34
          ],
          [
           883,
           "Telling Lies in America (1997)",
           13
          ],
          [
           884,
           "Year of the Horse (1997)",
           7
          ],
          [
           885,
           "Phantoms (1998)",
           13
          ],
          [
           886,
           "Life Less Ordinary, A (1997)",
           53
          ],
          [
           887,
           "Eve's Bayou (1997)",
           64
          ],
          [
           888,
           "One Night Stand (1997)",
           15
          ],
          [
           889,
           "Tango Lesson, The (1997)",
           13
          ],
          [
           890,
           "Mortal Kombat: Annihilation (1997)",
           43
          ],
          [
           891,
           "Bent (1997)",
           6
          ],
          [
           892,
           "Flubber (1997)",
           53
          ],
          [
           893,
           "For Richer or Poorer (1997)",
           14
          ],
          [
           894,
           "Home Alone 3 (1997)",
           19
          ],
          [
           895,
           "Scream 2 (1997)",
           106
          ],
          [
           896,
           "Sweet Hereafter, The (1997)",
           44
          ],
          [
           897,
           "Time Tracers (1995)",
           2
          ],
          [
           898,
           "Postman, The (1997)",
           58
          ],
          [
           899,
           "Winter Guest, The (1997)",
           9
          ],
          [
           900,
           "Kundun (1997)",
           42
          ],
          [
           901,
           "Mr. Magoo (1997)",
           12
          ],
          [
           902,
           "Big Lebowski, The (1998)",
           42
          ],
          [
           903,
           "Afterglow (1997)",
           18
          ],
          [
           904,
           "Ma vie en rose (My Life in Pink) (1997)",
           20
          ],
          [
           905,
           "Great Expectations (1998)",
           27
          ],
          [
           906,
           "Oscar & Lucinda (1997)",
           21
          ],
          [
           907,
           "Vermin (1998)",
           2
          ],
          [
           908,
           "Half Baked (1998)",
           20
          ],
          [
           909,
           "Dangerous Beauty (1998)",
           13
          ],
          [
           910,
           "Nil By Mouth (1997)",
           4
          ],
          [
           911,
           "Twilight (1998)",
           4
          ],
          [
           912,
           "U.S. Marshalls (1998)",
           9
          ],
          [
           913,
           "Love and Death on Long Island (1997)",
           2
          ],
          [
           914,
           "Wild Things (1998)",
           11
          ],
          [
           915,
           "Primary Colors (1998)",
           13
          ],
          [
           916,
           "Lost in Space (1998)",
           18
          ],
          [
           917,
           "Mercury Rising (1998)",
           7
          ],
          [
           918,
           "City of Angels (1998)",
           8
          ],
          [
           919,
           "City of Lost Children, The (1995)",
           96
          ],
          [
           920,
           "Two Bits (1995)",
           5
          ],
          [
           921,
           "Farewell My Concubine (1993)",
           46
          ],
          [
           922,
           "Dead Man (1995)",
           34
          ],
          [
           923,
           "Raise the Red Lantern (1991)",
           58
          ],
          [
           924,
           "White Squall (1996)",
           85
          ],
          [
           925,
           "Unforgettable (1996)",
           34
          ],
          [
           926,
           "Down Periscope (1996)",
           101
          ],
          [
           927,
           "Flower of My Secret, The (Flor de mi secreto, La) (1995)",
           6
          ],
          [
           928,
           "Craft, The (1996)",
           104
          ],
          [
           929,
           "Harriet the Spy (1996)",
           40
          ],
          [
           930,
           "Chain Reaction (1996)",
           80
          ],
          [
           931,
           "Island of Dr. Moreau, The (1996)",
           57
          ],
          [
           932,
           "First Kid (1996)",
           40
          ],
          [
           933,
           "Funeral, The (1996)",
           21
          ],
          [
           934,
           "Preacher's Wife, The (1996)",
           68
          ],
          [
           935,
           "Paradise Road (1997)",
           7
          ],
          [
           936,
           "Brassed Off (1996)",
           32
          ],
          [
           937,
           "Thousand Acres, A (1997)",
           37
          ],
          [
           938,
           "Smile Like Yours, A (1997)",
           25
          ],
          [
           939,
           "Murder in the First (1995)",
           60
          ],
          [
           940,
           "Airheads (1994)",
           32
          ],
          [
           941,
           "With Honors (1994)",
           46
          ],
          [
           942,
           "What's Love Got to Do with It (1993)",
           45
          ],
          [
           943,
           "Killing Zoe (1994)",
           40
          ],
          [
           944,
           "Renaissance Man (1994)",
           43
          ],
          [
           945,
           "Charade (1963)",
           40
          ],
          [
           946,
           "Fox and the Hound, The (1981)",
           61
          ],
          [
           947,
           "Big Blue, The (Grand bleu, Le) (1988)",
           17
          ],
          [
           948,
           "Booty Call (1997)",
           48
          ],
          [
           949,
           "How to Make an American Quilt (1995)",
           71
          ],
          [
           950,
           "Georgia (1995)",
           30
          ],
          [
           951,
           "Indian in the Cupboard, The (1995)",
           39
          ],
          [
           952,
           "Blue in the Face (1995)",
           45
          ],
          [
           953,
           "Unstrung Heroes (1995)",
           22
          ],
          [
           954,
           "Unzipped (1995)",
           11
          ],
          [
           955,
           "Before Sunrise (1995)",
           49
          ],
          [
           956,
           "Nobody's Fool (1994)",
           46
          ],
          [
           957,
           "Pushing Hands (1992)",
           2
          ],
          [
           958,
           "To Live (Huozhe) (1994)",
           14
          ],
          [
           959,
           "Dazed and Confused (1993)",
           64
          ],
          [
           960,
           "Naked (1993)",
           25
          ],
          [
           961,
           "Orlando (1993)",
           34
          ],
          [
           962,
           "Ruby in Paradise (1993)",
           23
          ],
          [
           963,
           "Some Folks Call It a Sling Blade (1993)",
           41
          ],
          [
           964,
           "Month by the Lake, A (1995)",
           9
          ],
          [
           965,
           "Funny Face (1957)",
           21
          ],
          [
           966,
           "Affair to Remember, An (1957)",
           26
          ],
          [
           967,
           "Little Lord Fauntleroy (1936)",
           12
          ],
          [
           968,
           "Inspector General, The (1949)",
           18
          ],
          [
           969,
           "Winnie the Pooh and the Blustery Day (1968)",
           75
          ],
          [
           970,
           "Hear My Song (1991)",
           8
          ],
          [
           971,
           "Mediterraneo (1991)",
           34
          ],
          [
           972,
           "Passion Fish (1992)",
           28
          ],
          [
           973,
           "Grateful Dead (1995)",
           4
          ],
          [
           974,
           "Eye for an Eye (1996)",
           32
          ],
          [
           975,
           "Fear (1996)",
           44
          ],
          [
           976,
           "Solo (1996)",
           12
          ],
          [
           977,
           "Substitute, The (1996)",
           49
          ],
          [
           978,
           "Heaven's Prisoners (1996)",
           27
          ],
          [
           979,
           "Trigger Effect, The (1996)",
           35
          ],
          [
           980,
           "Mother Night (1996)",
           22
          ],
          [
           981,
           "Dangerous Ground (1997)",
           8
          ],
          [
           982,
           "Maximum Risk (1996)",
           20
          ],
          [
           983,
           "Rich Man's Wife, The (1996)",
           15
          ],
          [
           984,
           "Shadow Conspiracy (1997)",
           44
          ],
          [
           985,
           "Blood & Wine (1997)",
           22
          ],
          [
           986,
           "Turbulence (1997)",
           23
          ],
          [
           987,
           "Underworld (1997)",
           4
          ],
          [
           988,
           "Beautician and the Beast, The (1997)",
           86
          ],
          [
           989,
           "Cats Don't Dance (1997)",
           32
          ],
          [
           990,
           "Anna Karenina (1997)",
           33
          ],
          [
           991,
           "Keys to Tulsa (1997)",
           25
          ],
          [
           992,
           "Head Above Water (1996)",
           4
          ],
          [
           993,
           "Hercules (1997)",
           66
          ],
          [
           994,
           "Last Time I Committed Suicide, The (1997)",
           7
          ],
          [
           995,
           "Kiss Me, Guido (1997)",
           31
          ],
          [
           996,
           "Big Green, The (1995)",
           14
          ],
          [
           997,
           "Stuart Saves His Family (1995)",
           16
          ],
          [
           998,
           "Cabin Boy (1994)",
           16
          ],
          [
           999,
           "Clean Slate (1994)",
           10
          ],
          [
           1000,
           "Lightning Jack (1994)",
           10
          ],
          [
           1001,
           "Stupids, The (1996)",
           17
          ],
          [
           1002,
           "Pest, The (1997)",
           8
          ],
          [
           1003,
           "That Darn Cat! (1997)",
           8
          ],
          [
           1004,
           "Geronimo: An American Legend (1993)",
           9
          ],
          [
           1005,
           "Double vie de Véronique, La (Double Life of Veronique, The) (1991)",
           22
          ],
          [
           1006,
           "Until the End of the World (Bis ans Ende der Welt) (1991)",
           23
          ],
          [
           1007,
           "Waiting for Guffman (1996)",
           47
          ],
          [
           1008,
           "I Shot Andy Warhol (1996)",
           37
          ],
          [
           1009,
           "Stealing Beauty (1996)",
           64
          ],
          [
           1010,
           "Basquiat (1996)",
           44
          ],
          [
           1011,
           "2 Days in the Valley (1996)",
           93
          ],
          [
           1012,
           "Private Parts (1997)",
           100
          ],
          [
           1013,
           "Anaconda (1997)",
           38
          ],
          [
           1014,
           "Romy and Michele's High School Reunion (1997)",
           98
          ],
          [
           1015,
           "Shiloh (1997)",
           12
          ],
          [
           1016,
           "Con Air (1997)",
           137
          ],
          [
           1017,
           "Trees Lounge (1996)",
           50
          ],
          [
           1018,
           "Tie Me Up! Tie Me Down! (1990)",
           32
          ],
          [
           1019,
           "Die xue shuang xiong (Killer, The) (1989)",
           31
          ],
          [
           1020,
           "Gaslight (1944)",
           35
          ],
          [
           1021,
           "8 1/2 (1963)",
           38
          ],
          [
           1022,
           "Fast, Cheap & Out of Control (1997)",
           32
          ],
          [
           1023,
           "Fathers' Day (1997)",
           31
          ],
          [
           1024,
           "Mrs. Dalloway (1997)",
           15
          ],
          [
           1025,
           "Fire Down Below (1997)",
           44
          ],
          [
           1026,
           "Lay of the Land, The (1997)",
           4
          ],
          [
           1027,
           "Shooter, The (1995)",
           3
          ],
          [
           1028,
           "Grumpier Old Men (1995)",
           148
          ],
          [
           1029,
           "Jury Duty (1995)",
           14
          ],
          [
           1030,
           "Beverly Hillbillies, The (1993)",
           20
          ],
          [
           1031,
           "Lassie (1994)",
           7
          ],
          [
           1032,
           "Little Big League (1994)",
           16
          ],
          [
           1033,
           "Homeward Bound II: Lost in San Francisco (1996)",
           32
          ],
          [
           1034,
           "Quest, The (1996)",
           27
          ],
          [
           1035,
           "Cool Runnings (1993)",
           68
          ],
          [
           1036,
           "Drop Dead Fred (1991)",
           24
          ],
          [
           1037,
           "Grease 2 (1982)",
           24
          ],
          [
           1038,
           "Switchback (1997)",
           17
          ],
          [
           1039,
           "Hamlet (1996)",
           90
          ],
          [
           1040,
           "Two if by Sea (1996)",
           25
          ],
          [
           1041,
           "Forget Paris (1995)",
           62
          ],
          [
           1042,
           "Just Cause (1995)",
           28
          ],
          [
           1043,
           "Rent-a-Kid (1995)",
           8
          ],
          [
           1044,
           "Paper, The (1994)",
           40
          ],
          [
           1045,
           "Fearless (1993)",
           25
          ],
          [
           1046,
           "Malice (1993)",
           46
          ],
          [
           1047,
           "Multiplicity (1996)",
           134
          ],
          [
           1048,
           "She's the One (1996)",
           73
          ],
          [
           1049,
           "House Arrest (1996)",
           25
          ],
          [
           1050,
           "Ghost and Mrs. Muir, The (1947)",
           43
          ],
          [
           1051,
           "Associate, The (1996)",
           41
          ],
          [
           1052,
           "Dracula: Dead and Loving It (1995)",
           25
          ],
          [
           1053,
           "Now and Then (1995)",
           24
          ],
          [
           1054,
           "Mr. Wrong (1996)",
           23
          ],
          [
           1055,
           "Simple Twist of Fate, A (1994)",
           10
          ],
          [
           1056,
           "Cronos (1992)",
           10
          ],
          [
           1057,
           "Pallbearer, The (1996)",
           22
          ],
          [
           1058,
           "War, The (1994)",
           15
          ],
          [
           1059,
           "Don't Be a Menace to South Central While Drinking Your Juice in the Hood (1996)",
           35
          ],
          [
           1060,
           "Adventures of Pinocchio, The (1996)",
           39
          ],
          [
           1061,
           "Evening Star, The (1996)",
           29
          ],
          [
           1062,
           "Four Days in September (1997)",
           12
          ],
          [
           1063,
           "Little Princess, A (1995)",
           41
          ],
          [
           1064,
           "Crossfire (1947)",
           4
          ],
          [
           1065,
           "Koyaanisqatsi (1983)",
           53
          ],
          [
           1066,
           "Balto (1995)",
           16
          ],
          [
           1067,
           "Bottle Rocket (1996)",
           44
          ],
          [
           1068,
           "Star Maker, The (Uomo delle stelle, L') (1995)",
           12
          ],
          [
           1069,
           "Amateur (1994)",
           18
          ],
          [
           1070,
           "Living in Oblivion (1995)",
           27
          ],
          [
           1071,
           "Party Girl (1995)",
           16
          ],
          [
           1072,
           "Pyromaniac's Love Story, A (1995)",
           7
          ],
          [
           1073,
           "Shallow Grave (1994)",
           66
          ],
          [
           1074,
           "Reality Bites (1994)",
           77
          ],
          [
           1075,
           "Man of No Importance, A (1994)",
           7
          ],
          [
           1076,
           "Pagemaster, The (1994)",
           12
          ],
          [
           1077,
           "Love and a .45 (1994)",
           8
          ],
          [
           1078,
           "Oliver & Company (1988)",
           22
          ],
          [
           1079,
           "Joe's Apartment (1996)",
           45
          ],
          [
           1080,
           "Celestial Clockwork (1994)",
           2
          ],
          [
           1081,
           "Curdled (1996)",
           8
          ],
          [
           1082,
           "Female Perversions (1996)",
           8
          ],
          [
           1083,
           "Albino Alligator (1996)",
           6
          ],
          [
           1084,
           "Anne Frank Remembered (1995)",
           21
          ],
          [
           1085,
           "Carried Away (1996)",
           11
          ],
          [
           1086,
           "It's My Party (1995)",
           21
          ],
          [
           1087,
           "Bloodsport 2 (1995)",
           10
          ],
          [
           1088,
           "Double Team (1997)",
           13
          ],
          [
           1089,
           "Speed 2: Cruise Control (1997)",
           38
          ],
          [
           1090,
           "Sliver (1993)",
           37
          ],
          [
           1091,
           "Pete's Dragon (1977)",
           43
          ],
          [
           1092,
           "Dear God (1996)",
           12
          ],
          [
           1093,
           "Live Nude Girls (1995)",
           23
          ],
          [
           1094,
           "Thin Line Between Love and Hate, A (1996)",
           12
          ],
          [
           1095,
           "High School High (1996)",
           29
          ],
          [
           1096,
           "Commandments (1997)",
           3
          ],
          [
           1097,
           "Hate (Haine, La) (1995)",
           18
          ],
          [
           1098,
           "Flirting With Disaster (1996)",
           42
          ],
          [
           1099,
           "Red Firecracker, Green Firecracker (1994)",
           13
          ],
          [
           1100,
           "What Happened Was... (1994)",
           8
          ],
          [
           1101,
           "Six Degrees of Separation (1993)",
           74
          ],
          [
           1102,
           "Two Much (1996)",
           7
          ],
          [
           1103,
           "Trust (1990)",
           19
          ],
          [
           1104,
           "C'est arrivé près de chez vous (1992)",
           4
          ],
          [
           1105,
           "Firestorm (1998)",
           18
          ],
          [
           1106,
           "Newton Boys, The (1998)",
           4
          ],
          [
           1107,
           "Beyond Rangoon (1995)",
           18
          ],
          [
           1108,
           "Feast of July (1995)",
           5
          ],
          [
           1109,
           "Death and the Maiden (1994)",
           28
          ],
          [
           1110,
           "Tank Girl (1995)",
           41
          ],
          [
           1111,
           "Double Happiness (1994)",
           7
          ],
          [
           1112,
           "Cobb (1994)",
           15
          ],
          [
           1113,
           "Mrs. Parker and the Vicious Circle (1994)",
           22
          ],
          [
           1114,
           "Faithful (1996)",
           10
          ],
          [
           1115,
           "Twelfth Night (1996)",
           29
          ],
          [
           1116,
           "Mark of Zorro, The (1940)",
           13
          ],
          [
           1117,
           "Surviving Picasso (1996)",
           19
          ],
          [
           1118,
           "Up in Smoke (1978)",
           47
          ],
          [
           1119,
           "Some Kind of Wonderful (1987)",
           59
          ],
          [
           1120,
           "I'm Not Rappaport (1996)",
           17
          ],
          [
           1121,
           "Umbrellas of Cherbourg, The (Parapluies de Cherbourg, Les) (1964)",
           21
          ],
          [
           1122,
           "They Made Me a Criminal (1939)",
           1
          ],
          [
           1123,
           "Last Time I Saw Paris, The (1954)",
           3
          ],
          [
           1124,
           "Farewell to Arms, A (1932)",
           12
          ],
          [
           1125,
           "Innocents, The (1961)",
           4
          ],
          [
           1126,
           "Old Man and the Sea, The (1958)",
           32
          ],
          [
           1127,
           "Truman Show, The (1998)",
           11
          ],
          [
           1128,
           "Heidi Fleiss: Hollywood Madam (1995) ",
           13
          ],
          [
           1129,
           "Chungking Express (1994)",
           28
          ],
          [
           1130,
           "Jupiter's Wife (1994)",
           1
          ],
          [
           1131,
           "Safe (1995)",
           13
          ],
          [
           1132,
           "Feeling Minnesota (1996)",
           32
          ],
          [
           1133,
           "Escape to Witch Mountain (1975)",
           30
          ],
          [
           1134,
           "Get on the Bus (1996)",
           38
          ],
          [
           1135,
           "Doors, The (1991)",
           46
          ],
          [
           1136,
           "Ghosts of Mississippi (1996)",
           29
          ],
          [
           1137,
           "Beautiful Thing (1996)",
           29
          ],
          [
           1138,
           "Best Men (1997)",
           5
          ],
          [
           1139,
           "Hackers (1995)",
           33
          ],
          [
           1140,
           "Road to Wellville, The (1994)",
           17
          ],
          [
           1141,
           "War Room, The (1993)",
           9
          ],
          [
           1142,
           "When We Were Kings (1996)",
           44
          ],
          [
           1143,
           "Hard Eight (1996)",
           15
          ],
          [
           1144,
           "Quiet Room, The (1996)",
           3
          ],
          [
           1145,
           "Blue Chips (1994)",
           9
          ],
          [
           1146,
           "Calendar Girl (1993)",
           3
          ],
          [
           1147,
           "My Family (1995)",
           21
          ],
          [
           1148,
           "Tom & Viv (1994)",
           9
          ],
          [
           1149,
           "Walkabout (1971)",
           26
          ],
          [
           1150,
           "Last Dance (1996)",
           9
          ],
          [
           1151,
           "Original Gangstas (1996)",
           7
          ],
          [
           1152,
           "In Love and War (1996)",
           28
          ],
          [
           1153,
           "Backbeat (1993)",
           19
          ],
          [
           1154,
           "Alphaville (1965)",
           12
          ],
          [
           1155,
           "Rendezvous in Paris (Rendez-vous de Paris, Les) (1995)",
           3
          ],
          [
           1156,
           "Cyclo (1995)",
           1
          ],
          [
           1157,
           "Relic, The (1997)",
           25
          ],
          [
           1158,
           "Fille seule, La (A Single Girl) (1995)",
           4
          ],
          [
           1159,
           "Stalker (1979)",
           11
          ],
          [
           1160,
           "Love! Valour! Compassion! (1997)",
           26
          ],
          [
           1161,
           "Palookaville (1996)",
           13
          ],
          [
           1162,
           "Phat Beach (1996)",
           5
          ],
          [
           1163,
           "Portrait of a Lady, The (1996)",
           25
          ],
          [
           1164,
           "Zeus and Roxanne (1997)",
           6
          ],
          [
           1165,
           "Big Bully (1996)",
           14
          ],
          [
           1166,
           "Love & Human Remains (1993)",
           12
          ],
          [
           1167,
           "Sum of Us, The (1994)",
           11
          ],
          [
           1168,
           "Little Buddha (1993)",
           22
          ],
          [
           1169,
           "Fresh (1994)",
           10
          ],
          [
           1170,
           "Spanking the Monkey (1994)",
           27
          ],
          [
           1171,
           "Wild Reeds (1994)",
           14
          ],
          [
           1172,
           "Women, The (1939)",
           15
          ],
          [
           1173,
           "Bliss (1997)",
           7
          ],
          [
           1174,
           "Caught (1996)",
           8
          ],
          [
           1175,
           "Hugo Pool (1997)",
           5
          ],
          [
           1176,
           "Welcome To Sarajevo (1997)",
           22
          ],
          [
           1177,
           "Dunston Checks In (1996)",
           7
          ],
          [
           1178,
           "Major Payne (1994)",
           19
          ],
          [
           1179,
           "Man of the House (1995)",
           9
          ],
          [
           1180,
           "I Love Trouble (1994)",
           10
          ],
          [
           1181,
           "Low Down Dirty Shame, A (1994)",
           10
          ],
          [
           1182,
           "Cops and Robbersons (1994)",
           13
          ],
          [
           1183,
           "Cowboy Way, The (1994)",
           19
          ],
          [
           1184,
           "Endless Summer 2, The (1994)",
           10
          ],
          [
           1185,
           "In the Army Now (1994)",
           18
          ],
          [
           1186,
           "Inkwell, The (1994)",
           3
          ],
          [
           1187,
           "Switchblade Sisters (1975)",
           13
          ],
          [
           1188,
           "Young Guns II (1990)",
           44
          ],
          [
           1189,
           "Prefontaine (1997)",
           3
          ],
          [
           1190,
           "That Old Feeling (1997)",
           11
          ],
          [
           1191,
           "Letter From Death Row, A (1998)",
           3
          ],
          [
           1192,
           "Boys of St. Vincent, The (1993)",
           13
          ],
          [
           1193,
           "Before the Rain (Pred dozhdot) (1994)",
           10
          ],
          [
           1194,
           "Once Were Warriors (1994)",
           31
          ],
          [
           1195,
           "Strawberry and Chocolate (Fresa y chocolate) (1993)",
           11
          ],
          [
           1196,
           "Savage Nights (Nuits fauves, Les) (1992)",
           3
          ],
          [
           1197,
           "Family Thing, A (1996)",
           45
          ],
          [
           1198,
           "Purple Noon (1960)",
           7
          ],
          [
           1199,
           "Cemetery Man (Dellamorte Dellamore) (1994)",
           23
          ],
          [
           1200,
           "Kim (1950)",
           7
          ],
          [
           1201,
           "Marlene Dietrich: Shadow and Light (1996) ",
           1
          ],
          [
           1202,
           "Maybe, Maybe Not (Bewegte Mann, Der) (1994)",
           8
          ],
          [
           1203,
           "Top Hat (1935)",
           21
          ],
          [
           1204,
           "To Be or Not to Be (1942)",
           18
          ],
          [
           1205,
           "Secret Agent, The (1996)",
           6
          ],
          [
           1206,
           "Amos & Andrew (1993)",
           19
          ],
          [
           1207,
           "Jade (1995)",
           17
          ],
          [
           1208,
           "Kiss of Death (1995)",
           20
          ],
          [
           1209,
           "Mixed Nuts (1994)",
           15
          ],
          [
           1210,
           "Virtuosity (1995)",
           38
          ],
          [
           1211,
           "Blue Sky (1994)",
           12
          ],
          [
           1212,
           "Flesh and Bone (1993)",
           6
          ],
          [
           1213,
           "Guilty as Sin (1993)",
           6
          ],
          [
           1214,
           "In the Realm of the Senses (Ai no corrida) (1976)",
           9
          ],
          [
           1215,
           "Barb Wire (1996)",
           30
          ],
          [
           1216,
           "Kissed (1996)",
           6
          ],
          [
           1217,
           "Assassins (1995)",
           39
          ],
          [
           1218,
           "Friday (1995)",
           26
          ],
          [
           1219,
           "Goofy Movie, A (1995)",
           20
          ],
          [
           1220,
           "Higher Learning (1995)",
           30
          ],
          [
           1221,
           "When a Man Loves a Woman (1994)",
           39
          ],
          [
           1222,
           "Judgment Night (1993)",
           25
          ],
          [
           1223,
           "King of the Hill (1993)",
           4
          ],
          [
           1224,
           "Scout, The (1994)",
           12
          ],
          [
           1225,
           "Angus (1995)",
           14
          ],
          [
           1226,
           "Night Falls on Manhattan (1997)",
           32
          ],
          [
           1227,
           "Awfully Big Adventure, An (1995)",
           8
          ],
          [
           1228,
           "Under Siege 2: Dark Territory (1995)",
           48
          ],
          [
           1229,
           "Poison Ivy II (1995)",
           13
          ],
          [
           1230,
           "Ready to Wear (Pret-A-Porter) (1994)",
           18
          ],
          [
           1231,
           "Marked for Death (1990)",
           22
          ],
          [
           1232,
           "Madonna: Truth or Dare (1991)",
           17
          ],
          [
           1233,
           "Nénette et Boni (1996)",
           6
          ],
          [
           1234,
           "Chairman of the Board (1998)",
           8
          ],
          [
           1235,
           "Big Bang Theory, The (1994)",
           1
          ],
          [
           1236,
           "Other Voices, Other Rooms (1997)",
           1
          ],
          [
           1237,
           "Twisted (1996)",
           6
          ],
          [
           1238,
           "Full Speed (1996)",
           8
          ],
          [
           1239,
           "Cutthroat Island (1995)",
           18
          ],
          [
           1240,
           "Ghost in the Shell (Kokaku kidotai) (1995)",
           26
          ],
          [
           1241,
           "Van, The (1996)",
           6
          ],
          [
           1242,
           "Old Lady Who Walked in the Sea, The (Vieille qui marchait dans la mer, La) (1991)",
           5
          ],
          [
           1243,
           "Night Flier (1997)",
           7
          ],
          [
           1244,
           "Metro (1997)",
           36
          ],
          [
           1245,
           "Gridlock'd (1997)",
           19
          ],
          [
           1246,
           "Bushwhacked (1995)",
           7
          ],
          [
           1247,
           "Bad Girls (1994)",
           6
          ],
          [
           1248,
           "Blink (1994)",
           19
          ],
          [
           1249,
           "For Love or Money (1993)",
           12
          ],
          [
           1250,
           "Best of the Best 3: No Turning Back (1995)",
           6
          ],
          [
           1251,
           "A Chef in Love (1996)",
           8
          ],
          [
           1252,
           "Contempt (Mépris, Le) (1963)",
           9
          ],
          [
           1253,
           "Tie That Binds, The (1995)",
           7
          ],
          [
           1254,
           "Gone Fishin' (1997)",
           11
          ],
          [
           1255,
           "Broken English (1996)",
           8
          ],
          [
           1256,
           "Designated Mourner, The (1997)",
           3
          ],
          [
           1257,
           "Designated Mourner, The (1997)",
           4
          ],
          [
           1258,
           "Trial and Error (1997)",
           23
          ],
          [
           1259,
           "Pie in the Sky (1995)",
           4
          ],
          [
           1260,
           "Total Eclipse (1995)",
           4
          ],
          [
           1261,
           "Run of the Country, The (1995)",
           4
          ],
          [
           1262,
           "Walking and Talking (1996)",
           8
          ],
          [
           1263,
           "Foxfire (1996)",
           15
          ],
          [
           1264,
           "Nothing to Lose (1994)",
           7
          ],
          [
           1265,
           "Star Maps (1997)",
           19
          ],
          [
           1266,
           "Bread and Chocolate (Pane e cioccolata) (1973)",
           12
          ],
          [
           1267,
           "Clockers (1995)",
           33
          ],
          [
           1268,
           "Bitter Moon (1992)",
           10
          ],
          [
           1269,
           "Love in the Afternoon (1957)",
           10
          ],
          [
           1270,
           "Life with Mikey (1993)",
           7
          ],
          [
           1271,
           "North (1994)",
           7
          ],
          [
           1272,
           "Talking About Sex (1994)",
           5
          ],
          [
           1273,
           "Color of Night (1994)",
           15
          ],
          [
           1274,
           "Robocop 3 (1993)",
           11
          ],
          [
           1275,
           "Killer (Bulletproof Heart) (1994)",
           4
          ],
          [
           1276,
           "Sunset Park (1996)",
           8
          ],
          [
           1277,
           "Set It Off (1996)",
           19
          ],
          [
           1278,
           "Selena (1997)",
           16
          ],
          [
           1279,
           "Wild America (1997)",
           9
          ],
          [
           1280,
           "Gang Related (1997)",
           16
          ],
          [
           1281,
           "Manny & Lo (1996)",
           13
          ],
          [
           1282,
           "Grass Harp, The (1995)",
           9
          ],
          [
           1283,
           "Out to Sea (1997)",
           19
          ],
          [
           1284,
           "Before and After (1996)",
           26
          ],
          [
           1285,
           "Princess Caraboo (1994)",
           15
          ],
          [
           1286,
           "Shall We Dance? (1937)",
           17
          ],
          [
           1287,
           "Ed (1996)",
           6
          ],
          [
           1288,
           "Denise Calls Up (1995)",
           7
          ],
          [
           1289,
           "Jack and Sarah (1995)",
           7
          ],
          [
           1290,
           "Country Life (1994)",
           2
          ],
          [
           1291,
           "Celtic Pride (1996)",
           15
          ],
          [
           1292,
           "Simple Wish, A (1997)",
           3
          ],
          [
           1293,
           "Star Kid (1997)",
           3
          ],
          [
           1294,
           "Ayn Rand: A Sense of Life (1997)",
           7
          ],
          [
           1295,
           "Kicked in the Head (1997)",
           7
          ],
          [
           1296,
           "Indian Summer (1996)",
           20
          ],
          [
           1297,
           "Love Affair (1994)",
           12
          ],
          [
           1298,
           "Band Wagon, The (1953)",
           9
          ],
          [
           1299,
           "Penny Serenade (1941)",
           8
          ],
          [
           1300,
           "'Til There Was You (1997)",
           9
          ],
          [
           1301,
           "Stripes (1981)",
           5
          ],
          [
           1302,
           "Late Bloomers (1996)",
           5
          ],
          [
           1303,
           "Getaway, The (1994)",
           18
          ],
          [
           1304,
           "New York Cop (1996)",
           2
          ],
          [
           1305,
           "National Lampoon's Senior Trip (1995)",
           7
          ],
          [
           1306,
           "Delta of Venus (1994)",
           2
          ],
          [
           1307,
           "Carmen Miranda: Bananas Is My Business (1994)",
           2
          ],
          [
           1308,
           "Babyfever (1994)",
           2
          ],
          [
           1309,
           "Very Natural Thing, A (1974)",
           1
          ],
          [
           1310,
           "Walk in the Sun, A (1945)",
           1
          ],
          [
           1311,
           "Waiting to Exhale (1995)",
           16
          ],
          [
           1312,
           "Pompatus of Love, The (1996)",
           7
          ],
          [
           1313,
           "Palmetto (1998)",
           14
          ],
          [
           1314,
           "Surviving the Game (1994)",
           11
          ],
          [
           1315,
           "Inventing the Abbotts (1997)",
           23
          ],
          [
           1316,
           "Horse Whisperer, The (1998)",
           7
          ],
          [
           1317,
           "Journey of August King, The (1995)",
           4
          ],
          [
           1318,
           "Catwalk (1995)",
           3
          ],
          [
           1319,
           "Neon Bible, The (1995)",
           4
          ],
          [
           1320,
           "Homage (1995)",
           1
          ],
          [
           1321,
           "Open Season (1996)",
           2
          ],
          [
           1322,
           "Metisse (Café au Lait) (1993)",
           6
          ],
          [
           1323,
           "Wooden Man's Bride, The (Wu Kui) (1994)",
           3
          ],
          [
           1324,
           "Loaded (1994)",
           5
          ],
          [
           1325,
           "August (1996)",
           1
          ],
          [
           1326,
           "Boys (1996)",
           6
          ],
          [
           1327,
           "Captives (1994)",
           3
          ],
          [
           1328,
           "Of Love and Shadows (1994)",
           6
          ],
          [
           1329,
           "Low Life, The (1994)",
           1
          ],
          [
           1330,
           "An Unforgettable Summer (1994)",
           4
          ],
          [
           1331,
           "Last Klezmer: Leopold Kozlowski, His Life and Music, The (1995)",
           4
          ],
          [
           1332,
           "My Life and Times With Antonin Artaud (En compagnie d'Antonin Artaud) (1993)",
           2
          ],
          [
           1333,
           "Midnight Dancers (Sibak) (1994)",
           5
          ],
          [
           1334,
           "Somebody to Love (1994)",
           2
          ],
          [
           1335,
           "American Buffalo (1996)",
           11
          ],
          [
           1336,
           "Kazaam (1996)",
           10
          ],
          [
           1337,
           "Larger Than Life (1996)",
           9
          ],
          [
           1338,
           "Two Deaths (1995)",
           4
          ],
          [
           1339,
           "Stefano Quantestorie (1993)",
           1
          ],
          [
           1340,
           "Crude Oasis, The (1995)",
           1
          ],
          [
           1341,
           "Hedd Wyn (1992)",
           1
          ],
          [
           1342,
           "Convent, The (Convento, O) (1995)",
           2
          ],
          [
           1343,
           "Lotto Land (1995)",
           1
          ],
          [
           1344,
           "Story of Xinghua, The (1993)",
           5
          ],
          [
           1345,
           "Day the Sun Turned Cold, The (Tianguo niezi) (1994)",
           2
          ],
          [
           1346,
           "Dingo (1992)",
           5
          ],
          [
           1347,
           "Ballad of Narayama, The (Narayama Bushiko) (1958)",
           4
          ],
          [
           1348,
           "Every Other Weekend (1990)",
           1
          ],
          [
           1349,
           "Mille bolle blu (1993)",
           1
          ],
          [
           1350,
           "Crows and Sparrows (1949)",
           2
          ],
          [
           1351,
           "Lover's Knot (1996)",
           3
          ],
          [
           1352,
           "Shadow of Angels (Schatten der Engel) (1976)",
           1
          ],
          [
           1353,
           "1-900 (1994)",
           5
          ],
          [
           1354,
           "Venice/Venice (1992)",
           2
          ],
          [
           1355,
           "Infinity (1996)",
           6
          ],
          [
           1356,
           "Ed's Next Move (1996)",
           3
          ],
          [
           1357,
           "For the Moment (1994)",
           3
          ],
          [
           1358,
           "The Deadly Cure (1996)",
           2
          ],
          [
           1359,
           "Boys in Venice (1996)",
           2
          ],
          [
           1360,
           "Sexual Life of the Belgians, The (1994)",
           2
          ],
          [
           1361,
           "Search for One-eye Jimmy, The (1996)",
           3
          ],
          [
           1362,
           "American Strays (1996)",
           2
          ],
          [
           1363,
           "Leopard Son, The (1996)",
           1
          ],
          [
           1364,
           "Bird of Prey (1996)",
           1
          ],
          [
           1365,
           "Johnny 100 Pesos (1993)",
           2
          ],
          [
           1366,
           "JLG/JLG - autoportrait de décembre (1994)",
           1
          ],
          [
           1367,
           "Faust (1994)",
           5
          ],
          [
           1368,
           "Mina Tannenbaum (1994)",
           6
          ],
          [
           1369,
           "Forbidden Christ, The (Cristo proibito, Il) (1950)",
           4
          ],
          [
           1370,
           "I Can't Sleep (J'ai pas sommeil) (1994)",
           3
          ],
          [
           1371,
           "Machine, The (1994)",
           2
          ],
          [
           1372,
           "Stranger, The (1994)",
           3
          ],
          [
           1373,
           "Good Morning (1971)",
           1
          ],
          [
           1374,
           "Falling in Love Again (1980)",
           2
          ],
          [
           1375,
           "Cement Garden, The (1993)",
           10
          ],
          [
           1376,
           "Meet Wally Sparks (1997)",
           7
          ],
          [
           1377,
           "Hotel de Love (1996)",
           4
          ],
          [
           1378,
           "Rhyme & Reason (1997)",
           5
          ],
          [
           1379,
           "Love and Other Catastrophes (1996)",
           7
          ],
          [
           1380,
           "Hollow Reed (1996)",
           6
          ],
          [
           1381,
           "Losing Chase (1996)",
           8
          ],
          [
           1382,
           "Bonheur, Le (1965)",
           4
          ],
          [
           1383,
           "Second Jungle Book: Mowgli & Baloo, The (1997)",
           6
          ],
          [
           1384,
           "Squeeze (1996)",
           3
          ],
          [
           1385,
           "Roseanna's Grave (For Roseanna) (1997)",
           5
          ],
          [
           1386,
           "Tetsuo II: Body Hammer (1992)",
           6
          ],
          [
           1387,
           "Fall (1997)",
           3
          ],
          [
           1388,
           "Gabbeh (1996)",
           6
          ],
          [
           1389,
           "Mondo (1996)",
           3
          ],
          [
           1390,
           "Innocent Sleep, The (1995)",
           2
          ],
          [
           1391,
           "For Ever Mozart (1996)",
           3
          ],
          [
           1392,
           "Locusts, The (1997)",
           5
          ],
          [
           1393,
           "Stag (1997)",
           9
          ],
          [
           1394,
           "Swept from the Sea (1997)",
           7
          ],
          [
           1395,
           "Hurricane Streets (1998)",
           6
          ],
          [
           1396,
           "Stonewall (1995)",
           5
          ],
          [
           1397,
           "Of Human Bondage (1934)",
           5
          ],
          [
           1398,
           "Anna (1996)",
           2
          ],
          [
           1399,
           "Stranger in the House (1997)",
           7
          ],
          [
           1400,
           "Picture Bride (1995)",
           10
          ],
          [
           1401,
           "M. Butterfly (1993)",
           18
          ],
          [
           1402,
           "Ciao, Professore! (1993)",
           4
          ],
          [
           1403,
           "Caro Diario (Dear Diary) (1994)",
           4
          ],
          [
           1404,
           "Withnail and I (1987)",
           13
          ],
          [
           1405,
           "Boy's Life 2 (1997)",
           6
          ],
          [
           1406,
           "When Night Is Falling (1995)",
           5
          ],
          [
           1407,
           "Specialist, The (1994)",
           20
          ],
          [
           1408,
           "Gordy (1995)",
           3
          ],
          [
           1409,
           "Swan Princess, The (1994)",
           7
          ],
          [
           1410,
           "Harlem (1993)",
           4
          ],
          [
           1411,
           "Barbarella (1968)",
           28
          ],
          [
           1412,
           "Land Before Time III: The Time of the Great Giving (1995) (V)",
           6
          ],
          [
           1413,
           "Street Fighter (1994)",
           8
          ],
          [
           1414,
           "Coldblooded (1995)",
           1
          ],
          [
           1415,
           "Next Karate Kid, The (1994)",
           9
          ],
          [
           1416,
           "No Escape (1994)",
           5
          ],
          [
           1417,
           "Turning, The (1992)",
           2
          ],
          [
           1418,
           "Joy Luck Club, The (1993)",
           3
          ],
          [
           1419,
           "Highlander III: The Sorcerer (1994)",
           16
          ],
          [
           1420,
           "Gilligan's Island: The Movie (1998)",
           3
          ],
          [
           1421,
           "My Crazy Life (Mi vida loca) (1993)",
           11
          ],
          [
           1422,
           "Suture (1993)",
           4
          ],
          [
           1423,
           "Walking Dead, The (1995)",
           4
          ],
          [
           1424,
           "I Like It Like That (1994)",
           3
          ],
          [
           1425,
           "I'll Do Anything (1994)",
           10
          ],
          [
           1426,
           "Grace of My Heart (1996)",
           8
          ],
          [
           1427,
           "Drunks (1995)",
           5
          ],
          [
           1428,
           "SubUrbia (1997)",
           12
          ],
          [
           1429,
           "Sliding Doors (1998)",
           4
          ],
          [
           1430,
           "Ill Gotten Gains (1997)",
           3
          ],
          [
           1431,
           "Legal Deceit (1997)",
           5
          ],
          [
           1432,
           "Mighty, The (1998)",
           3
          ],
          [
           1433,
           "Men of Means (1998)",
           2
          ],
          [
           1434,
           "Shooting Fish (1997)",
           10
          ],
          [
           1435,
           "Steal Big, Steal Little (1995)",
           7
          ],
          [
           1436,
           "Mr. Jones (1993)",
           2
          ],
          [
           1437,
           "House Party 3 (1994)",
           9
          ],
          [
           1438,
           "Panther (1995)",
           5
          ],
          [
           1439,
           "Jason's Lyric (1994)",
           8
          ],
          [
           1440,
           "Above the Rim (1994)",
           5
          ],
          [
           1441,
           "Moonlight and Valentino (1995)",
           7
          ],
          [
           1442,
           "Scarlet Letter, The (1995)",
           5
          ],
          [
           1443,
           "8 Seconds (1994)",
           4
          ],
          [
           1444,
           "That Darn Cat! (1965)",
           19
          ],
          [
           1445,
           "Ladybird Ladybird (1994)",
           4
          ],
          [
           1446,
           "Bye Bye, Love (1995)",
           15
          ],
          [
           1447,
           "Century (1993)",
           1
          ],
          [
           1448,
           "My Favorite Season (1993)",
           3
          ],
          [
           1449,
           "Pather Panchali (1955)",
           8
          ],
          [
           1450,
           "Golden Earrings (1947)",
           2
          ],
          [
           1451,
           "Foreign Correspondent (1940)",
           15
          ],
          [
           1452,
           "Lady of Burlesque (1943)",
           1
          ],
          [
           1453,
           "Angel on My Shoulder (1946)",
           1
          ],
          [
           1454,
           "Angel and the Badman (1947)",
           6
          ],
          [
           1455,
           "Outlaw, The (1943)",
           2
          ],
          [
           1456,
           "Beat the Devil (1954)",
           7
          ],
          [
           1457,
           "Love Is All There Is (1996)",
           1
          ],
          [
           1458,
           "Damsel in Distress, A (1937)",
           1
          ],
          [
           1459,
           "Madame Butterfly (1995)",
           7
          ],
          [
           1460,
           "Sleepover (1995)",
           1
          ],
          [
           1461,
           "Here Comes Cookie (1935)",
           1
          ],
          [
           1462,
           "Thieves (Voleurs, Les) (1996)",
           7
          ],
          [
           1463,
           "Boys, Les (1997)",
           3
          ],
          [
           1464,
           "Stars Fell on Henrietta, The (1995)",
           3
          ],
          [
           1465,
           "Last Summer in the Hamptons (1995)",
           3
          ],
          [
           1466,
           "Margaret's Museum (1995)",
           6
          ],
          [
           1467,
           "Saint of Fort Washington, The (1993)",
           2
          ],
          [
           1468,
           "Cure, The (1995)",
           6
          ],
          [
           1469,
           "Tom and Huck (1995)",
           12
          ],
          [
           1470,
           "Gumby: The Movie (1995)",
           5
          ],
          [
           1471,
           "Hideaway (1995)",
           9
          ],
          [
           1472,
           "Visitors, The (Visiteurs, Les) (1993)",
           2
          ],
          [
           1473,
           "Little Princess, The (1939)",
           9
          ],
          [
           1474,
           "Nina Takes a Lover (1994)",
           6
          ],
          [
           1475,
           "Bhaji on the Beach (1993)",
           8
          ],
          [
           1476,
           "Raw Deal (1948)",
           1
          ],
          [
           1477,
           "Nightwatch (1997)",
           2
          ],
          [
           1478,
           "Dead Presidents (1995)",
           18
          ],
          [
           1479,
           "Reckless (1995)",
           8
          ],
          [
           1480,
           "Herbie Rides Again (1974)",
           11
          ],
          [
           1481,
           "S.F.W. (1994)",
           2
          ],
          [
           1482,
           "Gate of Heavenly Peace, The (1995)",
           1
          ],
          [
           1483,
           "Man in the Iron Mask, The (1998)",
           12
          ],
          [
           1484,
           "Jerky Boys, The (1994)",
           3
          ],
          [
           1485,
           "Colonel Chabert, Le (1994)",
           4
          ],
          [
           1486,
           "Girl in the Cadillac (1995)",
           1
          ],
          [
           1487,
           "Even Cowgirls Get the Blues (1993)",
           5
          ],
          [
           1488,
           "Germinal (1993)",
           4
          ],
          [
           1489,
           "Chasers (1994)",
           5
          ],
          [
           1490,
           "Fausto (1993)",
           3
          ],
          [
           1491,
           "Tough and Deadly (1995)",
           2
          ],
          [
           1492,
           "Window to Paris (1994)",
           1
          ],
          [
           1493,
           "Modern Affair, A (1995)",
           1
          ],
          [
           1494,
           "Mostro, Il (1994)",
           1
          ],
          [
           1495,
           "Flirt (1995)",
           5
          ],
          [
           1496,
           "Carpool (1996)",
           5
          ],
          [
           1497,
           "Line King: Al Hirschfeld, The (1996)",
           2
          ],
          [
           1498,
           "Farmer & Chase (1995)",
           1
          ],
          [
           1499,
           "Grosse Fatigue (1994)",
           4
          ],
          [
           1500,
           "Santa with Muscles (1996)",
           2
          ],
          [
           1501,
           "Prisoner of the Mountains (Kavkazsky Plennik) (1996)",
           5
          ],
          [
           1502,
           "Naked in New York (1994)",
           2
          ],
          [
           1503,
           "Gold Diggers: The Secret of Bear Mountain (1995)",
           10
          ],
          [
           1504,
           "Bewegte Mann, Der (1994)",
           3
          ],
          [
           1505,
           "Killer: A Journal of Murder (1995)",
           1
          ],
          [
           1506,
           "Nelly & Monsieur Arnaud (1995)",
           3
          ],
          [
           1507,
           "Three Lives and Only One Death (1996)",
           1
          ],
          [
           1508,
           "Babysitter, The (1995)",
           3
          ],
          [
           1509,
           "Getting Even with Dad (1994)",
           5
          ],
          [
           1510,
           "Mad Dog Time (1996)",
           1
          ],
          [
           1511,
           "Children of the Revolution (1996)",
           5
          ],
          [
           1512,
           "World of Apu, The (Apur Sansar) (1959)",
           6
          ],
          [
           1513,
           "Sprung (1997)",
           3
          ],
          [
           1514,
           "Dream With the Fishes (1997)",
           7
          ],
          [
           1515,
           "Wings of Courage (1995)",
           1
          ],
          [
           1516,
           "Wedding Gift, The (1994)",
           3
          ],
          [
           1517,
           "Race the Sun (1996)",
           5
          ],
          [
           1518,
           "Losing Isaiah (1995)",
           12
          ],
          [
           1519,
           "New Jersey Drive (1995)",
           2
          ],
          [
           1520,
           "Fear, The (1995)",
           1
          ],
          [
           1521,
           "Mr. Wonderful (1993)",
           4
          ],
          [
           1522,
           "Trial by Jury (1994)",
           7
          ],
          [
           1523,
           "Good Man in Africa, A (1994)",
           2
          ],
          [
           1524,
           "Kaspar Hauser (1993)",
           8
          ],
          [
           1525,
           "Object of My Affection, The (1998)",
           1
          ],
          [
           1526,
           "Witness (1985)",
           1
          ],
          [
           1527,
           "Senseless (1998)",
           7
          ],
          [
           1528,
           "Nowhere (1997)",
           3
          ],
          [
           1529,
           "Underground (1995)",
           5
          ],
          [
           1530,
           "Jefferson in Paris (1995)",
           5
          ],
          [
           1531,
           "Far From Home: The Adventures of Yellow Dog (1995)",
           7
          ],
          [
           1532,
           "Foreign Student (1994)",
           2
          ],
          [
           1533,
           "I Don't Want to Talk About It (De eso no se habla) (1993)",
           1
          ],
          [
           1534,
           "Twin Town (1997)",
           6
          ],
          [
           1535,
           "Enfer, L' (1994)",
           4
          ],
          [
           1536,
           "Aiqing wansui (1994)",
           1
          ],
          [
           1537,
           "Cosi (1996)",
           4
          ],
          [
           1538,
           "All Over Me (1997)",
           3
          ],
          [
           1539,
           "Being Human (1993)",
           4
          ],
          [
           1540,
           "Amazing Panda Adventure, The (1995)",
           10
          ],
          [
           1541,
           "Beans of Egypt, Maine, The (1994)",
           2
          ],
          [
           1542,
           "Scarlet Letter, The (1926)",
           2
          ],
          [
           1543,
           "Johns (1996)",
           1
          ],
          [
           1544,
           "It Takes Two (1995)",
           3
          ],
          [
           1545,
           "Frankie Starlight (1995)",
           4
          ],
          [
           1546,
           "Shadows (Cienie) (1988)",
           1
          ],
          [
           1547,
           "Show, The (1995)",
           2
          ],
          [
           1548,
           "The Courtyard (1995)",
           1
          ],
          [
           1549,
           "Dream Man (1995)",
           2
          ],
          [
           1550,
           "Destiny Turns on the Radio (1995)",
           2
          ],
          [
           1551,
           "Glass Shield, The (1994)",
           2
          ],
          [
           1552,
           "Hunted, The (1995)",
           3
          ],
          [
           1553,
           "Underneath, The (1995)",
           4
          ],
          [
           1554,
           "Safe Passage (1994)",
           2
          ],
          [
           1555,
           "Secret Adventures of Tom Thumb, The (1993)",
           5
          ],
          [
           1556,
           "Condition Red (1995)",
           2
          ],
          [
           1557,
           "Yankee Zulu (1994)",
           1
          ],
          [
           1558,
           "Aparajito (1956)",
           7
          ],
          [
           1559,
           "Hostile Intentions (1994)",
           1
          ],
          [
           1560,
           "Clean Slate (Coup de Torchon) (1981)",
           4
          ],
          [
           1561,
           "Tigrero: A Film That Was Never Made (1994)",
           1
          ],
          [
           1562,
           "Eye of Vichy, The (Oeil de Vichy, L') (1993)",
           1
          ],
          [
           1563,
           "Promise, The (Versprechen, Das) (1994)",
           1
          ],
          [
           1564,
           "To Cross the Rubicon (1991)",
           1
          ],
          [
           1565,
           "Daens (1992)",
           1
          ],
          [
           1566,
           "Man from Down Under, The (1943)",
           1
          ],
          [
           1567,
           "Careful (1992)",
           1
          ],
          [
           1568,
           "Vermont Is For Lovers (1992)",
           1
          ],
          [
           1569,
           "Vie est belle, La (Life is Rosey) (1987)",
           1
          ],
          [
           1570,
           "Quartier Mozart (1992)",
           1
          ],
          [
           1571,
           "Touki Bouki (Journey of the Hyena) (1973)",
           1
          ],
          [
           1572,
           "Wend Kuuni (God's Gift) (1982)",
           1
          ],
          [
           1573,
           "Spirits of the Dead (Tre passi nel delirio) (1968)",
           2
          ],
          [
           1574,
           "Pharaoh's Army (1995)",
           1
          ],
          [
           1575,
           "I, Worst of All (Yo, la peor de todas) (1990)",
           1
          ],
          [
           1576,
           "Hungarian Fairy Tale, A (1987)",
           1
          ],
          [
           1577,
           "Death in the Garden (Mort en ce jardin, La) (1956)",
           1
          ],
          [
           1578,
           "Collectionneuse, La (1967)",
           2
          ],
          [
           1579,
           "Baton Rouge (1988)",
           1
          ],
          [
           1580,
           "Liebelei (1933)",
           1
          ],
          [
           1581,
           "Woman in Question, The (1950)",
           1
          ],
          [
           1582,
           "T-Men (1947)",
           1
          ],
          [
           1583,
           "Invitation, The (Zaproszenie) (1986)",
           1
          ],
          [
           1584,
           "Symphonie pastorale, La (1946)",
           1
          ],
          [
           1585,
           "American Dream (1990)",
           2
          ],
          [
           1586,
           "Lashou shentan (1992)",
           1
          ],
          [
           1587,
           "Terror in a Texas Town (1958)",
           1
          ],
          [
           1588,
           "Salut cousin! (1996)",
           2
          ],
          [
           1589,
           "Schizopolis (1996)",
           4
          ],
          [
           1590,
           "To Have, or Not (1995)",
           2
          ],
          [
           1591,
           "Duoluo tianshi (1995)",
           6
          ],
          [
           1592,
           "Magic Hour, The (1998)",
           5
          ],
          [
           1593,
           "Death in Brunswick (1991)",
           1
          ],
          [
           1594,
           "Everest (1998)",
           2
          ],
          [
           1595,
           "Shopping (1994)",
           1
          ],
          [
           1596,
           "Nemesis 2: Nebula (1995)",
           1
          ],
          [
           1597,
           "Romper Stomper (1992)",
           5
          ],
          [
           1598,
           "City of Industry (1997)",
           6
          ],
          [
           1599,
           "Someone Else's America (1995)",
           1
          ],
          [
           1600,
           "Guantanamera (1994)",
           4
          ],
          [
           1601,
           "Office Killer (1997)",
           1
          ],
          [
           1602,
           "Price Above Rubies, A (1998)",
           3
          ],
          [
           1603,
           "Angela (1995)",
           1
          ],
          [
           1604,
           "He Walked by Night (1948)",
           1
          ],
          [
           1605,
           "Love Serenade (1996)",
           4
          ],
          [
           1606,
           "Deceiver (1997)",
           1
          ],
          [
           1607,
           "Hurricane Streets (1998)",
           3
          ],
          [
           1608,
           "Buddy (1997)",
           4
          ],
          [
           1609,
           "B*A*P*S (1997)",
           3
          ],
          [
           1610,
           "Truth or Consequences, N.M. (1997)",
           3
          ],
          [
           1611,
           "Intimate Relations (1996)",
           2
          ],
          [
           1612,
           "Leading Man, The (1996)",
           4
          ],
          [
           1613,
           "Tokyo Fist (1995)",
           1
          ],
          [
           1614,
           "Reluctant Debutante, The (1958)",
           1
          ],
          [
           1615,
           "Warriors of Virtue (1997)",
           10
          ],
          [
           1616,
           "Desert Winds (1995)",
           1
          ],
          [
           1617,
           "Hugo Pool (1997)",
           2
          ],
          [
           1618,
           "King of New York (1990)",
           1
          ],
          [
           1619,
           "All Things Fair (1996)",
           1
          ],
          [
           1620,
           "Sixth Man, The (1997)",
           9
          ],
          [
           1621,
           "Butterfly Kiss (1995)",
           1
          ],
          [
           1622,
           "Paris, France (1993)",
           3
          ],
          [
           1623,
           "Cérémonie, La (1995)",
           3
          ],
          [
           1624,
           "Hush (1998)",
           1
          ],
          [
           1625,
           "Nightwatch (1997)",
           1
          ],
          [
           1626,
           "Nobody Loves Me (Keiner liebt mich) (1994)",
           1
          ],
          [
           1627,
           "Wife, The (1995)",
           1
          ],
          [
           1628,
           "Lamerica (1994)",
           4
          ],
          [
           1629,
           "Nico Icon (1995)",
           2
          ],
          [
           1630,
           "Silence of the Palace, The (Saimt el Qusur) (1994)",
           1
          ],
          [
           1631,
           "Slingshot, The (1993)",
           2
          ],
          [
           1632,
           "Land and Freedom (Tierra y libertad) (1995)",
           1
          ],
          [
           1633,
           "Á köldum klaka (Cold Fever) (1994)",
           1
          ],
          [
           1634,
           "Etz Hadomim Tafus (Under the Domin Tree) (1994)",
           1
          ],
          [
           1635,
           "Two Friends (1986) ",
           1
          ],
          [
           1636,
           "Brothers in Trouble (1995)",
           1
          ],
          [
           1637,
           "Girls Town (1996)",
           1
          ],
          [
           1638,
           "Normal Life (1996)",
           1
          ],
          [
           1639,
           "Bitter Sugar (Azucar Amargo) (1996)",
           3
          ],
          [
           1640,
           "Eighth Day, The (1996)",
           1
          ],
          [
           1641,
           "Dadetown (1995)",
           1
          ],
          [
           1642,
           "Some Mother's Son (1996)",
           2
          ],
          [
           1643,
           "Angel Baby (1995)",
           4
          ],
          [
           1644,
           "Sudden Manhattan (1996)",
           2
          ],
          [
           1645,
           "Butcher Boy, The (1998)",
           1
          ],
          [
           1646,
           "Men With Guns (1997)",
           2
          ],
          [
           1647,
           "Hana-bi (1997)",
           1
          ],
          [
           1648,
           "Niagara, Niagara (1997)",
           1
          ],
          [
           1649,
           "Big One, The (1997)",
           1
          ],
          [
           1650,
           "Butcher Boy, The (1998)",
           1
          ],
          [
           1651,
           "Spanish Prisoner, The (1997)",
           1
          ],
          [
           1652,
           "Temptress Moon (Feng Yue) (1996)",
           3
          ],
          [
           1653,
           "Entertaining Angels: The Dorothy Day Story (1996)",
           1
          ],
          [
           1654,
           "Chairman of the Board (1998)",
           1
          ],
          [
           1655,
           "Favor, The (1994)",
           1
          ],
          [
           1656,
           "Little City (1998)",
           2
          ],
          [
           1657,
           "Target (1995)",
           1
          ],
          [
           1658,
           "Substance of Fire, The (1996)",
           3
          ],
          [
           1659,
           "Getting Away With Murder (1996)",
           1
          ],
          [
           1660,
           "Small Faces (1995)",
           1
          ],
          [
           1661,
           "New Age, The (1994)",
           1
          ],
          [
           1662,
           "Rough Magic (1995)",
           2
          ],
          [
           1663,
           "Nothing Personal (1995)",
           1
          ],
          [
           1664,
           "8 Heads in a Duffel Bag (1997)",
           4
          ],
          [
           1665,
           "Brother's Kiss, A (1997)",
           1
          ],
          [
           1666,
           "Ripe (1996)",
           1
          ],
          [
           1667,
           "Next Step, The (1995)",
           1
          ],
          [
           1668,
           "Wedding Bell Blues (1996)",
           1
          ],
          [
           1669,
           "MURDER and murder (1996)",
           1
          ],
          [
           1670,
           "Tainted (1998)",
           1
          ],
          [
           1671,
           "Further Gesture, A (1996)",
           1
          ],
          [
           1672,
           "Kika (1993)",
           2
          ],
          [
           1673,
           "Mirage (1995)",
           1
          ],
          [
           1674,
           "Mamma Roma (1962)",
           1
          ],
          [
           1675,
           "Sunchaser, The (1996)",
           1
          ],
          [
           1676,
           "War at Home, The (1996)",
           1
          ],
          [
           1677,
           "Sweet Nothing (1995)",
           1
          ],
          [
           1678,
           "Mat' i syn (1997)",
           1
          ],
          [
           1679,
           "B. Monkey (1998)",
           1
          ],
          [
           1680,
           "Sliding Doors (1998)",
           1
          ],
          [
           1681,
           "You So Crazy (1994)",
           1
          ],
          [
           1682,
           "Scream of Stone (Schrei aus Stein) (1991)",
           1
          ]
         ],
         "hovertemplate": "tsne_1=%{x}<br>tsne_2=%{y}<br>item_id=%{customdata[0]}<br>title=%{customdata[1]}<br>popularity=%{marker.color}<extra></extra>",
         "legendgroup": "",
         "marker": {
          "color": [
           452,
           131,
           90,
           209,
           86,
           26,
           392,
           219,
           299,
           89,
           236,
           267,
           184,
           183,
           293,
           39,
           92,
           10,
           69,
           72,
           84,
           297,
           182,
           174,
           293,
           73,
           57,
           276,
           114,
           37,
           154,
           81,
           97,
           7,
           11,
           13,
           8,
           120,
           87,
           57,
           37,
           148,
           40,
           79,
           80,
           27,
           133,
           117,
           81,
           583,
           81,
           91,
           128,
           104,
           149,
           394,
           40,
           175,
           83,
           64,
           59,
           127,
           82,
           283,
           115,
           162,
           103,
           134,
           321,
           251,
           220,
           129,
           128,
           7,
           5,
           54,
           151,
           33,
           336,
           68,
           110,
           261,
           176,
           18,
           58,
           150,
           138,
           213,
           275,
           95,
           143,
           104,
           112,
           137,
           219,
           295,
           256,
           390,
           172,
           508,
           73,
           54,
           15,
           5,
           74,
           71,
           42,
           65,
           130,
           31,
           272,
           20,
           9,
           67,
           15,
           125,
           378,
           293,
           4,
           67,
           429,
           106,
           115,
           187,
           244,
           97,
           413,
           65,
           129,
           23,
           95,
           246,
           171,
           198,
           259,
           105,
           171,
           19,
           50,
           61,
           72,
           57,
           222,
           243,
           65,
           10,
           185,
           128,
           23,
           157,
           326,
           82,
           247,
           174,
           98,
           148,
           127,
           60,
           101,
           69,
           220,
           106,
           92,
           151,
           64,
           58,
           67,
           316,
           118,
           121,
           65,
           367,
           324,
           420,
           208,
           284,
           137,
           125,
           221,
           221,
           507,
           226,
           291,
           116,
           239,
           251,
           209,
           170,
           66,
           124,
           276,
           116,
           157,
           241,
           301,
           251,
           239,
           127,
           165,
           206,
           89,
           280,
           182,
           350,
           136,
           50,
           66,
           200,
           191,
           331,
           206,
           92,
           134,
           114,
           212,
           290,
           120,
           171,
           111,
           66,
           74,
           365,
           136,
           44,
           109,
           166,
           161,
           244,
           171,
           199,
           142,
           101,
           124,
           280,
           217,
           45,
           384,
           256,
           150,
           156,
           128,
           117,
           132,
           48,
           240,
           124,
           5,
           160,
           130,
           197,
           46,
           158,
           26,
           62,
           172,
           16,
           303,
           509,
           162,
           127,
           43,
           66,
           19,
           101,
           227,
           35,
           9,
           255,
           315,
           136,
           211,
           198,
           223,
           190,
           268,
           298,
           71,
           60,
           28,
           85,
           146,
           232,
           177,
           193,
           162,
           481,
           78,
           478,
           259,
           96,
           127,
           114,
           147,
           485,
           77,
           6,
           50,
           194,
           73,
           431,
           230,
           297,
           134,
           149,
           87,
           96,
           188,
           30,
           28,
           145,
           75,
           80,
           350,
           5,
           160,
           112,
           102,
           298,
           168,
           20,
           169,
           218,
           240,
           125,
           128,
           175,
           175,
           295,
           45,
           41,
           113,
           143,
           251,
           64,
           21,
           43,
           18,
           91,
           47,
           189,
           11,
           52,
           124,
           55,
           65,
           126,
           137,
           27,
           31,
           41,
           20,
           26,
           14,
           72,
           41,
           97,
           264,
           143,
           18,
           10,
           10,
           28,
           47,
           37,
           48,
           47,
           170,
           31,
           55,
           39,
           67,
           34,
           39,
           11,
           23,
           24,
           13,
           101,
           43,
           116,
           100,
           111,
           31,
           69,
           208,
           87,
           65,
           28,
           27,
           10,
           59,
           68,
           192,
           12,
           56,
           54,
           12,
           26,
           89,
           18,
           76,
           170,
           201,
           101,
           344,
           49,
           43,
           112,
           70,
           162,
           163,
           93,
           55,
           62,
           25,
           64,
           73,
           129,
           178,
           81,
           106,
           26,
           300,
           19,
           85,
           32,
           219,
           121,
           97,
           93,
           153,
           174,
           171,
           67,
           216,
           99,
           5,
           6,
           5,
           14,
           53,
           4,
           162,
           46,
           22,
           9,
           121,
           85,
           117,
           63,
           170,
           66,
           16,
           16,
           145,
           48,
           27,
           90,
           24,
           28,
           74,
           148,
           71,
           27,
           85,
           52,
           48,
           64,
           67,
           108,
           221,
           158,
           126,
           194,
           250,
           160,
           95,
           104,
           179,
           179,
           63,
           128,
           243,
           138,
           125,
           64,
           68,
           65,
           52,
           50,
           67,
           59,
           60,
           56,
           59,
           231,
           68,
           152,
           62,
           31,
           123,
           57,
           39,
           122,
           68,
           90,
           98,
           215,
           121,
           121,
           173,
           57,
           72,
           180,
           201,
           63,
           91,
           89,
           80,
           124,
           120,
           35,
           164,
           46,
           73,
           124,
           195,
           121,
           93,
           80,
           129,
           22,
           15,
           13,
           54,
           10,
           30,
           66,
           44,
           43,
           49,
           51,
           21,
           71,
           12,
           254,
           41,
           12,
           92,
           151,
           24,
           45,
           63,
           102,
           10,
           12,
           17,
           70,
           137,
           22,
           59,
           48,
           29,
           27,
           22,
           179,
           35,
           230,
           67,
           50,
           28,
           29,
           33,
           15,
           44,
           93,
           41,
           92,
           19,
           32,
           59,
           168,
           37,
           79,
           39,
           34,
           14,
           202,
           43,
           18,
           178,
           9,
           12,
           5,
           64,
           127,
           206,
           4,
           1,
           2,
           20,
           50,
           209,
           81,
           31,
           66,
           66,
           30,
           60,
           41,
           40,
           34,
           27,
           51,
           59,
           64,
           18,
           18,
           64,
           43,
           11,
           39,
           39,
           22,
           82,
           4,
           75,
           169,
           77,
           31,
           119,
           58,
           69,
           24,
           23,
           91,
           38,
           44,
           40,
           82,
           33,
           89,
           4,
           35,
           27,
           38,
           70,
           67,
           50,
           72,
           171,
           90,
           34,
           147,
           227,
           44,
           131,
           79,
           115,
           153,
           88,
           82,
           116,
           46,
           100,
           5,
           12,
           6,
           13,
           36,
           46,
           65,
           86,
           48,
           54,
           77,
           1,
           219,
           107,
           34,
           27,
           100,
           49,
           169,
           157,
           50,
           69,
           44,
           87,
           155,
           16,
           164,
           91,
           44,
           13,
           79,
           40,
           10,
           102,
           15,
           10,
           53,
           19,
           24,
           137,
           6,
           70,
           101,
           104,
           79,
           1,
           51,
           72,
           13,
           87,
           58,
           82,
           16,
           29,
           86,
           54,
           58,
           34,
           76,
           16,
           14,
           63,
           45,
           81,
           24,
           39,
           180,
           15,
           27,
           137,
           78,
           59,
           31,
           164,
           63,
           58,
           267,
           39,
           92,
           16,
           119,
           102,
           316,
           51,
           124,
           180,
           39,
           24,
           57,
           96,
           128,
           4,
           21,
           11,
           46,
           44,
           115,
           149,
           29,
           32,
           9,
           11,
           52,
           42,
           57,
           41,
           49,
           17,
           32,
           26,
           9,
           4,
           76,
           31,
           69,
           84,
           10,
           37,
           2,
           39,
           14,
           13,
           3,
           47,
           66,
           10,
           86,
           10,
           46,
           21,
           36,
           31,
           9,
           5,
           26,
           16,
           40,
           9,
           8,
           27,
           50,
           9,
           31,
           43,
           45,
           18,
           18,
           56,
           1,
           112,
           21,
           3,
           25,
           40,
           93,
           22,
           4,
           82,
           49,
           83,
           80,
           57,
           13,
           34,
           1,
           91,
           22,
           49,
           25,
           15,
           26,
           25,
           4,
           4,
           53,
           48,
           27,
           30,
           42,
           176,
           44,
           55,
           9,
           53,
           4,
           4,
           1,
           14,
           16,
           66,
           36,
           1,
           3,
           15,
           16,
           3,
           18,
           24,
           86,
           21,
           119,
           6,
           5,
           24,
           9,
           75,
           42,
           81,
           39,
           53,
           47,
           52,
           33,
           136,
           59,
           45,
           34,
           13,
           7,
           13,
           53,
           64,
           15,
           13,
           43,
           6,
           53,
           14,
           19,
           106,
           44,
           2,
           58,
           9,
           42,
           12,
           42,
           18,
           20,
           27,
           21,
           2,
           20,
           13,
           4,
           4,
           9,
           2,
           11,
           13,
           18,
           7,
           8,
           96,
           5,
           46,
           34,
           58,
           85,
           34,
           101,
           6,
           104,
           40,
           80,
           57,
           40,
           21,
           68,
           7,
           32,
           37,
           25,
           60,
           32,
           46,
           45,
           40,
           43,
           40,
           61,
           17,
           48,
           71,
           30,
           39,
           45,
           22,
           11,
           49,
           46,
           2,
           14,
           64,
           25,
           34,
           23,
           41,
           9,
           21,
           26,
           12,
           18,
           75,
           8,
           34,
           28,
           4,
           32,
           44,
           12,
           49,
           27,
           35,
           22,
           8,
           20,
           15,
           44,
           22,
           23,
           4,
           86,
           32,
           33,
           25,
           4,
           66,
           7,
           31,
           14,
           16,
           16,
           10,
           10,
           17,
           8,
           8,
           9,
           22,
           23,
           47,
           37,
           64,
           44,
           93,
           100,
           38,
           98,
           12,
           137,
           50,
           32,
           31,
           35,
           38,
           32,
           31,
           15,
           44,
           4,
           3,
           148,
           14,
           20,
           7,
           16,
           32,
           27,
           68,
           24,
           24,
           17,
           90,
           25,
           62,
           28,
           8,
           40,
           25,
           46,
           134,
           73,
           25,
           43,
           41,
           25,
           24,
           23,
           10,
           10,
           22,
           15,
           35,
           39,
           29,
           12,
           41,
           4,
           53,
           16,
           44,
           12,
           18,
           27,
           16,
           7,
           66,
           77,
           7,
           12,
           8,
           22,
           45,
           2,
           8,
           8,
           6,
           21,
           11,
           21,
           10,
           13,
           38,
           37,
           43,
           12,
           23,
           12,
           29,
           3,
           18,
           42,
           13,
           8,
           74,
           7,
           19,
           4,
           18,
           4,
           18,
           5,
           28,
           41,
           7,
           15,
           22,
           10,
           29,
           13,
           19,
           47,
           59,
           17,
           21,
           1,
           3,
           12,
           4,
           32,
           11,
           13,
           28,
           1,
           13,
           32,
           30,
           38,
           46,
           29,
           29,
           5,
           33,
           17,
           9,
           44,
           15,
           3,
           9,
           3,
           21,
           9,
           26,
           9,
           7,
           28,
           19,
           12,
           3,
           1,
           25,
           4,
           11,
           26,
           13,
           5,
           25,
           6,
           14,
           12,
           11,
           22,
           10,
           27,
           14,
           15,
           7,
           8,
           5,
           22,
           7,
           19,
           9,
           10,
           10,
           13,
           19,
           10,
           18,
           3,
           13,
           44,
           3,
           11,
           3,
           13,
           10,
           31,
           11,
           3,
           45,
           7,
           23,
           7,
           1,
           8,
           21,
           18,
           6,
           19,
           17,
           20,
           15,
           38,
           12,
           6,
           6,
           9,
           30,
           6,
           39,
           26,
           20,
           30,
           39,
           25,
           4,
           12,
           14,
           32,
           8,
           48,
           13,
           18,
           22,
           17,
           6,
           8,
           1,
           1,
           6,
           8,
           18,
           26,
           6,
           5,
           7,
           36,
           19,
           7,
           6,
           19,
           12,
           6,
           8,
           9,
           7,
           11,
           8,
           3,
           4,
           23,
           4,
           4,
           4,
           8,
           15,
           7,
           19,
           12,
           33,
           10,
           10,
           7,
           7,
           5,
           15,
           11,
           4,
           8,
           19,
           16,
           9,
           16,
           13,
           9,
           19,
           26,
           15,
           17,
           6,
           7,
           7,
           2,
           15,
           3,
           3,
           7,
           7,
           20,
           12,
           9,
           8,
           9,
           5,
           5,
           18,
           2,
           7,
           2,
           2,
           2,
           1,
           1,
           16,
           7,
           14,
           11,
           23,
           7,
           4,
           3,
           4,
           1,
           2,
           6,
           3,
           5,
           1,
           6,
           3,
           6,
           1,
           4,
           4,
           2,
           5,
           2,
           11,
           10,
           9,
           4,
           1,
           1,
           1,
           2,
           1,
           5,
           2,
           5,
           4,
           1,
           1,
           2,
           3,
           1,
           5,
           2,
           6,
           3,
           3,
           2,
           2,
           2,
           3,
           2,
           1,
           1,
           2,
           1,
           5,
           6,
           4,
           3,
           2,
           3,
           1,
           2,
           10,
           7,
           4,
           5,
           7,
           6,
           8,
           4,
           6,
           3,
           5,
           6,
           3,
           6,
           3,
           2,
           3,
           5,
           9,
           7,
           6,
           5,
           5,
           2,
           7,
           10,
           18,
           4,
           4,
           13,
           6,
           5,
           20,
           3,
           7,
           4,
           28,
           6,
           8,
           1,
           9,
           5,
           2,
           3,
           16,
           3,
           11,
           4,
           4,
           3,
           10,
           8,
           5,
           12,
           4,
           3,
           5,
           3,
           2,
           10,
           7,
           2,
           9,
           5,
           8,
           5,
           7,
           5,
           4,
           19,
           4,
           15,
           1,
           3,
           8,
           2,
           15,
           1,
           1,
           6,
           2,
           7,
           1,
           1,
           7,
           1,
           1,
           7,
           3,
           3,
           3,
           6,
           2,
           6,
           12,
           5,
           9,
           2,
           9,
           6,
           8,
           1,
           2,
           18,
           8,
           11,
           2,
           1,
           12,
           3,
           4,
           1,
           5,
           4,
           5,
           3,
           2,
           1,
           1,
           1,
           5,
           5,
           2,
           1,
           4,
           2,
           5,
           2,
           10,
           3,
           1,
           3,
           1,
           3,
           5,
           1,
           5,
           6,
           3,
           7,
           1,
           3,
           5,
           12,
           2,
           1,
           4,
           7,
           2,
           8,
           1,
           1,
           7,
           3,
           5,
           5,
           7,
           2,
           1,
           6,
           4,
           1,
           4,
           3,
           4,
           10,
           2,
           2,
           1,
           3,
           4,
           1,
           2,
           1,
           2,
           2,
           2,
           3,
           4,
           2,
           5,
           2,
           1,
           7,
           1,
           4,
           1,
           1,
           1,
           1,
           1,
           1,
           1,
           1,
           1,
           1,
           1,
           1,
           2,
           1,
           1,
           1,
           1,
           2,
           1,
           1,
           1,
           1,
           1,
           1,
           2,
           1,
           1,
           2,
           4,
           2,
           6,
           5,
           1,
           2,
           1,
           1,
           5,
           6,
           1,
           4,
           1,
           3,
           1,
           1,
           4,
           1,
           3,
           4,
           3,
           3,
           2,
           4,
           1,
           1,
           10,
           1,
           2,
           1,
           1,
           9,
           1,
           3,
           3,
           1,
           1,
           1,
           1,
           4,
           2,
           1,
           2,
           1,
           1,
           1,
           1,
           1,
           1,
           1,
           3,
           1,
           1,
           2,
           4,
           2,
           1,
           2,
           1,
           1,
           1,
           1,
           1,
           3,
           1,
           1,
           1,
           2,
           1,
           3,
           1,
           1,
           1,
           2,
           1,
           4,
           1,
           1,
           1,
           1,
           1,
           1,
           1,
           2,
           1,
           1,
           1,
           1,
           1,
           1,
           1,
           1,
           1,
           1
          ],
          "coloraxis": "coloraxis",
          "symbol": "circle"
         },
         "mode": "markers",
         "name": "",
         "showlegend": false,
         "type": "scattergl",
         "x": [
          -7.6600542068481445,
          -0.5761503577232361,
          9.47641658782959,
          -2.5793590545654297,
          6.7006072998046875,
          -7.746898174285889,
          -20.538572311401367,
          -33.409542083740234,
          -38.53581237792969,
          -11.826947212219238,
          -7.67819881439209,
          -8.049809455871582,
          -25.819368362426758,
          -0.8240407705307007,
          -2.379643201828003,
          -22.180612564086914,
          18.394731521606445,
          -26.40047836303711,
          -5.518155574798584,
          -8.719758033752441,
          11.090910911560059,
          -7.449728488922119,
          -29.2581729888916,
          -24.248516082763672,
          8.802729606628418,
          -9.464761734008789,
          -7.089118003845215,
          -4.8413496017456055,
          17.930700302124023,
          -17.34320831298828,
          8.255338668823242,
          -21.78656768798828,
          11.610119819641113,
          7.100127696990967,
          23.342952728271484,
          20.629709243774414,
          2.856294631958008,
          11.989507675170898,
          -6.548839092254639,
          9.496724128723145,
          4.879158020019531,
          -7.924709320068359,
          -10.312055587768555,
          -2.628113031387329,
          -7.451754093170166,
          -17.675729751586914,
          -28.981849670410156,
          -5.845217227935791,
          0.3008004128932953,
          -10.626011848449707,
          -3.037285566329956,
          -28.9725399017334,
          -26.76807975769043,
          4.191405773162842,
          -8.406739234924316,
          -30.00827407836914,
          -16.76725196838379,
          -33.74446487426758,
          -10.726521492004395,
          -10.725820541381836,
          -11.006584167480469,
          16.080337524414062,
          9.662871360778809,
          -40.589515686035156,
          -12.661396026611328,
          -3.563804864883423,
          7.726142883300781,
          -26.33121109008789,
          -6.273814678192139,
          -12.20109748840332,
          -6.890549659729004,
          5.852153301239014,
          13.501396179199219,
          34.53019714355469,
          11.629916191101074,
          -2.963468313217163,
          6.351479530334473,
          11.851480484008789,
          -8.379510879516602,
          7.322819709777832,
          -27.644426345825195,
          -4.156540393829346,
          -9.499820709228516,
          2.136050224304199,
          -1.1599551439285278,
          -16.77182388305664,
          -2.6002583503723145,
          -3.9823668003082275,
          -35.96076583862305,
          -16.633373260498047,
          -5.24665641784668,
          -12.091785430908203,
          -11.808062553405762,
          6.2199273109436035,
          -8.579989433288574,
          -11.734423637390137,
          -35.49484634399414,
          -38.894287109375,
          -31.631324768066406,
          -31.08109474182129,
          14.154047012329102,
          1.8356497287750244,
          32.21993637084961,
          36.61000442504883,
          16.067890167236328,
          20.43408966064453,
          -8.785603523254395,
          -7.151557922363281,
          12.308704376220703,
          21.910213470458984,
          -11.987399101257324,
          13.620235443115234,
          -8.944428443908691,
          -30.644935607910156,
          -1.9729405641555786,
          -10.03231430053711,
          12.890277862548828,
          12.201900482177734,
          -14.707785606384277,
          19.4928035736084,
          12.942456245422363,
          29.821928024291992,
          -4.367656707763672,
          -33.29108428955078,
          2.9420554637908936,
          8.040850639343262,
          -36.25558853149414,
          -7.634747505187988,
          -11.032859802246094,
          28.535533905029297,
          -20.18743324279785,
          -35.84926986694336,
          -37.15446090698242,
          -36.051734924316406,
          -35.83091735839844,
          -37.17001724243164,
          -25.868492126464844,
          15.99642276763916,
          12.590739250183105,
          8.319238662719727,
          -7.15925407409668,
          2.0373170375823975,
          -3.600261688232422,
          -11.762822151184082,
          17.932283401489258,
          13.441452026367188,
          15.95101261138916,
          14.919112205505371,
          -23.222787857055664,
          -15.348042488098145,
          -32.708343505859375,
          -29.565969467163086,
          -30.248947143554688,
          -27.98811149597168,
          6.057550430297852,
          -20.19045639038086,
          -20.437047958374023,
          21.542354583740234,
          7.599656105041504,
          -20.515850067138672,
          6.741617679595947,
          -19.903419494628906,
          -8.194170951843262,
          -5.078189849853516,
          -6.019810199737549,
          -15.410449981689453,
          3.9018988609313965,
          -30.96131706237793,
          -8.28195858001709,
          -12.681167602539062,
          -15.561964988708496,
          -10.64020824432373,
          -9.677127838134766,
          -11.00017261505127,
          -27.140554428100586,
          -20.58479118347168,
          -19.975780487060547,
          -37.7421875,
          -34.46104049682617,
          -36.089202880859375,
          -10.627104759216309,
          -23.704030990600586,
          -20.62863540649414,
          -7.579250812530518,
          -33.987022399902344,
          -9.188491821289062,
          -36.09530258178711,
          -18.8145694732666,
          -7.328296184539795,
          -29.76014518737793,
          -36.28892135620117,
          -18.03573989868164,
          -32.627437591552734,
          -35.38976287841797,
          -13.193706512451172,
          -38.322021484375,
          -38.54210662841797,
          -6.616507053375244,
          -34.38247299194336,
          -27.818788528442383,
          -29.01212501525879,
          -6.96428918838501,
          -25.897769927978516,
          -10.656071662902832,
          -11.573201179504395,
          -10.513327598571777,
          -16.350629806518555,
          -28.40949821472168,
          -30.659555435180664,
          -8.96054744720459,
          -37.71730041503906,
          -14.417264938354492,
          -21.47201919555664,
          -13.812697410583496,
          -6.734109401702881,
          -40.75788879394531,
          8.887384414672852,
          12.856289863586426,
          18.440622329711914,
          1.376153826713562,
          -18.052724838256836,
          9.850020408630371,
          -30.384506225585938,
          -8.337087631225586,
          9.813490867614746,
          5.115121841430664,
          -14.43115234375,
          -14.155213356018066,
          6.793493270874023,
          -14.296422004699707,
          17.710477828979492,
          -7.096309185028076,
          4.896574974060059,
          -36.34361267089844,
          -3.3560495376586914,
          -3.802316904067993,
          -5.3925700187683105,
          -29.91739273071289,
          3.89721941947937,
          -8.011970520019531,
          -4.654864311218262,
          -5.718286037445068,
          17.689735412597656,
          0.45194217562675476,
          6.660529136657715,
          -1.2789355516433716,
          18.916492462158203,
          -7.46790885925293,
          -3.679518222808838,
          0.246585875749588,
          -3.9938220977783203,
          -0.27879804372787476,
          0.525238573551178,
          12.472618103027344,
          -4.184219837188721,
          -14.487990379333496,
          -0.8900220990180969,
          4.188436985015869,
          10.100987434387207,
          24.949792861938477,
          9.165385246276855,
          -18.00055503845215,
          27.42677116394043,
          27.163440704345703,
          -8.414910316467285,
          8.713943481445312,
          1.344842553138733,
          2.91257381439209,
          2.723311424255371,
          -10.7750883102417,
          11.061790466308594,
          2.758913278579712,
          11.633994102478027,
          -1.097510814666748,
          2.2238216400146484,
          -30.848081588745117,
          -12.918488502502441,
          9.157795906066895,
          -19.600669860839844,
          5.11846923828125,
          10.482772827148438,
          11.898740768432617,
          -3.4458703994750977,
          10.663100242614746,
          -30.743616104125977,
          -0.8818226456642151,
          -3.0703725814819336,
          11.201804161071777,
          -0.11576954275369644,
          13.370938301086426,
          13.499180793762207,
          -7.167481422424316,
          -14.767812728881836,
          17.056455612182617,
          -2.9017012119293213,
          2.913055419921875,
          -3.9371042251586914,
          7.423652648925781,
          -20.811368942260742,
          11.988802909851074,
          6.974589824676514,
          -4.277580738067627,
          -15.472457885742188,
          7.858166217803955,
          -15.279603958129883,
          -5.636529922485352,
          9.664734840393066,
          0.34299546480178833,
          13.58761215209961,
          6.494911193847656,
          -0.09550809860229492,
          5.357888698577881,
          3.691027879714966,
          35.14569091796875,
          1.295484185218811,
          1.3465700149536133,
          -7.280365467071533,
          -39.810890197753906,
          -1.3673475980758667,
          -19.415985107421875,
          7.299251079559326,
          15.204169273376465,
          17.262252807617188,
          -25.264192581176758,
          17.835735321044922,
          16.511995315551758,
          9.223774909973145,
          13.129984855651855,
          13.239294052124023,
          -0.7900245189666748,
          9.329085350036621,
          9.552248001098633,
          12.489212036132812,
          -0.4986717998981476,
          6.222596645355225,
          20.452558517456055,
          -13.097880363464355,
          22.80716896057129,
          3.447617769241333,
          2.9596660137176514,
          5.336624622344971,
          12.98226261138916,
          10.685015678405762,
          -5.855076789855957,
          -14.150229454040527,
          -18.78291893005371,
          -17.267759323120117,
          13.37470817565918,
          11.375448226928711,
          1.8068374395370483,
          7.3426713943481445,
          29.316234588623047,
          24.75510025024414,
          13.431660652160645,
          -21.474271774291992,
          -4.755206108093262,
          -37.69384002685547,
          28.08028793334961,
          -0.6339907646179199,
          -6.088063716888428,
          -1.7696471214294434,
          -20.015531539916992,
          17.310060501098633,
          10.75976276397705,
          -1.2122557163238525,
          8.71657657623291,
          -9.306585311889648,
          14.990067481994629,
          6.620633602142334,
          14.344040870666504,
          -1.55985426902771,
          -12.510080337524414,
          13.525988578796387,
          20.958351135253906,
          33.0889892578125,
          14.194287300109863,
          15.70553970336914,
          -1.1305233240127563,
          7.372038841247559,
          3.338926076889038,
          -14.882805824279785,
          -19.494142532348633,
          23.567405700683594,
          17.09650421142578,
          -12.60428524017334,
          12.681109428405762,
          -5.765722274780273,
          19.535493850708008,
          -2.5276072025299072,
          -21.872190475463867,
          7.547872066497803,
          2.032402753829956,
          -6.384509086608887,
          9.134994506835938,
          12.054718017578125,
          -26.975446701049805,
          8.638871192932129,
          17.774629592895508,
          12.804313659667969,
          8.083277702331543,
          1.10360586643219,
          0.6196273565292358,
          -9.422578811645508,
          -31.104171752929688,
          14.556520462036133,
          15.203559875488281,
          18.781171798706055,
          -8.280498504638672,
          -2.772547483444214,
          18.332576751708984,
          15.261246681213379,
          26.421178817749023,
          20.397911071777344,
          -24.38875961303711,
          12.493765830993652,
          -26.693870544433594,
          -0.6173692941665649,
          -6.958627700805664,
          -26.66602325439453,
          -35.10354232788086,
          -0.6441969871520996,
          -22.702871322631836,
          -37.1899528503418,
          38.48810577392578,
          -9.240118980407715,
          -2.8597466945648193,
          -38.0469856262207,
          -33.89788055419922,
          -16.667850494384766,
          -6.854102611541748,
          -6.6245598793029785,
          -30.210357666015625,
          -11.402338981628418,
          -16.666685104370117,
          -5.913478851318359,
          -18.38488006591797,
          36.96870040893555,
          37.98215866088867,
          39.10692596435547,
          31.988265991210938,
          19.776491165161133,
          31.93996810913086,
          -36.14013671875,
          -26.659807205200195,
          -13.417413711547852,
          20.071086883544922,
          -31.028457641601562,
          -23.028432846069336,
          7.492147445678711,
          15.709779739379883,
          3.2755167484283447,
          16.680883407592773,
          6.0106425285339355,
          10.606866836547852,
          -20.440582275390625,
          20.45037841796875,
          27.371904373168945,
          4.14418888092041,
          -4.689065456390381,
          1.1536942720413208,
          -21.704057693481445,
          -14.74517822265625,
          -9.376337051391602,
          -17.491235733032227,
          -8.444144248962402,
          -19.807037353515625,
          -4.55088472366333,
          -2.6858487129211426,
          -24.162792205810547,
          8.81346321105957,
          9.987678527832031,
          4.177297115325928,
          -6.236942768096924,
          -35.7470588684082,
          -30.900562286376953,
          8.961644172668457,
          -12.781587600708008,
          -28.8771915435791,
          -30.614870071411133,
          -37.381282806396484,
          -29.793193817138672,
          -28.144514083862305,
          -35.7655143737793,
          -30.7735595703125,
          -17.453798294067383,
          -3.9794921875,
          -20.166488647460938,
          -28.024736404418945,
          -11.54127311706543,
          -16.06783676147461,
          -30.1502628326416,
          -30.710725784301758,
          -31.211088180541992,
          -28.666372299194336,
          -26.559236526489258,
          -35.6801872253418,
          -26.91315269470215,
          -36.86468505859375,
          -18.148801803588867,
          -19.79717445373535,
          -31.00432014465332,
          -3.952040672302246,
          -13.961721420288086,
          -19.848918914794922,
          -28.590160369873047,
          -20.84480857849121,
          -33.21470642089844,
          6.437806129455566,
          -22.56525230407715,
          -17.425548553466797,
          -35.984283447265625,
          -9.535445213317871,
          -13.343615531921387,
          -32.12545394897461,
          -38.188446044921875,
          -10.112632751464844,
          -32.34890365600586,
          -25.68168830871582,
          -22.460311889648438,
          -37.03084182739258,
          -25.864885330200195,
          -19.554275512695312,
          -37.9274787902832,
          -16.521326065063477,
          -30.098979949951172,
          -36.87175750732422,
          -35.805965423583984,
          -28.95271110534668,
          -14.306194305419922,
          -32.29782485961914,
          -6.724708557128906,
          -2.436516761779785,
          -18.851882934570312,
          -14.150834083557129,
          12.132247924804688,
          -17.521930694580078,
          -24.39577293395996,
          6.82926082611084,
          14.242057800292969,
          8.123199462890625,
          19.113115310668945,
          11.855113983154297,
          -16.128583908081055,
          1.9791618585586548,
          25.63382339477539,
          17.37785530090332,
          -3.4407284259796143,
          -24.308671951293945,
          -3.730168581008911,
          4.852300643920898,
          22.32424545288086,
          6.334353923797607,
          10.199859619140625,
          13.919178009033203,
          28.541044235229492,
          -23.604652404785156,
          -14.471114158630371,
          -21.98961067199707,
          18.017269134521484,
          12.57679271697998,
          19.60590362548828,
          -1.65883469581604,
          22.08816909790039,
          22.6442813873291,
          18.343191146850586,
          -12.615216255187988,
          20.58338165283203,
          -10.656579971313477,
          5.297619342803955,
          5.7296037673950195,
          19.060894012451172,
          7.555546760559082,
          7.354714870452881,
          20.599416732788086,
          13.995915412902832,
          0.3472665548324585,
          36.032501220703125,
          9.427624702453613,
          7.021784782409668,
          -7.519330024719238,
          -22.29134178161621,
          -18.674610137939453,
          -16.894960403442383,
          -23.84505844116211,
          16.050870895385742,
          19.079343795776367,
          -8.064549446105957,
          -7.856244087219238,
          -10.776702880859375,
          28.3232479095459,
          7.454379081726074,
          -8.191947937011719,
          -25.774105072021484,
          -21.01667594909668,
          16.81664276123047,
          -3.8170905113220215,
          4.083127975463867,
          19.214754104614258,
          30.148454666137695,
          -25.332965850830078,
          -19.056461334228516,
          -18.350284576416016,
          -37.222652435302734,
          -15.97408390045166,
          -24.199462890625,
          -22.316184997558594,
          -28.19512367248535,
          -7.565494060516357,
          -26.10960578918457,
          -27.122669219970703,
          -21.00748634338379,
          -24.48054313659668,
          -7.952195644378662,
          -14.642948150634766,
          -12.186338424682617,
          -12.288850784301758,
          -7.926563739776611,
          -31.11271095275879,
          13.542007446289062,
          7.700344085693359,
          -26.031986236572266,
          0.3348824381828308,
          13.04537582397461,
          -28.820659637451172,
          -2.2390060424804688,
          -25.860776901245117,
          3.249657392501831,
          14.16102123260498,
          -5.345139503479004,
          -7.327557563781738,
          -21.328920364379883,
          -21.391489028930664,
          -22.664539337158203,
          -25.219524383544922,
          -10.032646179199219,
          -26.355045318603516,
          -23.042203903198242,
          -22.403438568115234,
          -13.673479080200195,
          -28.656991958618164,
          -25.828792572021484,
          -20.309406280517578,
          -21.86416244506836,
          -34.087642669677734,
          -15.556757926940918,
          -25.089191436767578,
          -27.11501121520996,
          -17.50657081604004,
          -18.41958236694336,
          -18.131637573242188,
          -34.85198211669922,
          -11.407683372497559,
          -17.454320907592773,
          -26.890235900878906,
          -39.52077102661133,
          -29.651519775390625,
          -31.73381996154785,
          -2.1730756759643555,
          -16.33823585510254,
          -12.569035530090332,
          -33.38335037231445,
          -8.235353469848633,
          -17.4771728515625,
          -25.874496459960938,
          23.60672950744629,
          18.319791793823242,
          19.849594116210938,
          -22.289600372314453,
          29.198970794677734,
          7.278584957122803,
          -27.509756088256836,
          22.39453887939453,
          -9.091188430786133,
          -20.288917541503906,
          -24.307437896728516,
          1.1237025260925293,
          50.77570343017578,
          18.089111328125,
          21.157346725463867,
          8.72192668914795,
          11.42359733581543,
          11.14759349822998,
          7.806100845336914,
          -12.886940002441406,
          11.205589294433594,
          -7.505256175994873,
          16.732587814331055,
          27.65462875366211,
          14.671951293945312,
          5.464418411254883,
          -22.13902473449707,
          -3.58261775970459,
          -23.58097267150879,
          -15.901844024658203,
          -20.091211318969727,
          8.463093757629395,
          -1.7912659645080566,
          -0.5761422514915466,
          -10.481796264648438,
          0.20652832090854645,
          -13.970348358154297,
          4.0546555519104,
          -7.850390911102295,
          -14.798989295959473,
          -34.14875793457031,
          10.639015197753906,
          -4.9452409744262695,
          -19.07743263244629,
          -8.658438682556152,
          -8.859356880187988,
          50.39158630371094,
          -16.703079223632812,
          0.874225914478302,
          -12.974549293518066,
          -24.79831886291504,
          -17.393489837646484,
          12.015113830566406,
          -7.271727085113525,
          10.708913803100586,
          7.033836364746094,
          3.75846266746521,
          -0.8614388704299927,
          0.30901163816452026,
          -24.447769165039062,
          9.560033798217773,
          4.295527458190918,
          -2.1336593627929688,
          9.254966735839844,
          8.294716835021973,
          -17.131359100341797,
          3.4062247276306152,
          -6.962126731872559,
          -10.464792251586914,
          20.908096313476562,
          -6.72094202041626,
          -15.782693862915039,
          -25.05403709411621,
          -13.050057411193848,
          -3.791511058807373,
          2.4903199672698975,
          -16.67746925354004,
          2.727503538131714,
          27.837371826171875,
          0.9152981042861938,
          -5.232759952545166,
          -14.967608451843262,
          -10.814464569091797,
          16.85331916809082,
          5.567920207977295,
          5.418079853057861,
          0.18518006801605225,
          -3.274813175201416,
          -4.841070175170898,
          1.5802671909332275,
          9.671378135681152,
          13.492632865905762,
          -0.11894315481185913,
          29.302886962890625,
          27.254201889038086,
          6.2388691902160645,
          9.2990083694458,
          7.172417640686035,
          17.36205291748047,
          -4.5149993896484375,
          8.063932418823242,
          -23.550979614257812,
          5.293361186981201,
          10.792399406433105,
          15.233597755432129,
          -26.806766510009766,
          16.574264526367188,
          -15.989733695983887,
          -22.804595947265625,
          10.537357330322266,
          3.920414447784424,
          7.515517711639404,
          25.056413650512695,
          -15.164979934692383,
          14.670573234558105,
          -2.8132262229919434,
          1.2325555086135864,
          -31.505170822143555,
          8.370855331420898,
          48.5300407409668,
          -1.293276309967041,
          1.9668513536453247,
          -6.695363998413086,
          52.96489715576172,
          -11.185609817504883,
          -3.367992877960205,
          25.013874053955078,
          -32.99913787841797,
          -11.83795166015625,
          -0.948564887046814,
          23.313373565673828,
          14.96751880645752,
          10.828113555908203,
          26.012901306152344,
          -11.815387725830078,
          21.35839080810547,
          13.314526557922363,
          5.564558506011963,
          -30.519319534301758,
          10.737374305725098,
          -24.736183166503906,
          -20.523422241210938,
          9.54817008972168,
          13.621621131896973,
          4.4823503494262695,
          7.7358784675598145,
          -11.09139633178711,
          0.5425316095352173,
          -2.9857370853424072,
          48.58279800415039,
          7.8352131843566895,
          24.661542892456055,
          10.970514297485352,
          -22.713836669921875,
          16.687938690185547,
          12.7368803024292,
          5.435885906219482,
          -24.934627532958984,
          6.186898708343506,
          1.7811025381088257,
          4.742169380187988,
          17.45271873474121,
          16.20880889892578,
          9.683499336242676,
          14.741947174072266,
          41.63376235961914,
          25.50748062133789,
          23.406551361083984,
          9.490679740905762,
          18.40816307067871,
          -9.876788139343262,
          -19.267518997192383,
          -16.364145278930664,
          24.365407943725586,
          41.255897521972656,
          5.642719745635986,
          21.1114444732666,
          -21.99203109741211,
          -28.2345027923584,
          -12.256535530090332,
          -6.687986373901367,
          11.121498107910156,
          -8.942513465881348,
          -23.07359504699707,
          13.593633651733398,
          -19.359130859375,
          -25.912010192871094,
          42.394737243652344,
          -4.264857292175293,
          -3.941633462905884,
          -10.422529220581055,
          -24.191370010375977,
          24.725372314453125,
          36.212398529052734,
          21.615921020507812,
          21.720544815063477,
          -27.79179573059082,
          22.707901000976562,
          -7.204090118408203,
          0.8163496851921082,
          -12.621784210205078,
          2.4665791988372803,
          -27.207557678222656,
          -27.075414657592773,
          7.131889820098877,
          5.108238220214844,
          12.476058006286621,
          0.586967408657074,
          10.436318397521973,
          1.8495792150497437,
          16.929243087768555,
          9.778495788574219,
          29.824623107910156,
          9.8154878616333,
          11.629240989685059,
          2.6424331665039062,
          8.203214645385742,
          -2.8105647563934326,
          -3.1560275554656982,
          -5.345413684844971,
          25.5281982421875,
          6.674280166625977,
          -2.813028573989868,
          4.080721855163574,
          2.0256481170654297,
          26.906871795654297,
          8.927749633789062,
          15.021978378295898,
          8.762516975402832,
          29.28766441345215,
          8.281904220581055,
          -15.544662475585938,
          26.388330459594727,
          4.010408878326416,
          -2.8819310665130615,
          -14.959202766418457,
          34.215267181396484,
          -4.3893327713012695,
          -19.244272232055664,
          -2.0538551807403564,
          6.364625930786133,
          2.31075119972229,
          15.936295509338379,
          8.075160026550293,
          -8.632338523864746,
          33.47364807128906,
          31.631391525268555,
          -0.7154303789138794,
          41.32857131958008,
          5.430620193481445,
          -28.77924346923828,
          4.166206359863281,
          -19.594310760498047,
          3.0096187591552734,
          -29.71422004699707,
          -18.222003936767578,
          -8.907870292663574,
          -12.368719100952148,
          -15.212103843688965,
          -0.8213808536529541,
          14.608917236328125,
          10.701623916625977,
          35.35304260253906,
          18.777990341186523,
          2.8053455352783203,
          18.84518814086914,
          20.66868019104004,
          9.73674201965332,
          22.61812973022461,
          11.441333770751953,
          -10.06561279296875,
          -8.830235481262207,
          4.1672682762146,
          8.791648864746094,
          2.2993862628936768,
          24.601951599121094,
          1.6013051271438599,
          -19.603487014770508,
          -19.73631477355957,
          11.285635948181152,
          -4.921321868896484,
          -6.589669227600098,
          -15.905884742736816,
          24.869945526123047,
          -15.815114974975586,
          -20.98081398010254,
          5.130566120147705,
          -24.229753494262695,
          -12.441490173339844,
          -9.82642650604248,
          -11.038200378417969,
          -20.759479522705078,
          18.137130737304688,
          -5.094222545623779,
          -20.61107635498047,
          -20.906328201293945,
          -12.596470832824707,
          -25.855737686157227,
          -7.639703273773193,
          -26.586694717407227,
          -24.753374099731445,
          -5.906498908996582,
          -14.635076522827148,
          -12.814821243286133,
          -0.8711772561073303,
          -25.991579055786133,
          -10.449027061462402,
          -19.67823028564453,
          -7.591457366943359,
          3.8902697563171387,
          -12.543980598449707,
          16.680599212646484,
          7.42409610748291,
          23.633739471435547,
          7.995241165161133,
          -21.26426887512207,
          15.781759262084961,
          22.413799285888672,
          11.471328735351562,
          15.743574142456055,
          2.9427003860473633,
          13.427196502685547,
          25.766950607299805,
          16.720563888549805,
          10.946349143981934,
          4.0220746994018555,
          14.72409725189209,
          25.104928970336914,
          14.8574800491333,
          3.9761221408843994,
          -15.139638900756836,
          15.50730037689209,
          30.80828094482422,
          13.765854835510254,
          4.075920581817627,
          12.088640213012695,
          35.02220916748047,
          13.291831016540527,
          23.165973663330078,
          9.767260551452637,
          -22.539548873901367,
          -4.165874004364014,
          -11.731413841247559,
          -9.932279586791992,
          3.3642194271087646,
          -16.676259994506836,
          -13.059782028198242,
          -8.267496109008789,
          26.863149642944336,
          -5.690901756286621,
          11.473784446716309,
          8.604973793029785,
          -19.83376121520996,
          -20.094120025634766,
          -12.572319984436035,
          -24.043262481689453,
          -24.36232566833496,
          -5.244571208953857,
          16.24321937561035,
          -14.810630798339844,
          8.894216537475586,
          2.0975794792175293,
          39.1109504699707,
          14.20528793334961,
          22.953855514526367,
          12.979260444641113,
          7.097404479980469,
          14.04554271697998,
          12.882086753845215,
          18.999366760253906,
          10.349481582641602,
          13.659135818481445,
          35.394935607910156,
          4.513614654541016,
          -36.60672378540039,
          14.772865295410156,
          -0.009847254492342472,
          -1.7371792793273926,
          12.460367202758789,
          8.243762016296387,
          -23.25499153137207,
          0.6539974212646484,
          16.231069564819336,
          -12.011628150939941,
          21.957735061645508,
          -11.999516487121582,
          6.0023980140686035,
          18.589839935302734,
          6.103567123413086,
          21.269943237304688,
          2.6792068481445312,
          -9.5211820602417,
          4.365146160125732,
          -5.3465423583984375,
          10.580758094787598,
          -18.41194725036621,
          4.002095699310303,
          -5.434298515319824,
          -8.162693977355957,
          -28.0928955078125,
          -23.096961975097656,
          -14.369864463806152,
          -1.8439935445785522,
          -1.314968466758728,
          -8.796286582946777,
          -17.661203384399414,
          -10.75145149230957,
          10.117974281311035,
          -13.88524341583252,
          12.852949142456055,
          -4.911847114562988,
          14.933046340942383,
          -10.110722541809082,
          4.975964546203613,
          18.470243453979492,
          -16.318513870239258,
          -4.342594623565674,
          -19.759492874145508,
          -26.956762313842773,
          -10.573165893554688,
          -16.543554306030273,
          -14.118700981140137,
          33.28913879394531,
          35.351436614990234,
          29.840845108032227,
          14.001934051513672,
          -15.141582489013672,
          15.647608757019043,
          -6.751713752746582,
          23.9229679107666,
          24.839441299438477,
          2.5709457397460938,
          -10.049162864685059,
          -9.219815254211426,
          -14.474372863769531,
          33.526485443115234,
          -5.093592166900635,
          24.264911651611328,
          -27.848848342895508,
          24.941843032836914,
          8.272674560546875,
          5.344927787780762,
          -15.929633140563965,
          -24.84816551208496,
          -12.643014907836914,
          2.458251953125,
          -18.041975021362305,
          0.6973139643669128,
          -21.6236572265625,
          3.658515691757202,
          -20.57247543334961,
          -8.39540958404541,
          -13.452751159667969,
          -23.11506462097168,
          -2.214148759841919,
          -11.18038272857666,
          -16.424638748168945,
          -4.944167613983154,
          -19.210208892822266,
          -6.362279891967773,
          -9.073129653930664,
          -22.853132247924805,
          9.320294380187988,
          -23.05973243713379,
          -9.014689445495605,
          -25.65464210510254,
          -17.791454315185547,
          21.131702423095703,
          0.6212930083274841,
          -1.601141095161438,
          -2.119873046875,
          6.594228744506836,
          -10.343722343444824,
          -3.4180235862731934,
          13.865769386291504,
          34.193870544433594,
          -20.068862915039062,
          -5.6946797370910645,
          -27.718090057373047,
          -9.879770278930664,
          4.807591438293457,
          38.85348892211914,
          -19.14750862121582,
          -21.19516944885254,
          -30.578142166137695,
          -6.615231513977051,
          20.772554397583008,
          10.88218879699707,
          -17.0819091796875,
          2.500077486038208,
          51.54071044921875,
          -22.590229034423828,
          3.0423240661621094,
          -15.916434288024902,
          -11.000110626220703,
          -2.2943224906921387,
          -20.933609008789062,
          17.933015823364258,
          10.629279136657715,
          20.965805053710938,
          21.547710418701172,
          -4.256160259246826,
          -4.009514808654785,
          6.112149238586426,
          -26.728599548339844,
          -26.992252349853516,
          -22.35137367248535,
          -27.98721694946289,
          2.322678327560425,
          -17.87065315246582,
          -4.506756782531738,
          -2.706371307373047,
          33.71390151977539,
          14.379342079162598,
          18.589338302612305,
          14.629037857055664,
          17.752567291259766,
          14.981688499450684,
          14.884079933166504,
          -25.79228401184082,
          14.524040222167969,
          -26.222822189331055,
          -26.118497848510742,
          23.485305786132812,
          -6.941220283508301,
          11.2918119430542,
          -5.966477394104004,
          -6.252251148223877,
          -8.727204322814941,
          -8.39237117767334,
          -17.285287857055664,
          -25.942584991455078,
          -7.384603500366211,
          -25.725923538208008,
          -27.11629867553711,
          -10.355547904968262,
          50.90264892578125,
          -19.319438934326172,
          -16.5031795501709,
          -29.382417678833008,
          4.904606342315674,
          10.278817176818848,
          15.662235260009766,
          -24.345155715942383,
          14.74071979522705,
          10.99064826965332,
          -12.407111167907715,
          4.010706424713135,
          20.517635345458984,
          26.543563842773438,
          22.433452606201172,
          4.335005283355713,
          9.14472484588623,
          -10.771391868591309,
          14.109097480773926,
          13.29279899597168,
          -3.6149280071258545,
          -19.010074615478516,
          -21.788150787353516,
          -0.8373432755470276,
          14.07082462310791,
          -11.335981369018555,
          18.995222091674805,
          5.581381797790527,
          20.045562744140625,
          28.327430725097656,
          11.978544235229492,
          -22.14634132385254,
          -22.883676528930664,
          1.791369080543518,
          -0.2459879219532013,
          49.94388198852539,
          5.663516521453857,
          6.029632568359375,
          14.226363182067871,
          -5.413990020751953,
          -13.20229434967041,
          -0.7757959365844727,
          8.755305290222168,
          -20.352684020996094,
          -23.056808471679688,
          20.14299774169922,
          16.282339096069336,
          -2.3793115615844727,
          9.307571411132812,
          35.78489303588867,
          -3.9537761211395264,
          -1.7236323356628418,
          11.87431812286377,
          30.30281639099121,
          -21.068374633789062,
          32.165138244628906,
          23.338939666748047,
          3.9728806018829346,
          4.090048789978027,
          21.201885223388672,
          -10.870620727539062,
          -18.195030212402344,
          -23.689821243286133,
          -2.1283559799194336,
          2.3759469985961914,
          -17.100709915161133,
          -21.162723541259766,
          -18.672731399536133,
          -4.6052727699279785,
          17.872438430786133,
          19.065237045288086,
          31.474376678466797,
          26.388744354248047,
          17.429384231567383,
          16.21458625793457,
          14.585362434387207,
          10.221848487854004,
          -3.8083698749542236,
          12.63375473022461,
          25.168663024902344,
          -6.005208492279053,
          -7.28599214553833,
          14.965516090393066,
          21.37051773071289,
          -1.4755659103393555,
          -9.9635009765625,
          36.28047180175781,
          -13.781654357910156,
          21.5594482421875,
          51.19335174560547,
          -23.33295249938965,
          30.00876808166504,
          -0.999336838722229,
          9.431625366210938,
          5.554224014282227,
          4.725800514221191,
          3.3039419651031494,
          -16.649595260620117,
          -12.701997756958008,
          18.945743560791016,
          -10.413102149963379,
          -7.995728969573975,
          19.605117797851562,
          48.23588562011719,
          18.276844024658203,
          -9.433430671691895,
          24.672542572021484,
          38.92496871948242,
          50.83427810668945,
          -9.642351150512695,
          18.350915908813477,
          -2.835690975189209,
          -11.989639282226562,
          13.227127075195312,
          7.774726390838623,
          6.311528205871582,
          33.63991928100586,
          24.69842529296875,
          32.33543395996094,
          35.56961441040039,
          12.375539779663086,
          3.1381163597106934,
          -13.565764427185059,
          21.6098575592041,
          35.90782928466797,
          -8.646622657775879,
          26.039052963256836,
          -0.024009332060813904,
          50.390296936035156,
          -21.634689331054688,
          -13.909528732299805,
          18.29155921936035,
          -21.12054443359375,
          35.63959884643555,
          1.5382654666900635,
          32.25196838378906,
          15.705668449401855,
          -10.36729621887207,
          34.55912399291992,
          34.47538757324219,
          34.66700744628906,
          -0.6229642629623413,
          35.35660171508789,
          -3.901376724243164,
          15.409818649291992,
          6.082975387573242,
          3.1196165084838867,
          35.13081741333008,
          48.429771423339844,
          34.46757125854492,
          -21.898239135742188,
          34.98248291015625,
          -9.073827743530273,
          34.52009963989258,
          20.494535446166992,
          -21.149696350097656,
          34.68838119506836,
          -2.4462549686431885,
          33.756446838378906,
          24.017318725585938,
          -33.24179458618164,
          35.46636962890625,
          35.01893615722656,
          49.924827575683594,
          23.663002014160156,
          34.90730285644531,
          -14.238821029663086,
          -28.75652313232422,
          -26.44637107849121,
          -14.821854591369629,
          24.192916870117188,
          -20.856212615966797,
          34.718589782714844,
          34.788089752197266,
          -9.878737449645996,
          34.533443450927734,
          -13.69796085357666,
          -19.57326316833496,
          -17.785579681396484,
          -22.098186492919922,
          0.019163580611348152,
          0.6594242453575134,
          29.491559982299805,
          37.621368408203125,
          -8.993825912475586,
          33.749229431152344,
          27.981300354003906,
          -6.877016067504883,
          27.66307258605957,
          27.701398849487305,
          2.9531078338623047,
          11.224357604980469,
          9.771456718444824,
          0.39388805627822876,
          -14.208687782287598,
          -14.648115158081055,
          -26.515377044677734,
          -24.373464584350586,
          7.148146629333496,
          -5.707213878631592,
          -1.4652197360992432,
          23.52454948425293,
          32.32363510131836,
          -25.446575164794922,
          -3.8336758613586426,
          -8.692038536071777,
          24.43799591064453,
          40.637367248535156,
          -0.27799493074417114,
          8.3839693069458,
          -27.37896156311035,
          26.71808624267578,
          3.4040513038635254,
          22.31719398498535,
          15.614407539367676,
          29.3795108795166,
          1.649733543395996,
          -17.133819580078125,
          15.644126892089844,
          32.39048385620117,
          -2.8560686111450195,
          -26.895456314086914,
          19.532987594604492,
          -22.899686813354492,
          -27.955486297607422,
          3.590364694595337,
          24.26041603088379,
          -18.117475509643555,
          3.87913179397583,
          13.27499771118164,
          -1.5338468551635742,
          27.567678451538086,
          8.099706649780273,
          -3.9018704891204834,
          14.914268493652344,
          31.691017150878906,
          10.479894638061523,
          -20.95964241027832,
          8.189373970031738,
          -4.636458396911621,
          0.12396456301212311,
          21.19032096862793,
          -6.30549430847168,
          13.23440933227539,
          -26.15824317932129,
          11.65462875366211,
          -26.085397720336914,
          49.461490631103516,
          -26.249540328979492,
          -26.35378646850586,
          -10.367273330688477,
          -26.863496780395508,
          48.496376037597656,
          -11.08576488494873,
          2.9241576194763184,
          -23.755075454711914,
          -26.35227394104004,
          -27.107677459716797,
          -13.112204551696777,
          51.2046012878418,
          24.074146270751953,
          -22.6701602935791,
          28.986282348632812,
          -10.58021068572998,
          -15.471336364746094,
          -8.721817016601562,
          -6.9727349281311035,
          -4.911017417907715,
          10.466267585754395,
          14.140060424804688,
          12.091758728027344,
          50.033451080322266,
          -8.079955101013184,
          -11.868803024291992,
          -14.09000015258789,
          51.131988525390625,
          28.950746536254883,
          -3.472883701324463,
          0.024543028324842453,
          18.45751953125,
          11.779111862182617,
          -4.532989978790283,
          3.4360363483428955,
          0.14222754538059235,
          -15.50417423248291,
          42.70449447631836,
          29.54923439025879,
          -16.65748405456543,
          17.702314376831055,
          11.936617851257324,
          50.55232238769531,
          12.551183700561523,
          50.051902770996094,
          42.75498962402344,
          -15.163371086120605,
          18.017431259155273,
          29.262697219848633,
          12.290963172912598,
          -25.46405792236328,
          -28.132658004760742,
          -20.03473663330078,
          46.83985137939453,
          2.689507007598877,
          4.492403984069824,
          49.505367279052734,
          -25.965946197509766,
          -20.782899856567383,
          12.410141944885254,
          29.30166244506836,
          24.340869903564453,
          -11.8367280960083,
          -27.5067195892334,
          23.72673988342285,
          -10.047586441040039,
          -24.130403518676758,
          -8.15133285522461,
          11.291472434997559,
          9.162005424499512,
          6.529613018035889,
          21.84087562561035,
          2.5679848194122314,
          18.79973030090332,
          30.056446075439453,
          -11.122804641723633,
          -24.27895164489746,
          51.14834213256836,
          35.40007781982422,
          -23.872201919555664,
          -21.252779006958008,
          24.141387939453125,
          -5.026913642883301,
          32.11905288696289,
          -22.827787399291992,
          23.970497131347656,
          -15.738079071044922,
          -21.967273712158203,
          -8.695067405700684,
          -19.61048698425293,
          18.414222717285156,
          11.554254531860352,
          -27.384754180908203,
          8.196891784667969,
          49.556297302246094,
          11.886614799499512,
          5.306704521179199,
          36.91642761230469,
          50.82709884643555,
          41.29800796508789,
          37.96593475341797,
          20.36766815185547,
          52.22330093383789,
          -5.9499311447143555,
          17.081811904907227,
          20.604448318481445,
          -22.09398078918457,
          3.4023518562316895,
          38.62089157104492,
          -15.4787015914917,
          36.79384231567383,
          -7.558361530303955,
          38.11974334716797,
          38.08332443237305,
          39.48969650268555,
          52.06460189819336,
          40.56272888183594,
          47.855003356933594,
          51.26787185668945,
          37.841426849365234,
          39.92997741699219,
          49.85443878173828,
          36.89907455444336,
          40.17993927001953,
          37.30610275268555,
          37.08155059814453,
          40.6439323425293,
          41.10356903076172,
          38.35397720336914,
          -21.439748764038086,
          41.21101379394531,
          37.965965270996094,
          49.32719421386719,
          39.64897918701172,
          49.16918182373047,
          51.53602600097656,
          -21.21479606628418,
          37.31409454345703,
          39.86073684692383,
          28.14201545715332,
          -4.3491339683532715,
          28.229167938232422,
          -7.734821319580078,
          -11.142011642456055,
          52.04585266113281,
          -7.721113204956055,
          51.719791412353516,
          29.52358055114746,
          -24.17815399169922,
          26.55318832397461,
          -18.030193328857422,
          -9.648454666137695,
          35.472347259521484,
          -11.967811584472656,
          52.773685455322266,
          -14.706765174865723,
          1.8354791402816772,
          25.667259216308594,
          -8.120943069458008,
          28.819852828979492,
          34.72406768798828,
          22.482013702392578,
          2.126283884048462,
          -3.7138302326202393,
          8.372471809387207,
          52.722251892089844,
          10.849532127380371,
          50.14999771118164,
          -2.4956717491149902,
          48.69666290283203,
          -0.31794387102127075,
          11.96113395690918,
          42.93632507324219,
          3.1980884075164795,
          -15.85241413116455,
          22.416364669799805,
          -0.7238603830337524,
          40.664154052734375,
          20.229400634765625,
          3.10654354095459,
          -23.401206970214844,
          -22.333894729614258,
          22.967771530151367,
          -22.25286865234375,
          -21.986034393310547,
          31.85063362121582,
          -22.14478874206543,
          49.432430267333984,
          -22.660226821899414,
          49.15168762207031,
          -21.64750099182129,
          -22.211286544799805,
          51.56511688232422,
          -1.5466277599334717,
          4.305087089538574,
          49.12416076660156,
          49.829627990722656,
          -7.942134857177734,
          -22.077478408813477,
          52.26400375366211,
          -22.032855987548828,
          49.99966812133789,
          49.92974090576172,
          22.771677017211914,
          49.378929138183594,
          50.66450119018555,
          49.63039779663086,
          25.534381866455078,
          20.703062057495117,
          -14.914125442504883,
          43.0246696472168,
          24.762428283691406,
          29.826879501342773,
          29.411706924438477,
          28.70745849609375,
          -11.040597915649414,
          52.20059585571289,
          28.47848129272461,
          28.023883819580078,
          27.708236694335938,
          28.436281204223633,
          28.000375747680664,
          33.992103576660156,
          23.057687759399414,
          22.005651473999023,
          -12.102099418640137,
          51.257564544677734,
          26.1487979888916,
          -21.94858169555664,
          34.96030807495117,
          8.736910820007324,
          26.043853759765625,
          19.938066482543945,
          -27.96928596496582
         ],
         "xaxis": "x",
         "y": [
          21.973949432373047,
          11.358766555786133,
          10.82988452911377,
          -24.32158088684082,
          1.8223190307617188,
          -10.176030158996582,
          16.738203048706055,
          2.6063449382781982,
          0.8505309224128723,
          -7.473766326904297,
          -26.288625717163086,
          -19.34677505493164,
          -13.919172286987305,
          -19.50396728515625,
          18.513750076293945,
          -6.6986470222473145,
          1.0663509368896484,
          -18.436481475830078,
          -10.797087669372559,
          -12.965245246887207,
          11.165736198425293,
          19.24645233154297,
          -12.919869422912598,
          -10.58775520324707,
          -5.834885120391846,
          17.479373931884766,
          7.594585418701172,
          20.841472625732422,
          -1.4923985004425049,
          -8.37651538848877,
          -2.3136162757873535,
          -8.64407730102539,
          -9.47339916229248,
          3.6793439388275146,
          12.834172248840332,
          6.577398777008057,
          -0.1410391479730606,
          7.698945045471191,
          -12.718621253967285,
          19.50507354736328,
          2.991307497024536,
          -21.79613494873047,
          10.045428276062012,
          -6.746670722961426,
          -14.952154159545898,
          -15.248578071594238,
          -16.75471305847168,
          -4.333162784576416,
          19.437040328979492,
          23.496484756469727,
          7.553186893463135,
          -2.899193525314331,
          -23.840139389038086,
          6.2110595703125,
          -20.636260986328125,
          -11.067270278930664,
          -0.5511029362678528,
          -3.391909122467041,
          -13.744298934936523,
          -13.735414505004883,
          -11.96529769897461,
          -0.922499418258667,
          15.490205764770508,
          2.412823438644409,
          -10.019312858581543,
          19.941089630126953,
          6.624288082122803,
          -25.63211441040039,
          20.8519229888916,
          7.695147514343262,
          5.9941816329956055,
          8.221329689025879,
          -7.585121154785156,
          1.0933946371078491,
          -9.393853187561035,
          -24.225955963134766,
          4.720777988433838,
          11.439299583435059,
          20.387741088867188,
          23.912059783935547,
          -0.6944360136985779,
          13.319384574890137,
          6.539612293243408,
          9.908269882202148,
          -25.3194580078125,
          -5.3869948387146,
          14.424031257629395,
          19.41939926147461,
          -8.68319320678711,
          -26.710084915161133,
          -24.143604278564453,
          -20.883691787719727,
          -11.536175727844238,
          9.562812805175781,
          21.171751022338867,
          22.934537887573242,
          5.420323848724365,
          3.801220417022705,
          6.981558799743652,
          -13.693709373474121,
          -12.398347854614258,
          13.627829551696777,
          15.870667457580566,
          16.09139060974121,
          -4.196026802062988,
          0.46747836470603943,
          0.6636123061180115,
          2.1155905723571777,
          -15.099794387817383,
          14.639657020568848,
          10.076371192932129,
          1.8845231533050537,
          -9.807120323181152,
          -0.6933696866035461,
          10.583454132080078,
          -5.434244632720947,
          -7.5317063331604,
          -5.706916809082031,
          -8.218640327453613,
          -6.941282749176025,
          -5.844742774963379,
          6.4401702880859375,
          -25.382936477661133,
          0.543318510055542,
          5.524247169494629,
          -4.669886112213135,
          -0.42983877658843994,
          -26.998809814453125,
          15.465925216674805,
          17.500286102294922,
          2.3516387939453125,
          2.347181558609009,
          7.18111515045166,
          -2.7890641689300537,
          -7.745674133300781,
          4.733098983764648,
          -9.516090393066406,
          1.7290139198303223,
          17.78886604309082,
          12.629232406616211,
          1.4027962684631348,
          14.73109245300293,
          18.749975204467773,
          20.568391799926758,
          -1.450275182723999,
          3.072521209716797,
          -6.248036861419678,
          -3.699633836746216,
          -18.274986267089844,
          -13.809286117553711,
          -4.66397762298584,
          6.855798244476318,
          9.198698043823242,
          -5.519386291503906,
          12.75412654876709,
          -15.708866119384766,
          -13.213109970092773,
          10.284873962402344,
          -1.0248017311096191,
          -16.646089553833008,
          1.0300767421722412,
          2.7858219146728516,
          12.379854202270508,
          14.023124694824219,
          -9.220571517944336,
          -0.9235013723373413,
          21.740060806274414,
          -0.6280006766319275,
          -5.11211633682251,
          9.019707679748535,
          -8.199395179748535,
          23.220434188842773,
          22.838359832763672,
          22.300933837890625,
          -16.067750930786133,
          16.497739791870117,
          12.653644561767578,
          2.610987424850464,
          -7.749861717224121,
          -3.4310708045959473,
          23.357994079589844,
          -12.046282768249512,
          16.351987838745117,
          -26.88715171813965,
          -7.559971809387207,
          20.257488250732422,
          0.43033793568611145,
          -12.569883346557617,
          -7.475771903991699,
          -1.6977237462997437,
          2.6026673316955566,
          -6.9188737869262695,
          6.588040828704834,
          6.808941841125488,
          21.229841232299805,
          4.801762580871582,
          -0.2429163008928299,
          -16.608367919921875,
          -2.1672492027282715,
          -9.824657440185547,
          1.0687153339385986,
          16.608766555786133,
          -11.454519271850586,
          20.125736236572266,
          21.342853546142578,
          -16.62946128845215,
          2.6982314586639404,
          8.158711433410645,
          -3.060960054397583,
          21.535686492919922,
          3.4135372638702393,
          -15.61221694946289,
          1.8971436023712158,
          14.604832649230957,
          20.32786750793457,
          2.499032735824585,
          10.211417198181152,
          -13.657978057861328,
          -3.4564545154571533,
          -3.587388753890991,
          -5.33794641494751,
          -6.640179634094238,
          -8.731415748596191,
          -15.391963958740234,
          -4.469437122344971,
          8.385056495666504,
          20.573665618896484,
          20.801408767700195,
          20.139692306518555,
          20.60569190979004,
          19.58963966369629,
          16.064712524414062,
          8.315638542175293,
          -5.614955425262451,
          -27.54627799987793,
          -12.797781944274902,
          19.33906364440918,
          -10.769861221313477,
          6.463189125061035,
          -27.9890079498291,
          8.624638557434082,
          -10.268177032470703,
          -11.707723617553711,
          -12.40787124633789,
          -17.6701717376709,
          -8.16750431060791,
          9.051619529724121,
          -11.909374237060547,
          -27.742021560668945,
          -26.4154109954834,
          -14.281726837158203,
          13.917548179626465,
          -9.403912544250488,
          16.250106811523438,
          12.062206268310547,
          -3.3125343322753906,
          -25.466190338134766,
          -22.091445922851562,
          -13.645734786987305,
          -7.108752727508545,
          -12.575986862182617,
          -5.887502670288086,
          2.5130090713500977,
          -3.8991897106170654,
          20.033824920654297,
          -10.104269981384277,
          -8.502524375915527,
          -19.07010841369629,
          -20.880184173583984,
          15.069877624511719,
          -19.667268753051758,
          -21.278688430786133,
          -21.44951820373535,
          14.454485893249512,
          -21.096298217773438,
          -13.901637077331543,
          5.7748823165893555,
          -0.6909647583961487,
          9.82794189453125,
          13.424920082092285,
          -1.1918531656265259,
          -4.80777645111084,
          -5.826210021972656,
          -5.584172248840332,
          -13.704115867614746,
          -19.71978759765625,
          -18.12154197692871,
          -21.08579444885254,
          -4.588828086853027,
          21.444705963134766,
          -17.620357513427734,
          -6.651379108428955,
          -22.206789016723633,
          -14.394601821899414,
          10.671013832092285,
          -1.191663146018982,
          -13.511329650878906,
          -23.61469268798828,
          -10.993949890136719,
          -6.349022388458252,
          -19.211528778076172,
          -18.623016357421875,
          -17.38650131225586,
          -19.769672393798828,
          -17.828815460205078,
          -10.29775333404541,
          -20.178659439086914,
          -12.493850708007812,
          -10.522000312805176,
          -20.30061912536621,
          -19.245750427246094,
          -12.87126636505127,
          -21.972816467285156,
          8.19377613067627,
          -22.398075103759766,
          -22.355388641357422,
          -15.86575984954834,
          2.4926958084106445,
          -18.602977752685547,
          -16.79625129699707,
          -15.393970489501953,
          -12.304997444152832,
          -11.282533645629883,
          -17.60049819946289,
          -9.494086265563965,
          -14.006345748901367,
          -19.7652530670166,
          -18.365562438964844,
          -12.476689338684082,
          -3.058114767074585,
          -19.275121688842773,
          -18.050941467285156,
          -18.84943199157715,
          -10.493220329284668,
          -11.538896560668945,
          -1.314568281173706,
          0.6172847747802734,
          -9.373621940612793,
          -8.855795860290527,
          -18.770261764526367,
          -9.18952465057373,
          13.187146186828613,
          -19.12372398376465,
          -13.81190299987793,
          -15.622014999389648,
          -18.1906681060791,
          -24.05649185180664,
          -12.54776668548584,
          -12.827703475952148,
          -14.859538078308105,
          -9.177545547485352,
          9.34349250793457,
          9.35634994506836,
          -8.505062103271484,
          -22.634395599365234,
          16.953990936279297,
          -1.5541719198226929,
          -6.6454548835754395,
          -10.181380271911621,
          -7.268223762512207,
          -11.414351463317871,
          10.13449478149414,
          15.746757507324219,
          23.0150203704834,
          12.682540893554688,
          14.272726058959961,
          8.320383071899414,
          6.538032054901123,
          -8.050698280334473,
          -0.8099824786186218,
          -1.1053588390350342,
          -17.311315536499023,
          13.997509956359863,
          -7.418895721435547,
          4.047123432159424,
          12.159242630004883,
          7.924777984619141,
          16.77880096435547,
          9.470192909240723,
          9.804590225219727,
          -11.967698097229004,
          -11.056326866149902,
          9.757740020751953,
          15.498383522033691,
          18.33751678466797,
          25.4755916595459,
          -2.4727394580841064,
          21.34870147705078,
          15.257303237915039,
          -3.6145105361938477,
          19.33095359802246,
          15.659957885742188,
          11.537633895874023,
          2.8518970012664795,
          15.349311828613281,
          -16.55270004272461,
          14.105620384216309,
          10.526820182800293,
          14.028257369995117,
          18.461624145507812,
          4.071743011474609,
          16.901447296142578,
          15.01712417602539,
          5.751228332519531,
          -7.752138137817383,
          14.530830383300781,
          6.375513076782227,
          -5.101310729980469,
          5.241692543029785,
          -3.510685682296753,
          -9.44227123260498,
          18.220321655273438,
          -9.790079116821289,
          -15.379725456237793,
          25.22896957397461,
          10.231372833251953,
          3.8724634647369385,
          6.13175106048584,
          10.761091232299805,
          1.7496832609176636,
          1.9319957494735718,
          -2.4332737922668457,
          7.0674262046813965,
          8.869291305541992,
          -16.686893463134766,
          5.07759428024292,
          2.1965866088867188,
          0.717871904373169,
          13.071640014648438,
          -17.90180015563965,
          14.010169982910156,
          -4.8333964347839355,
          -18.67234230041504,
          13.019558906555176,
          -4.005497455596924,
          -8.787206649780273,
          13.256881713867188,
          10.735918998718262,
          10.100250244140625,
          9.804034233093262,
          -9.191767692565918,
          10.50928783416748,
          -5.852169036865234,
          5.20477819442749,
          14.554943084716797,
          -9.156410217285156,
          -4.072561264038086,
          12.72502326965332,
          11.173945426940918,
          22.593017578125,
          12.510873794555664,
          12.011222839355469,
          13.693768501281738,
          6.141165733337402,
          -10.453937530517578,
          -3.993377208709717,
          2.601611614227295,
          -16.583280563354492,
          -8.118630409240723,
          -6.515071392059326,
          -16.764631271362305,
          -6.135260105133057,
          -12.421977043151855,
          -2.0916857719421387,
          4.609610557556152,
          0.33578625321388245,
          -16.522192001342773,
          17.699392318725586,
          -8.276928901672363,
          21.799571990966797,
          -7.912961959838867,
          10.979565620422363,
          -23.616987228393555,
          -7.501857280731201,
          -10.484724998474121,
          -3.9730734825134277,
          -11.495427131652832,
          2.2036123275756836,
          1.0066416263580322,
          -2.0578341484069824,
          3.863090753555298,
          4.37176513671875,
          1.3714115619659424,
          1.686368465423584,
          7.7844133377075195,
          15.294734954833984,
          -13.078848838806152,
          -6.9985270500183105,
          -15.727334022521973,
          -5.873162269592285,
          5.103030681610107,
          3.151601791381836,
          -7.426976680755615,
          2.4979891777038574,
          10.206119537353516,
          8.169209480285645,
          7.073991298675537,
          1.7765932083129883,
          -3.8736212253570557,
          12.636651039123535,
          6.952663898468018,
          15.119307518005371,
          -19.901403427124023,
          4.7060322761535645,
          -2.1634271144866943,
          6.02805233001709,
          -1.5094964504241943,
          -24.150753021240234,
          -0.35202524065971375,
          1.7281222343444824,
          0.8015952706336975,
          -18.368595123291016,
          -3.6493875980377197,
          -6.8133344650268555,
          -2.5358920097351074,
          -3.8406550884246826,
          -6.590173244476318,
          -3.348816394805908,
          2.642772912979126,
          6.106496810913086,
          -13.477497100830078,
          4.383663654327393,
          4.559952259063721,
          2.5778753757476807,
          4.7849507331848145,
          5.801285743713379,
          1.4991533756256104,
          -0.9668269157409668,
          -13.7717924118042,
          2.743788242340088,
          -19.56654167175293,
          -8.863066673278809,
          2.7654669284820557,
          -6.449589729309082,
          -1.1914987564086914,
          -10.62450122833252,
          0.011895955540239811,
          -13.567047119140625,
          -6.338968276977539,
          1.3238400220870972,
          -5.425981521606445,
          10.515334129333496,
          -6.545788288116455,
          -11.251501083374023,
          8.323534965515137,
          -6.3614373207092285,
          -21.052875518798828,
          6.785188674926758,
          -4.012736797332764,
          8.856414794921875,
          -5.820451736450195,
          -5.207955360412598,
          3.191105365753174,
          0.1746823936700821,
          11.951214790344238,
          -20.084505081176758,
          0.696199357509613,
          -13.06088638305664,
          1.1406009197235107,
          23.079830169677734,
          -13.348577499389648,
          8.928718566894531,
          -5.791764259338379,
          7.157921314239502,
          16.63262367248535,
          18.08541488647461,
          -9.690107345581055,
          18.065813064575195,
          3.9671225547790527,
          -3.4960176944732666,
          20.034706115722656,
          5.387969493865967,
          -6.559970855712891,
          -8.29273509979248,
          16.319984436035156,
          10.97260570526123,
          12.900359153747559,
          6.626339912414551,
          15.199223518371582,
          -3.7389543056488037,
          -11.243300437927246,
          -4.868836402893066,
          -19.569765090942383,
          1.6041054725646973,
          18.806020736694336,
          19.838193893432617,
          3.9303770065307617,
          21.568668365478516,
          -17.514371871948242,
          8.110222816467285,
          -2.5319557189941406,
          1.5478991270065308,
          -0.6288280487060547,
          -19.208507537841797,
          -6.762907028198242,
          12.261012077331543,
          13.699762344360352,
          16.07062339782715,
          12.832931518554688,
          7.804043769836426,
          -14.084993362426758,
          5.8464555740356445,
          -2.119110107421875,
          -6.2600274085998535,
          1.251202940940857,
          4.354776859283447,
          0.2784308195114136,
          -8.284086227416992,
          6.4305338859558105,
          0.674287736415863,
          -0.12994185090065002,
          -4.0306901931762695,
          -18.964536666870117,
          -20.445228576660156,
          -3.210683822631836,
          -14.945412635803223,
          1.259068250656128,
          -3.0076568126678467,
          -17.321014404296875,
          10.849198341369629,
          8.84959888458252,
          -1.5946117639541626,
          7.077963829040527,
          -21.695411682128906,
          3.6297619342803955,
          -0.5031281113624573,
          15.925256729125977,
          -8.602524757385254,
          10.339961051940918,
          11.817281723022461,
          3.293534994125366,
          3.3418617248535156,
          4.17905855178833,
          10.240273475646973,
          -25.087261199951172,
          -25.404329299926758,
          -14.169276237487793,
          -1.3661653995513916,
          -1.7186954021453857,
          -19.9919490814209,
          -2.910769462585449,
          -7.706521034240723,
          -0.21511483192443848,
          0.9058665037155151,
          -2.2508292198181152,
          -4.469583511352539,
          -7.070000171661377,
          7.733196258544922,
          0.1335638463497162,
          3.636634588241577,
          4.899621963500977,
          -17.086612701416016,
          -6.22304630279541,
          -7.4590349197387695,
          4.7258734703063965,
          3.9059369564056396,
          -8.8331880569458,
          15.169990539550781,
          9.594609260559082,
          9.06857681274414,
          -1.1022652387619019,
          12.599251747131348,
          -17.133432388305664,
          -1.878225564956665,
          -12.944561958312988,
          4.843008995056152,
          14.640796661376953,
          -4.227065563201904,
          7.65765380859375,
          -6.460339069366455,
          -14.402421951293945,
          -9.036449432373047,
          17.32484245300293,
          -24.712635040283203,
          -1.200617790222168,
          -4.564572334289551,
          5.12500524520874,
          -11.49492073059082,
          18.122438430786133,
          -10.01014518737793,
          1.851108193397522,
          -16.410682678222656,
          -9.383515357971191,
          17.583833694458008,
          -6.580636501312256,
          9.164555549621582,
          9.266316413879395,
          3.995785713195801,
          -11.944737434387207,
          -20.536277770996094,
          1.2351031303405762,
          16.744726181030273,
          -12.803247451782227,
          -3.929316520690918,
          -20.5706787109375,
          -4.534631729125977,
          -4.4392852783203125,
          5.181676864624023,
          7.1812920570373535,
          -15.902078628540039,
          -0.7531023025512695,
          3.754324197769165,
          -1.2857093811035156,
          10.928228378295898,
          4.905701637268066,
          0.7990164160728455,
          -5.8566694259643555,
          1.578264832496643,
          -15.024237632751465,
          15.363468170166016,
          6.384877681732178,
          -21.42778205871582,
          -18.8647518157959,
          3.3890585899353027,
          -15.987034797668457,
          -1.8998193740844727,
          6.271303176879883,
          -7.701610088348389,
          22.364845275878906,
          14.337839126586914,
          3.841745138168335,
          7.027989387512207,
          0.7430015802383423,
          9.529994010925293,
          19.441076278686523,
          -1.3355319499969482,
          9.337774276733398,
          14.238422393798828,
          -2.0786781311035156,
          1.0489825010299683,
          8.693830490112305,
          20.30415153503418,
          -1.5213961601257324,
          3.7150611877441406,
          -0.4453408122062683,
          1.1007652282714844,
          5.4391961097717285,
          11.730097770690918,
          19.54771614074707,
          -9.916324615478516,
          5.531024932861328,
          5.521722316741943,
          8.367469787597656,
          -18.852405548095703,
          0.4419473707675934,
          7.719850063323975,
          3.5972213745117188,
          -14.174901008605957,
          -19.895282745361328,
          -18.13007354736328,
          -26.329954147338867,
          -1.7791950702667236,
          -6.69649600982666,
          -3.4446723461151123,
          12.588398933410645,
          5.700613021850586,
          9.202680587768555,
          14.333739280700684,
          9.490983963012695,
          -8.84435749053955,
          2.2567241191864014,
          -23.55293083190918,
          -4.902529239654541,
          1.3115496635437012,
          9.658839225769043,
          3.0971899032592773,
          -15.2980375289917,
          12.223251342773438,
          1.2657511234283447,
          2.005124807357788,
          18.5980224609375,
          -11.480279922485352,
          -16.2912540435791,
          8.539665222167969,
          17.03900718688965,
          -0.12662772834300995,
          7.164813041687012,
          7.549018383026123,
          4.180018901824951,
          9.312554359436035,
          13.294642448425293,
          -17.981334686279297,
          15.674399375915527,
          5.786762714385986,
          9.904337882995605,
          21.218719482421875,
          14.75411319732666,
          4.342515468597412,
          -4.658576011657715,
          9.432363510131836,
          16.48229217529297,
          -1.836385726928711,
          -22.074960708618164,
          16.64641761779785,
          12.775074005126953,
          18.488229751586914,
          20.912841796875,
          6.421151161193848,
          -6.174158573150635,
          -12.493183135986328,
          11.789053916931152,
          14.889618873596191,
          -20.559894561767578,
          8.762553215026855,
          2.603607177734375,
          -9.153521537780762,
          0.8066384196281433,
          -3.8216278553009033,
          11.374673843383789,
          18.077592849731445,
          -9.147100448608398,
          9.966012001037598,
          -14.76559066772461,
          4.993936061859131,
          7.490202903747559,
          4.553734302520752,
          17.130666732788086,
          8.285948753356934,
          -7.404638767242432,
          19.72021484375,
          13.540913581848145,
          4.116883277893066,
          10.92227554321289,
          3.0785999298095703,
          17.871685028076172,
          18.044031143188477,
          -2.1782596111297607,
          1.1445395946502686,
          -4.233644485473633,
          8.25588607788086,
          -1.027184247970581,
          16.807584762573242,
          5.298567771911621,
          -8.207120895385742,
          -10.991070747375488,
          2.236912488937378,
          9.52877140045166,
          3.596684217453003,
          8.128451347351074,
          5.945655822753906,
          -8.013174057006836,
          4.792506217956543,
          5.856017589569092,
          -8.694236755371094,
          5.388920307159424,
          -3.529146432876587,
          -3.547325372695923,
          -11.760425567626953,
          -3.377941131591797,
          -0.7279682755470276,
          -5.856428146362305,
          8.100577354431152,
          -21.469070434570312,
          -21.359146118164062,
          -10.538288116455078,
          -5.873772144317627,
          15.907752990722656,
          11.212139129638672,
          -12.2711820602417,
          -8.633956909179688,
          -20.629493713378906,
          14.993348121643066,
          0.06806600838899612,
          6.58678674697876,
          -13.823772430419922,
          7.61233377456665,
          -4.235905647277832,
          -2.8642187118530273,
          8.034753799438477,
          10.193399429321289,
          -1.1562169790267944,
          -16.889150619506836,
          -17.101903915405273,
          -14.923856735229492,
          6.078091144561768,
          -11.975110054016113,
          -4.13500452041626,
          -13.538114547729492,
          -11.145657539367676,
          -13.180538177490234,
          -8.056097984313965,
          -11.634918212890625,
          -10.049664497375488,
          -8.442109107971191,
          1.9873027801513672,
          -17.850448608398438,
          -13.776259422302246,
          -11.414432525634766,
          -17.126798629760742,
          10.394649505615234,
          -13.243073463439941,
          -2.6382570266723633,
          -17.18399429321289,
          0.47642603516578674,
          -21.104480743408203,
          -16.58852195739746,
          4.155270576477051,
          -12.229368209838867,
          -16.362882614135742,
          -0.7815497517585754,
          7.74468469619751,
          -10.578689575195312,
          -19.043962478637695,
          -16.180803298950195,
          -13.287238121032715,
          -2.1517138481140137,
          -8.650106430053711,
          -13.090287208557129,
          -2.0144498348236084,
          2.636186361312866,
          2.7858548164367676,
          -15.66311264038086,
          8.447965621948242,
          -15.251562118530273,
          -4.393409729003906,
          -14.13352108001709,
          9.364773750305176,
          11.38337516784668,
          -7.020989894866943,
          -0.10180548578500748,
          -6.590593338012695,
          -13.0682954788208,
          -0.7128543257713318,
          -14.615518569946289,
          -4.779644966125488,
          14.693913459777832,
          17.117734909057617,
          -5.187658786773682,
          -4.573178291320801,
          -6.981391429901123,
          12.628830909729004,
          15.608412742614746,
          -1.2341203689575195,
          -2.522681474685669,
          3.75610089302063,
          6.830043315887451,
          -16.827512741088867,
          -18.529415130615234,
          -9.000216484069824,
          -10.269274711608887,
          15.980554580688477,
          6.908153057098389,
          -9.691929817199707,
          14.702199935913086,
          4.807284355163574,
          10.897849082946777,
          -15.275833129882812,
          -6.611000061035156,
          4.442529678344727,
          -21.37771224975586,
          -5.480011940002441,
          -18.12523078918457,
          -6.494229793548584,
          2.7371115684509277,
          -2.84578275680542,
          7.786368370056152,
          4.168672561645508,
          -13.053939819335938,
          0.8404133915901184,
          -9.24924373626709,
          -4.9927144050598145,
          -21.097909927368164,
          -17.255538940429688,
          0.70977383852005,
          -7.236607074737549,
          8.794327735900879,
          4.273871898651123,
          2.1225383281707764,
          -9.172734260559082,
          -0.19282303750514984,
          -10.220653533935547,
          -6.455129146575928,
          4.97999382019043,
          11.740715026855469,
          -24.568838119506836,
          21.812175750732422,
          3.364424467086792,
          1.5333272218704224,
          -18.072702407836914,
          -1.5406479835510254,
          16.861854553222656,
          -3.2090439796447754,
          -2.836038112640381,
          -15.916213035583496,
          -5.862859725952148,
          3.9965574741363525,
          14.657750129699707,
          -7.817582607269287,
          3.332683801651001,
          -12.087471008300781,
          -21.155263900756836,
          14.914637565612793,
          -8.952378273010254,
          -7.147794246673584,
          -10.716314315795898,
          10.921762466430664,
          2.489536762237549,
          23.93964195251465,
          15.445353507995605,
          21.054258346557617,
          14.426352500915527,
          2.66772198677063,
          15.321266174316406,
          2.0580811500549316,
          -9.326074600219727,
          3.5922932624816895,
          7.427474498748779,
          -14.82558536529541,
          -3.6229753494262695,
          -18.40299415588379,
          -7.403158664703369,
          -17.732145309448242,
          0.41624483466148376,
          -26.972848892211914,
          4.237610816955566,
          6.729952335357666,
          -3.771794319152832,
          -4.962149620056152,
          -17.368087768554688,
          -0.6070882678031921,
          -5.739044666290283,
          1.7545713186264038,
          -10.734027862548828,
          -4.156996250152588,
          -10.715258598327637,
          -9.43429183959961,
          10.892422676086426,
          -1.8245481252670288,
          10.478796005249023,
          9.076236724853516,
          15.868858337402344,
          9.424094200134277,
          1.389053463935852,
          12.681645393371582,
          13.378321647644043,
          8.245512008666992,
          12.008766174316406,
          -8.803136825561523,
          4.669666767120361,
          2.445712089538574,
          11.887173652648926,
          8.166902542114258,
          4.600059509277344,
          12.646080017089844,
          -7.376399040222168,
          7.092258453369141,
          -6.315608501434326,
          -22.1894474029541,
          9.144148826599121,
          -1.590429663658142,
          -1.5186642408370972,
          6.725935935974121,
          7.30756950378418,
          11.516778945922852,
          14.596800804138184,
          -0.7475081086158752,
          -3.5309083461761475,
          7.7069878578186035,
          19.053930282592773,
          3.291071653366089,
          13.862931251525879,
          -14.587977409362793,
          15.710628509521484,
          -1.666063904762268,
          -9.023650169372559,
          3.120198965072632,
          -7.330751419067383,
          -17.461193084716797,
          10.505237579345703,
          -15.379047393798828,
          11.958406448364258,
          9.37086296081543,
          -2.9322941303253174,
          -12.340553283691406,
          0.4664291739463806,
          13.127995491027832,
          -14.900054931640625,
          16.0244140625,
          15.233504295349121,
          -16.533884048461914,
          -0.11115559190511703,
          -20.708101272583008,
          -22.51424789428711,
          -6.71683406829834,
          -9.710094451904297,
          6.04732608795166,
          8.257238388061523,
          4.954668045043945,
          8.107712745666504,
          1.5137306451797485,
          5.62971305847168,
          14.17255973815918,
          -12.618605613708496,
          6.749458312988281,
          -6.6253228187561035,
          1.8468774557113647,
          -9.538729667663574,
          1.8673441410064697,
          -1.9693316221237183,
          2.6552419662475586,
          -11.937849044799805,
          11.909635543823242,
          -9.450583457946777,
          6.219022274017334,
          -14.082317352294922,
          -10.503451347351074,
          -22.953508377075195,
          -2.17903208732605,
          0.24018213152885437,
          -7.953926086425781,
          -8.651724815368652,
          0.6535419821739197,
          -14.947578430175781,
          -2.651378631591797,
          -1.053888201713562,
          3.070673942565918,
          4.7603840827941895,
          -10.087117195129395,
          12.243162155151367,
          5.170982837677002,
          0.634935736656189,
          -0.5570521354675293,
          -2.798513412475586,
          10.307868957519531,
          -8.43639850616455,
          0.7674492597579956,
          -22.123018264770508,
          -17.83542823791504,
          -7.1916890144348145,
          -9.080167770385742,
          -15.391942024230957,
          2.4667139053344727,
          -1.5832124948501587,
          -5.814509391784668,
          2.1235766410827637,
          0.011997992172837257,
          -6.756871700286865,
          15.344400405883789,
          -15.455925941467285,
          1.3575912714004517,
          -6.665398597717285,
          -17.430849075317383,
          -1.8610891103744507,
          -7.878525733947754,
          15.297135353088379,
          13.065820693969727,
          -1.7473070621490479,
          -4.481326580047607,
          -8.77242660522461,
          -5.470413684844971,
          6.9427289962768555,
          -5.409327507019043,
          -2.9118924140930176,
          -5.838951110839844,
          4.866724491119385,
          6.826817035675049,
          17.797704696655273,
          -2.404805898666382,
          -15.678053855895996,
          -2.861652374267578,
          -7.03104305267334,
          22.74193000793457,
          -3.8246848583221436,
          3.8376924991607666,
          8.130149841308594,
          -5.194145679473877,
          -4.88648796081543,
          -0.9342893362045288,
          -5.028090000152588,
          -16.31561851501465,
          -7.775510311126709,
          8.475146293640137,
          8.456650733947754,
          -19.1929931640625,
          -8.264002799987793,
          -10.384439468383789,
          9.213111877441406,
          19.713171005249023,
          9.13349723815918,
          5.664241790771484,
          21.93692398071289,
          17.51434898376465,
          21.645227432250977,
          -19.722627639770508,
          7.445446491241455,
          3.2672903537750244,
          -18.178586959838867,
          -12.913030624389648,
          9.014384269714355,
          -5.038144588470459,
          -9.511861801147461,
          3.74214506149292,
          -7.9606499671936035,
          -8.540748596191406,
          -11.943073272705078,
          1.2873449325561523,
          -1.181469440460205,
          1.2230396270751953,
          -20.351716995239258,
          -2.7491648197174072,
          5.527771949768066,
          2.348142623901367,
          -4.838169097900391,
          3.8130364418029785,
          3.599912405014038,
          7.772502899169922,
          20.731454849243164,
          -22.978130340576172,
          16.972078323364258,
          2.2286717891693115,
          -12.92640209197998,
          -3.775369882583618,
          5.506780624389648,
          16.319190979003906,
          19.400489807128906,
          -5.93503999710083,
          8.503084182739258,
          15.318798065185547,
          5.832294464111328,
          -7.910527229309082,
          1.6071009635925293,
          -22.508686065673828,
          -10.282268524169922,
          8.476877212524414,
          9.854072570800781,
          -0.12994663417339325,
          3.6956658363342285,
          16.461267471313477,
          9.944620132446289,
          9.92679500579834,
          23.072219848632812,
          -21.52962303161621,
          -19.63883399963379,
          -6.785889625549316,
          -7.684453964233398,
          5.8848042488098145,
          -6.769887924194336,
          6.355804920196533,
          -0.09411690384149551,
          -15.680548667907715,
          -10.999112129211426,
          -0.735348641872406,
          -19.510578155517578,
          -24.675025939941406,
          -5.220522403717041,
          8.77259349822998,
          21.146442413330078,
          1.6163560152053833,
          7.763617038726807,
          11.051237106323242,
          -13.760114669799805,
          -13.734807968139648,
          2.870065212249756,
          1.0557960271835327,
          -18.781389236450195,
          0.5479368567466736,
          5.565837860107422,
          -1.1028307676315308,
          -7.040751934051514,
          8.316309928894043,
          -5.008444309234619,
          -20.609272003173828,
          -1.4413599967956543,
          0.4144954979419708,
          -11.56694221496582,
          -12.48814582824707,
          -5.689051151275635,
          -0.8906204700469971,
          16.745098114013672,
          9.32501220703125,
          7.2334303855896,
          3.854391098022461,
          6.423101425170898,
          22.75973129272461,
          12.810385704040527,
          -3.194578170776367,
          -8.990570068359375,
          -1.5295820236206055,
          23.132617950439453,
          3.1863837242126465,
          -23.04880142211914,
          -11.476884841918945,
          8.772226333618164,
          -12.667160034179688,
          11.814311027526855,
          5.410889625549316,
          16.909841537475586,
          3.9204165935516357,
          0.8469520211219788,
          6.7218170166015625,
          -21.098318099975586,
          -0.9403352737426758,
          -7.13455867767334,
          -15.600543022155762,
          -4.1261115074157715,
          -8.284127235412598,
          16.365877151489258,
          0.83791184425354,
          -4.918255805969238,
          10.894964218139648,
          8.003364562988281,
          -9.638200759887695,
          5.713718891143799,
          5.422937393188477,
          22.1374454498291,
          -0.2293708622455597,
          7.491843223571777,
          11.734968185424805,
          3.9465677738189697,
          2.5624725818634033,
          15.054327964782715,
          -0.43936991691589355,
          4.722983360290527,
          11.916441917419434,
          -15.092501640319824,
          -10.826580047607422,
          17.04743003845215,
          7.708399295806885,
          1.5356329679489136,
          18.174236297607422,
          20.87069320678711,
          20.421274185180664,
          -10.368602752685547,
          5.836732387542725,
          17.81418800354004,
          -13.75834846496582,
          5.577062129974365,
          -5.201409816741943,
          3.237431526184082,
          0.3533443212509155,
          -10.338167190551758,
          5.484804630279541,
          6.202588081359863,
          18.286134719848633,
          3.7989423274993896,
          13.744710922241211,
          8.966695785522461,
          0.1992519199848175,
          17.464614868164062,
          17.74465560913086,
          17.73794174194336,
          -6.880652904510498,
          17.99835777282715,
          -18.10849380493164,
          -8.789703369140625,
          -10.700337409973145,
          1.106850028038025,
          18.59332275390625,
          3.776515007019043,
          17.974380493164062,
          -20.384037017822266,
          17.098047256469727,
          -0.6230749487876892,
          16.858816146850586,
          -4.885039329528809,
          -19.25860595703125,
          16.123214721679688,
          -6.68064546585083,
          16.857725143432617,
          8.052237510681152,
          -2.8573944568634033,
          17.069787979125977,
          17.8193359375,
          3.4984841346740723,
          8.89986515045166,
          17.054487228393555,
          -8.23298168182373,
          -12.611584663391113,
          -1.8421978950500488,
          -10.644320487976074,
          9.156729698181152,
          -0.8002473711967468,
          17.97166633605957,
          16.680662155151367,
          -9.116654396057129,
          10.065815925598145,
          -10.260027885437012,
          -9.077155113220215,
          -19.169466018676758,
          -20.17082405090332,
          2.434927225112915,
          -13.84148120880127,
          -3.16567063331604,
          11.837132453918457,
          -10.987109184265137,
          19.006025314331055,
          -1.6658074855804443,
          -9.535299301147461,
          -1.6714112758636475,
          -2.5999786853790283,
          -15.153264045715332,
          1.2881746292114258,
          6.744540214538574,
          -13.50729751586914,
          -4.914400577545166,
          2.2157623767852783,
          2.2656874656677246,
          -15.862858772277832,
          -11.679422378540039,
          -1.0161060094833374,
          6.6579389572143555,
          2.4769246578216553,
          0.06059804931282997,
          -2.7142879962921143,
          -9.911784172058105,
          4.199416160583496,
          11.33956527709961,
          7.238237380981445,
          9.10578727722168,
          5.324370384216309,
          -22.85071563720703,
          12.359990119934082,
          19.17622947692871,
          4.898221492767334,
          16.135719299316406,
          7.002035617828369,
          -0.6633327603340149,
          -16.644311904907227,
          12.81995964050293,
          6.463204383850098,
          -4.492855548858643,
          -22.36393165588379,
          16.088037490844727,
          -17.08009147644043,
          -18.60346794128418,
          -0.4783468246459961,
          18.197847366333008,
          -10.994468688964844,
          -10.252378463745117,
          -10.146744728088379,
          -11.860150337219238,
          5.326216697692871,
          -17.369640350341797,
          -8.485856056213379,
          13.915480613708496,
          2.595693349838257,
          19.445850372314453,
          -2.9910757541656494,
          0.6903446912765503,
          8.761300086975098,
          8.157144546508789,
          9.83122444152832,
          14.761937141418457,
          20.787349700927734,
          0.09570670872926712,
          13.986127853393555,
          4.2301506996154785,
          7.019752502441406,
          -4.902414321899414,
          4.067142963409424,
          1.4982017278671265,
          3.756788492202759,
          6.911086082458496,
          2.3752236366271973,
          1.4131147861480713,
          -0.33004114031791687,
          3.987990617752075,
          3.8094825744628906,
          -1.6337571144104004,
          4.552290439605713,
          15.52586841583252,
          -7.978473663330078,
          5.71078634262085,
          -0.0043641068041324615,
          -9.550139427185059,
          -14.562063217163086,
          -19.496929168701172,
          6.300076484680176,
          4.553357124328613,
          7.598517894744873,
          5.323726654052734,
          6.395173072814941,
          17.740219116210938,
          3.3729286193847656,
          -12.11871337890625,
          4.300213813781738,
          -2.0494203567504883,
          -0.05203389376401901,
          5.364258289337158,
          21.26888656616211,
          20.845375061035156,
          -24.55997085571289,
          7.418349266052246,
          7.894706726074219,
          6.523575305938721,
          7.903382778167725,
          3.497211217880249,
          -1.9981915950775146,
          17.59322166442871,
          21.13016128540039,
          7.576782703399658,
          20.913909912109375,
          2.484104871749878,
          7.692454814910889,
          5.598542213439941,
          22.957897186279297,
          12.867424964904785,
          20.83487319946289,
          -6.296631336212158,
          9.02283000946045,
          -18.48168182373047,
          6.426072597503662,
          11.660069465637207,
          -4.632801055908203,
          5.314757347106934,
          -6.257659912109375,
          -2.9233450889587402,
          3.187371253967285,
          12.517325401306152,
          15.851107597351074,
          1.3347406387329102,
          -3.307607889175415,
          5.759418487548828,
          0.6653122901916504,
          -3.3043291568756104,
          8.62147331237793,
          11.390832901000977,
          7.487796783447266,
          8.45950984954834,
          9.519826889038086,
          2.019653797149658,
          12.965865135192871,
          3.580333709716797,
          -9.028785705566406,
          -3.4808602333068848,
          3.624516248703003,
          5.138243198394775,
          6.03039026260376,
          -2.310534715652466,
          5.8277740478515625,
          7.259366989135742,
          2.1977274417877197,
          -3.299567222595215,
          5.086380958557129,
          -3.200798273086548,
          -8.738241195678711,
          -9.931831359863281,
          -19.363649368286133,
          15.746186256408691,
          14.624197006225586,
          -1.6587291955947876,
          9.76098346710205,
          2.8297321796417236,
          4.366623401641846,
          -10.211337089538574,
          12.116539001464844,
          6.280422687530518,
          11.121740341186523,
          11.316715240478516,
          19.383502960205078,
          5.760593891143799,
          -26.89716911315918,
          4.053871154785156,
          19.511930465698242,
          6.935630798339844,
          -1.5258524417877197,
          12.551492691040039,
          -4.003733158111572,
          12.057174682617188,
          -13.00271987915039,
          12.176285743713379,
          11.388073921203613,
          10.740392684936523,
          3.7983269691467285,
          10.69051742553711,
          4.37664270401001,
          2.5241947174072266,
          12.551369667053223,
          10.785209655761719,
          4.161646842956543,
          11.762321472167969,
          10.055588722229004,
          11.763521194458008,
          11.624549865722656,
          11.107807159423828,
          10.975152015686035,
          12.551403045654297,
          -19.876527786254883,
          11.029565811157227,
          11.840241432189941,
          3.157334804534912,
          10.314910888671875,
          6.263195037841797,
          5.843001365661621,
          -19.9306640625,
          12.307498931884766,
          10.541065216064453,
          -2.244702100753784,
          -1.7392042875289917,
          -1.5471129417419434,
          -2.085141181945801,
          -11.836298942565918,
          4.76211404800415,
          8.712126731872559,
          6.3487868309021,
          8.326303482055664,
          -19.24909019470215,
          3.71492600440979,
          -3.5512020587921143,
          1.0519015789031982,
          8.108150482177734,
          -8.080330848693848,
          5.562203884124756,
          -1.3202637434005737,
          10.81887435913086,
          4.490220546722412,
          -17.07730484008789,
          -1.783959150314331,
          8.499374389648438,
          3.7199089527130127,
          1.385794758796692,
          -15.99133014678955,
          -17.84136962890625,
          4.296206951141357,
          -7.697525501251221,
          5.20407772064209,
          -13.659621238708496,
          4.78717565536499,
          10.489324569702148,
          2.2877490520477295,
          7.343132495880127,
          20.368322372436523,
          -2.39443302154541,
          4.834171772003174,
          -7.078483581542969,
          8.777856826782227,
          17.744863510131836,
          -5.2689409255981445,
          -8.156638145446777,
          -19.39705467224121,
          6.08754825592041,
          -19.035192489624023,
          -19.48020362854004,
          2.455540180206299,
          -18.75670623779297,
          4.284358024597168,
          -18.97823143005371,
          3.7697525024414062,
          -17.7844181060791,
          -19.16431999206543,
          2.864128351211548,
          -14.633037567138672,
          -5.586734294891357,
          4.14543342590332,
          7.788000106811523,
          -14.090091705322266,
          -18.6849365234375,
          6.671041488647461,
          -18.811689376831055,
          6.8105669021606445,
          4.198464870452881,
          4.069806098937988,
          6.224687576293945,
          4.262421131134033,
          5.064001083374023,
          3.9395573139190674,
          18.064023971557617,
          -10.781227111816406,
          7.387650966644287,
          7.738082408905029,
          12.880319595336914,
          -1.7850866317749023,
          0.07149355858564377,
          -22.22541046142578,
          3.406694173812866,
          -0.5149237513542175,
          -2.223375082015991,
          -2.539527177810669,
          -0.41413605213165283,
          -2.2366530895233154,
          8.944957733154297,
          6.996079444885254,
          5.7537760734558105,
          -8.189144134521484,
          5.290946960449219,
          5.056819438934326,
          -3.7392992973327637,
          8.564325332641602,
          -18.70098876953125,
          5.056430816650391,
          16.57300567626953,
          -20.794965744018555
         ],
         "yaxis": "y"
        }
       ],
       "layout": {
        "coloraxis": {
         "colorbar": {
          "title": {
           "text": "popularity"
          }
         },
         "colorscale": [
          [
           0,
           "#0d0887"
          ],
          [
           0.1111111111111111,
           "#46039f"
          ],
          [
           0.2222222222222222,
           "#7201a8"
          ],
          [
           0.3333333333333333,
           "#9c179e"
          ],
          [
           0.4444444444444444,
           "#bd3786"
          ],
          [
           0.5555555555555556,
           "#d8576b"
          ],
          [
           0.6666666666666666,
           "#ed7953"
          ],
          [
           0.7777777777777778,
           "#fb9f3a"
          ],
          [
           0.8888888888888888,
           "#fdca26"
          ],
          [
           1,
           "#f0f921"
          ]
         ]
        },
        "legend": {
         "tracegroupgap": 0
        },
        "margin": {
         "t": 60
        },
        "template": {
         "data": {
          "bar": [
           {
            "error_x": {
             "color": "#2a3f5f"
            },
            "error_y": {
             "color": "#2a3f5f"
            },
            "marker": {
             "line": {
              "color": "#E5ECF6",
              "width": 0.5
             },
             "pattern": {
              "fillmode": "overlay",
              "size": 10,
              "solidity": 0.2
             }
            },
            "type": "bar"
           }
          ],
          "barpolar": [
           {
            "marker": {
             "line": {
              "color": "#E5ECF6",
              "width": 0.5
             },
             "pattern": {
              "fillmode": "overlay",
              "size": 10,
              "solidity": 0.2
             }
            },
            "type": "barpolar"
           }
          ],
          "carpet": [
           {
            "aaxis": {
             "endlinecolor": "#2a3f5f",
             "gridcolor": "white",
             "linecolor": "white",
             "minorgridcolor": "white",
             "startlinecolor": "#2a3f5f"
            },
            "baxis": {
             "endlinecolor": "#2a3f5f",
             "gridcolor": "white",
             "linecolor": "white",
             "minorgridcolor": "white",
             "startlinecolor": "#2a3f5f"
            },
            "type": "carpet"
           }
          ],
          "choropleth": [
           {
            "colorbar": {
             "outlinewidth": 0,
             "ticks": ""
            },
            "type": "choropleth"
           }
          ],
          "contour": [
           {
            "colorbar": {
             "outlinewidth": 0,
             "ticks": ""
            },
            "colorscale": [
             [
              0,
              "#0d0887"
             ],
             [
              0.1111111111111111,
              "#46039f"
             ],
             [
              0.2222222222222222,
              "#7201a8"
             ],
             [
              0.3333333333333333,
              "#9c179e"
             ],
             [
              0.4444444444444444,
              "#bd3786"
             ],
             [
              0.5555555555555556,
              "#d8576b"
             ],
             [
              0.6666666666666666,
              "#ed7953"
             ],
             [
              0.7777777777777778,
              "#fb9f3a"
             ],
             [
              0.8888888888888888,
              "#fdca26"
             ],
             [
              1,
              "#f0f921"
             ]
            ],
            "type": "contour"
           }
          ],
          "contourcarpet": [
           {
            "colorbar": {
             "outlinewidth": 0,
             "ticks": ""
            },
            "type": "contourcarpet"
           }
          ],
          "heatmap": [
           {
            "colorbar": {
             "outlinewidth": 0,
             "ticks": ""
            },
            "colorscale": [
             [
              0,
              "#0d0887"
             ],
             [
              0.1111111111111111,
              "#46039f"
             ],
             [
              0.2222222222222222,
              "#7201a8"
             ],
             [
              0.3333333333333333,
              "#9c179e"
             ],
             [
              0.4444444444444444,
              "#bd3786"
             ],
             [
              0.5555555555555556,
              "#d8576b"
             ],
             [
              0.6666666666666666,
              "#ed7953"
             ],
             [
              0.7777777777777778,
              "#fb9f3a"
             ],
             [
              0.8888888888888888,
              "#fdca26"
             ],
             [
              1,
              "#f0f921"
             ]
            ],
            "type": "heatmap"
           }
          ],
          "heatmapgl": [
           {
            "colorbar": {
             "outlinewidth": 0,
             "ticks": ""
            },
            "colorscale": [
             [
              0,
              "#0d0887"
             ],
             [
              0.1111111111111111,
              "#46039f"
             ],
             [
              0.2222222222222222,
              "#7201a8"
             ],
             [
              0.3333333333333333,
              "#9c179e"
             ],
             [
              0.4444444444444444,
              "#bd3786"
             ],
             [
              0.5555555555555556,
              "#d8576b"
             ],
             [
              0.6666666666666666,
              "#ed7953"
             ],
             [
              0.7777777777777778,
              "#fb9f3a"
             ],
             [
              0.8888888888888888,
              "#fdca26"
             ],
             [
              1,
              "#f0f921"
             ]
            ],
            "type": "heatmapgl"
           }
          ],
          "histogram": [
           {
            "marker": {
             "pattern": {
              "fillmode": "overlay",
              "size": 10,
              "solidity": 0.2
             }
            },
            "type": "histogram"
           }
          ],
          "histogram2d": [
           {
            "colorbar": {
             "outlinewidth": 0,
             "ticks": ""
            },
            "colorscale": [
             [
              0,
              "#0d0887"
             ],
             [
              0.1111111111111111,
              "#46039f"
             ],
             [
              0.2222222222222222,
              "#7201a8"
             ],
             [
              0.3333333333333333,
              "#9c179e"
             ],
             [
              0.4444444444444444,
              "#bd3786"
             ],
             [
              0.5555555555555556,
              "#d8576b"
             ],
             [
              0.6666666666666666,
              "#ed7953"
             ],
             [
              0.7777777777777778,
              "#fb9f3a"
             ],
             [
              0.8888888888888888,
              "#fdca26"
             ],
             [
              1,
              "#f0f921"
             ]
            ],
            "type": "histogram2d"
           }
          ],
          "histogram2dcontour": [
           {
            "colorbar": {
             "outlinewidth": 0,
             "ticks": ""
            },
            "colorscale": [
             [
              0,
              "#0d0887"
             ],
             [
              0.1111111111111111,
              "#46039f"
             ],
             [
              0.2222222222222222,
              "#7201a8"
             ],
             [
              0.3333333333333333,
              "#9c179e"
             ],
             [
              0.4444444444444444,
              "#bd3786"
             ],
             [
              0.5555555555555556,
              "#d8576b"
             ],
             [
              0.6666666666666666,
              "#ed7953"
             ],
             [
              0.7777777777777778,
              "#fb9f3a"
             ],
             [
              0.8888888888888888,
              "#fdca26"
             ],
             [
              1,
              "#f0f921"
             ]
            ],
            "type": "histogram2dcontour"
           }
          ],
          "mesh3d": [
           {
            "colorbar": {
             "outlinewidth": 0,
             "ticks": ""
            },
            "type": "mesh3d"
           }
          ],
          "parcoords": [
           {
            "line": {
             "colorbar": {
              "outlinewidth": 0,
              "ticks": ""
             }
            },
            "type": "parcoords"
           }
          ],
          "pie": [
           {
            "automargin": true,
            "type": "pie"
           }
          ],
          "scatter": [
           {
            "fillpattern": {
             "fillmode": "overlay",
             "size": 10,
             "solidity": 0.2
            },
            "type": "scatter"
           }
          ],
          "scatter3d": [
           {
            "line": {
             "colorbar": {
              "outlinewidth": 0,
              "ticks": ""
             }
            },
            "marker": {
             "colorbar": {
              "outlinewidth": 0,
              "ticks": ""
             }
            },
            "type": "scatter3d"
           }
          ],
          "scattercarpet": [
           {
            "marker": {
             "colorbar": {
              "outlinewidth": 0,
              "ticks": ""
             }
            },
            "type": "scattercarpet"
           }
          ],
          "scattergeo": [
           {
            "marker": {
             "colorbar": {
              "outlinewidth": 0,
              "ticks": ""
             }
            },
            "type": "scattergeo"
           }
          ],
          "scattergl": [
           {
            "marker": {
             "colorbar": {
              "outlinewidth": 0,
              "ticks": ""
             }
            },
            "type": "scattergl"
           }
          ],
          "scattermapbox": [
           {
            "marker": {
             "colorbar": {
              "outlinewidth": 0,
              "ticks": ""
             }
            },
            "type": "scattermapbox"
           }
          ],
          "scatterpolar": [
           {
            "marker": {
             "colorbar": {
              "outlinewidth": 0,
              "ticks": ""
             }
            },
            "type": "scatterpolar"
           }
          ],
          "scatterpolargl": [
           {
            "marker": {
             "colorbar": {
              "outlinewidth": 0,
              "ticks": ""
             }
            },
            "type": "scatterpolargl"
           }
          ],
          "scatterternary": [
           {
            "marker": {
             "colorbar": {
              "outlinewidth": 0,
              "ticks": ""
             }
            },
            "type": "scatterternary"
           }
          ],
          "surface": [
           {
            "colorbar": {
             "outlinewidth": 0,
             "ticks": ""
            },
            "colorscale": [
             [
              0,
              "#0d0887"
             ],
             [
              0.1111111111111111,
              "#46039f"
             ],
             [
              0.2222222222222222,
              "#7201a8"
             ],
             [
              0.3333333333333333,
              "#9c179e"
             ],
             [
              0.4444444444444444,
              "#bd3786"
             ],
             [
              0.5555555555555556,
              "#d8576b"
             ],
             [
              0.6666666666666666,
              "#ed7953"
             ],
             [
              0.7777777777777778,
              "#fb9f3a"
             ],
             [
              0.8888888888888888,
              "#fdca26"
             ],
             [
              1,
              "#f0f921"
             ]
            ],
            "type": "surface"
           }
          ],
          "table": [
           {
            "cells": {
             "fill": {
              "color": "#EBF0F8"
             },
             "line": {
              "color": "white"
             }
            },
            "header": {
             "fill": {
              "color": "#C8D4E3"
             },
             "line": {
              "color": "white"
             }
            },
            "type": "table"
           }
          ]
         },
         "layout": {
          "annotationdefaults": {
           "arrowcolor": "#2a3f5f",
           "arrowhead": 0,
           "arrowwidth": 1
          },
          "autotypenumbers": "strict",
          "coloraxis": {
           "colorbar": {
            "outlinewidth": 0,
            "ticks": ""
           }
          },
          "colorscale": {
           "diverging": [
            [
             0,
             "#8e0152"
            ],
            [
             0.1,
             "#c51b7d"
            ],
            [
             0.2,
             "#de77ae"
            ],
            [
             0.3,
             "#f1b6da"
            ],
            [
             0.4,
             "#fde0ef"
            ],
            [
             0.5,
             "#f7f7f7"
            ],
            [
             0.6,
             "#e6f5d0"
            ],
            [
             0.7,
             "#b8e186"
            ],
            [
             0.8,
             "#7fbc41"
            ],
            [
             0.9,
             "#4d9221"
            ],
            [
             1,
             "#276419"
            ]
           ],
           "sequential": [
            [
             0,
             "#0d0887"
            ],
            [
             0.1111111111111111,
             "#46039f"
            ],
            [
             0.2222222222222222,
             "#7201a8"
            ],
            [
             0.3333333333333333,
             "#9c179e"
            ],
            [
             0.4444444444444444,
             "#bd3786"
            ],
            [
             0.5555555555555556,
             "#d8576b"
            ],
            [
             0.6666666666666666,
             "#ed7953"
            ],
            [
             0.7777777777777778,
             "#fb9f3a"
            ],
            [
             0.8888888888888888,
             "#fdca26"
            ],
            [
             1,
             "#f0f921"
            ]
           ],
           "sequentialminus": [
            [
             0,
             "#0d0887"
            ],
            [
             0.1111111111111111,
             "#46039f"
            ],
            [
             0.2222222222222222,
             "#7201a8"
            ],
            [
             0.3333333333333333,
             "#9c179e"
            ],
            [
             0.4444444444444444,
             "#bd3786"
            ],
            [
             0.5555555555555556,
             "#d8576b"
            ],
            [
             0.6666666666666666,
             "#ed7953"
            ],
            [
             0.7777777777777778,
             "#fb9f3a"
            ],
            [
             0.8888888888888888,
             "#fdca26"
            ],
            [
             1,
             "#f0f921"
            ]
           ]
          },
          "colorway": [
           "#636efa",
           "#EF553B",
           "#00cc96",
           "#ab63fa",
           "#FFA15A",
           "#19d3f3",
           "#FF6692",
           "#B6E880",
           "#FF97FF",
           "#FECB52"
          ],
          "font": {
           "color": "#2a3f5f"
          },
          "geo": {
           "bgcolor": "white",
           "lakecolor": "white",
           "landcolor": "#E5ECF6",
           "showlakes": true,
           "showland": true,
           "subunitcolor": "white"
          },
          "hoverlabel": {
           "align": "left"
          },
          "hovermode": "closest",
          "mapbox": {
           "style": "light"
          },
          "paper_bgcolor": "white",
          "plot_bgcolor": "#E5ECF6",
          "polar": {
           "angularaxis": {
            "gridcolor": "white",
            "linecolor": "white",
            "ticks": ""
           },
           "bgcolor": "#E5ECF6",
           "radialaxis": {
            "gridcolor": "white",
            "linecolor": "white",
            "ticks": ""
           }
          },
          "scene": {
           "xaxis": {
            "backgroundcolor": "#E5ECF6",
            "gridcolor": "white",
            "gridwidth": 2,
            "linecolor": "white",
            "showbackground": true,
            "ticks": "",
            "zerolinecolor": "white"
           },
           "yaxis": {
            "backgroundcolor": "#E5ECF6",
            "gridcolor": "white",
            "gridwidth": 2,
            "linecolor": "white",
            "showbackground": true,
            "ticks": "",
            "zerolinecolor": "white"
           },
           "zaxis": {
            "backgroundcolor": "#E5ECF6",
            "gridcolor": "white",
            "gridwidth": 2,
            "linecolor": "white",
            "showbackground": true,
            "ticks": "",
            "zerolinecolor": "white"
           }
          },
          "shapedefaults": {
           "line": {
            "color": "#2a3f5f"
           }
          },
          "ternary": {
           "aaxis": {
            "gridcolor": "white",
            "linecolor": "white",
            "ticks": ""
           },
           "baxis": {
            "gridcolor": "white",
            "linecolor": "white",
            "ticks": ""
           },
           "bgcolor": "#E5ECF6",
           "caxis": {
            "gridcolor": "white",
            "linecolor": "white",
            "ticks": ""
           }
          },
          "title": {
           "x": 0.05
          },
          "xaxis": {
           "automargin": true,
           "gridcolor": "white",
           "linecolor": "white",
           "ticks": "",
           "title": {
            "standoff": 15
           },
           "zerolinecolor": "white",
           "zerolinewidth": 2
          },
          "yaxis": {
           "automargin": true,
           "gridcolor": "white",
           "linecolor": "white",
           "ticks": "",
           "title": {
            "standoff": 15
           },
           "zerolinecolor": "white",
           "zerolinewidth": 2
          }
         }
        },
        "xaxis": {
         "anchor": "y",
         "domain": [
          0,
          1
         ],
         "title": {
          "text": "tsne_1"
         }
        },
        "yaxis": {
         "anchor": "x",
         "domain": [
          0,
          1
         ],
         "title": {
          "text": "tsne_2"
         }
        }
       }
      }
     },
     "metadata": {},
     "output_type": "display_data"
    }
   ],
   "source": [
    "import plotly.express as px\n",
    "\n",
    "tsne_df = pd.DataFrame(item_tsne, columns=[\"tsne_1\", \"tsne_2\"])\n",
    "tsne_df[\"item_id\"] = np.arange(item_tsne.shape[0])\n",
    "tsne_df = tsne_df.merge(items.reset_index())\n",
    "\n",
    "px.scatter(tsne_df, x=\"tsne_1\", y=\"tsne_2\",\n",
    "           color=\"popularity\",\n",
    "           hover_data=[\"item_id\", \"title\", \"popularity\"])"
   ]
  },
  {
   "cell_type": "markdown",
   "metadata": {},
   "source": [
    "### Exercises\n",
    "\n",
    " - Add another layer to the neural network and retrain, compare train/test error.\n",
    " - Try adding more dropout and change layer sizes.\n"
   ]
  },
  {
   "cell_type": "markdown",
   "metadata": {},
   "source": [
    "### A recommendation function for a given user\n",
    "\n",
    "Once the model is trained, the system can be used to recommend a few items for a user that they haven't seen before. The following code does that.\n",
    "\n",
    "- we use the `model.predict` to compute the ratings a user would have given to all items\n",
    "- we build a function that sorts these items and excludes those the user has already seen."
   ]
  },
  {
   "cell_type": "code",
   "execution_count": 40,
   "metadata": {
    "scrolled": true
   },
   "outputs": [],
   "source": [
    "def recommend(user_id, top_n=10):\n",
    "    item_ids = range(1, items['item_id'].max())\n",
    "    seen_mask = all_ratings[\"user_id\"] == user_id\n",
    "    seen_movies = set(all_ratings[seen_mask][\"item_id\"])\n",
    "    item_ids = list(filter(lambda x: x not in seen_movies, item_ids))\n",
    "\n",
    "    user = np.zeros_like(item_ids) \n",
    "    user[:len(item_ids)] = user_id\n",
    "    items_ = np.array(item_ids)\n",
    "    ratings = model.predict([user, items_]).flatten()\n",
    "    top_items = ratings.argsort()[-top_n:][::-1]\n",
    "    return [(indexed_items.loc[item_id][\"title\"], ratings[item_id]) for item_id in top_items]"
   ]
  },
  {
   "cell_type": "code",
   "execution_count": 41,
   "metadata": {},
   "outputs": [
    {
     "name": "stdout",
     "output_type": "stream",
     "text": [
      "\u001b[1m48/48\u001b[0m \u001b[32m━━━━━━━━━━━━━━━━━━━━\u001b[0m\u001b[37m\u001b[0m \u001b[1m0s\u001b[0m 3ms/step\n",
      "    4.8: Letter From Death Row, A (1998)\n",
      "    4.6: Rock, The (1996)\n",
      "    4.5: Eat Drink Man Woman (1994)\n",
      "    4.5: Get Shorty (1995)\n",
      "    4.5: 20,000 Leagues Under the Sea (1954)\n",
      "    4.4: Faster Pussycat! Kill! Kill! (1965)\n",
      "    4.3: Amadeus (1984)\n",
      "    4.3: Wizard of Oz, The (1939)\n",
      "    4.2: Die Hard (1988)\n",
      "    4.2: American Werewolf in London, An (1981)\n"
     ]
    }
   ],
   "source": [
    "for title, pred_rating in recommend(5):\n",
    "    print(\"    %0.1f: %s\" % (pred_rating, title))"
   ]
  },
  {
   "cell_type": "markdown",
   "metadata": {
    "collapsed": false
   },
   "source": [
    "### Exercises\n",
    "\n",
    "- Try modifying our neural network to improve recommendation. You could try adding more layers, or using a different loss function. \n",
    "- Your goal is to improve the Mean Absolute Error on the test set. Show the results of your best model."
   ]
  },
  {
   "cell_type": "code",
   "execution_count": 42,
   "metadata": {
    "collapsed": false
   },
   "outputs": [
    {
     "name": "stderr",
     "output_type": "stream",
     "text": [
      "c:\\Users\\ritup\\anaconda3\\envs\\dsi_participant\\lib\\site-packages\\keras\\src\\layers\\core\\embedding.py:90: UserWarning:\n",
      "\n",
      "Argument `input_length` is deprecated. Just remove it.\n",
      "\n"
     ]
    }
   ],
   "source": [
    "# Extend and improve the model below\n",
    "class RegressionModel(Model):\n",
    "    def __init__(self, embedding_size, max_user_id, max_item_id):\n",
    "        super().__init__()\n",
    "\n",
    "        self.user_embedding = Embedding(output_dim=embedding_size,\n",
    "                                        input_dim=max_user_id + 1,\n",
    "                                        input_length=1,\n",
    "                                        name='user_embedding')\n",
    "        self.item_embedding = Embedding(output_dim=embedding_size,\n",
    "                                        input_dim=max_item_id + 1,\n",
    "                                        input_length=1,\n",
    "                                        name='item_embedding')\n",
    "\n",
    "        # The following two layers don't have parameters.\n",
    "        self.flatten = Flatten()\n",
    "        self.dot = Dot(axes=1)\n",
    "\n",
    "        #additional layer\n",
    "        self.user_transform_layer = Dense(64, activation = 'relu')\n",
    "        self.item_transform_layer = Dense(64, activation = 'relu')\n",
    "\n",
    "    def call(self, inputs):\n",
    "        user_inputs = inputs[0]\n",
    "        item_inputs = inputs[1]\n",
    "\n",
    "        user_vecs = self.flatten(self.user_transform_layer(self.user_embedding(user_inputs)))\n",
    "        item_vecs = self.flatten(self.item_transform_layer(self.item_embedding(item_inputs)))\n",
    "\n",
    "        y = self.dot([user_vecs, item_vecs])\n",
    "        return y\n",
    "\n",
    "\n",
    "model = RegressionModel(embedding_size=64, max_user_id=all_ratings['user_id'].max(), max_item_id=all_ratings['item_id'].max())\n",
    "model.compile(optimizer=\"adam\", loss='mae')"
   ]
  },
  {
   "cell_type": "code",
   "execution_count": 43,
   "metadata": {
    "collapsed": false
   },
   "outputs": [
    {
     "name": "stdout",
     "output_type": "stream",
     "text": [
      "Epoch 1/10\n",
      "\u001b[1m1125/1125\u001b[0m \u001b[32m━━━━━━━━━━━━━━━━━━━━\u001b[0m\u001b[37m\u001b[0m \u001b[1m4s\u001b[0m 3ms/step - loss: 1.4562 - val_loss: 0.7644\n",
      "Epoch 2/10\n",
      "\u001b[1m1125/1125\u001b[0m \u001b[32m━━━━━━━━━━━━━━━━━━━━\u001b[0m\u001b[37m\u001b[0m \u001b[1m3s\u001b[0m 2ms/step - loss: 0.7376 - val_loss: 0.7430\n",
      "Epoch 3/10\n",
      "\u001b[1m1125/1125\u001b[0m \u001b[32m━━━━━━━━━━━━━━━━━━━━\u001b[0m\u001b[37m\u001b[0m \u001b[1m3s\u001b[0m 2ms/step - loss: 0.7113 - val_loss: 0.7376\n",
      "Epoch 4/10\n",
      "\u001b[1m1125/1125\u001b[0m \u001b[32m━━━━━━━━━━━━━━━━━━━━\u001b[0m\u001b[37m\u001b[0m \u001b[1m3s\u001b[0m 2ms/step - loss: 0.6899 - val_loss: 0.7385\n",
      "Epoch 5/10\n",
      "\u001b[1m1125/1125\u001b[0m \u001b[32m━━━━━━━━━━━━━━━━━━━━\u001b[0m\u001b[37m\u001b[0m \u001b[1m2s\u001b[0m 2ms/step - loss: 0.6524 - val_loss: 0.7420\n",
      "Epoch 6/10\n",
      "\u001b[1m1125/1125\u001b[0m \u001b[32m━━━━━━━━━━━━━━━━━━━━\u001b[0m\u001b[37m\u001b[0m \u001b[1m3s\u001b[0m 2ms/step - loss: 0.6232 - val_loss: 0.7476\n",
      "Epoch 7/10\n",
      "\u001b[1m1125/1125\u001b[0m \u001b[32m━━━━━━━━━━━━━━━━━━━━\u001b[0m\u001b[37m\u001b[0m \u001b[1m3s\u001b[0m 2ms/step - loss: 0.5862 - val_loss: 0.7557\n",
      "Epoch 8/10\n",
      "\u001b[1m1125/1125\u001b[0m \u001b[32m━━━━━━━━━━━━━━━━━━━━\u001b[0m\u001b[37m\u001b[0m \u001b[1m3s\u001b[0m 2ms/step - loss: 0.5605 - val_loss: 0.7652\n",
      "Epoch 9/10\n",
      "\u001b[1m1125/1125\u001b[0m \u001b[32m━━━━━━━━━━━━━━━━━━━━\u001b[0m\u001b[37m\u001b[0m \u001b[1m3s\u001b[0m 2ms/step - loss: 0.5375 - val_loss: 0.7701\n",
      "Epoch 10/10\n",
      "\u001b[1m1125/1125\u001b[0m \u001b[32m━━━━━━━━━━━━━━━━━━━━\u001b[0m\u001b[37m\u001b[0m \u001b[1m3s\u001b[0m 2ms/step - loss: 0.5189 - val_loss: 0.7771\n"
     ]
    }
   ],
   "source": [
    "# Training the model\n",
    "history = model.fit([user_id_train, item_id_train], rating_train,\n",
    "                    batch_size=64, epochs=10, validation_split=0.1,\n",
    "                    shuffle=True)"
   ]
  }
 ],
 "metadata": {
  "kernelspec": {
   "display_name": "dsi_participant",
   "language": "python",
   "name": "python3"
  },
  "language_info": {
   "codemirror_mode": {
    "name": "ipython",
    "version": 3
   },
   "file_extension": ".py",
   "mimetype": "text/x-python",
   "name": "python",
   "nbconvert_exporter": "python",
   "pygments_lexer": "ipython3",
   "version": "3.9.19"
  }
 },
 "nbformat": 4,
 "nbformat_minor": 4
}
